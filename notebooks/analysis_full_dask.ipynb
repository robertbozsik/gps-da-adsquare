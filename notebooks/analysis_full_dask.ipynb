{
 "cells": [
  {
   "cell_type": "markdown",
   "metadata": {},
   "source": [
    "### installs"
   ]
  },
  {
   "cell_type": "code",
   "execution_count": 1,
   "metadata": {},
   "outputs": [],
   "source": [
    "# installs\n",
    "# pip3 install numpy\n",
    "# pip3 install pandas\n",
    "# pip3 install shapely\n",
    "# brew install gdal # fiona dependency\n",
    "# pip3 install fiona # geopandas dependency\n",
    "# pip3 install pyproj # geopandas dependency\n",
    "# pip3 install pygeos # geopandas dependency\n",
    "# pip3 install geopandas\n",
    "# pip3 install folium\n",
    "# pip3 install matplotlib\n",
    "# pip3 install seaborn\n",
    "# python -m pip install \"dask[complete]\"\n",
    "# IT DOES NOT WORK\n",
    "# pip3 install git+git://github.com/jsignell/dask-geopandas.git\n",
    "\n",
    "\n",
    "# TRY IT WITH A CONDA ENVIRONMENT\n",
    "# conda create --name adsquare_conda\n",
    "# conda activate adsquare_conda\n",
    "# conda install python=3.9\n",
    "# conda install -c anaconda jupyter\n",
    "# conda install -c anaconda numpy\n",
    "# conda install -c anaconda pandas\n",
    "# conda install -c conda-forge shapely\n",
    "# conda install -c conda-forge geopandas\n",
    "# conda install -c conda-forge folium\n",
    "# conda install -c conda-forge matplotlib\n",
    "# conda install -c anaconda seaborn -> this didn't work -> pip3 install seaborn\n",
    "# conda install -c conda-forge dask\n",
    "# pip install git+git://github.com/jsignell/dask-geopandas.git"
   ]
  },
  {
   "cell_type": "markdown",
   "metadata": {},
   "source": [
    "### imports"
   ]
  },
  {
   "cell_type": "code",
   "execution_count": 65,
   "metadata": {},
   "outputs": [],
   "source": [
    "# imports\n",
    "import pandas as pd\n",
    "import numpy as np\n",
    "import glob\n",
    "import os\n",
    "from pathlib import Path\n",
    "import re\n",
    "import time\n",
    "import pickle\n",
    "import shapely.wkt\n",
    "from shapely.geometry import Point, Polygon\n",
    "import geopandas # as gpd\n",
    "from geopandas.tools import sjoin\n",
    "\n",
    "import dask.dataframe # as ddf\n",
    "import dask_geopandas # as dgpd"
   ]
  },
  {
   "cell_type": "code",
   "execution_count": 3,
   "metadata": {},
   "outputs": [],
   "source": [
    "pd.set_option('display.max_columns', None)\n",
    "pd.set_option('display.max_rows', None)"
   ]
  },
  {
   "cell_type": "markdown",
   "metadata": {},
   "source": [
    "# 1. Analyze the store visitation by date and affinity profile of store visitors."
   ]
  },
  {
   "cell_type": "markdown",
   "metadata": {},
   "source": [
    "## 1.a Resolve the user visits per store, i.e. filter the GPS signals through polygons."
   ]
  },
  {
   "cell_type": "markdown",
   "metadata": {},
   "source": [
    "### abbreviations\n",
    "**df** = Pandas DataFrame \\\n",
    "**gdf** = Geopandas GeoDataFrame \\\n",
    "**ddf** = Dask DataFrame \\\n",
    "**dgdf** = Dask GeoDataFrame"
   ]
  },
  {
   "cell_type": "markdown",
   "metadata": {},
   "source": [
    "### stores"
   ]
  },
  {
   "cell_type": "code",
   "execution_count": 36,
   "metadata": {},
   "outputs": [],
   "source": [
    "stores = pd.read_csv(\"../../assignment_data/stores.csv\")"
   ]
  },
  {
   "cell_type": "code",
   "execution_count": 37,
   "metadata": {},
   "outputs": [],
   "source": [
    "# transform strings to polygons in column \"wkt\"\n",
    "stores[\"wkt\"] = stores[\"wkt\"].apply(lambda x: shapely.wkt.loads(x))"
   ]
  },
  {
   "cell_type": "code",
   "execution_count": 38,
   "metadata": {},
   "outputs": [],
   "source": [
    "# rename \"wkt\" to \"geometry\"\n",
    "stores = stores.rename(columns={\"wkt\": \"geometry\"}) # must be geometry for the geopandas join"
   ]
  },
  {
   "cell_type": "code",
   "execution_count": 39,
   "metadata": {},
   "outputs": [],
   "source": [
    "# transform stores into a GeoDataFrame\n",
    "stores_gdf = geopandas.GeoDataFrame(stores)"
   ]
  },
  {
   "cell_type": "code",
   "execution_count": 40,
   "metadata": {},
   "outputs": [
    {
     "data": {
      "text/html": [
       "<div>\n",
       "<style scoped>\n",
       "    .dataframe tbody tr th:only-of-type {\n",
       "        vertical-align: middle;\n",
       "    }\n",
       "\n",
       "    .dataframe tbody tr th {\n",
       "        vertical-align: top;\n",
       "    }\n",
       "\n",
       "    .dataframe thead th {\n",
       "        text-align: right;\n",
       "    }\n",
       "</style>\n",
       "<table border=\"1\" class=\"dataframe\">\n",
       "  <thead>\n",
       "    <tr style=\"text-align: right;\">\n",
       "      <th></th>\n",
       "      <th>store_id</th>\n",
       "      <th>store_name</th>\n",
       "      <th>geometry</th>\n",
       "    </tr>\n",
       "  </thead>\n",
       "  <tbody>\n",
       "    <tr>\n",
       "      <th>0</th>\n",
       "      <td>place_1</td>\n",
       "      <td>McDonald's</td>\n",
       "      <td>POLYGON ((13.46119 52.47099, 13.46103 52.47066...</td>\n",
       "    </tr>\n",
       "    <tr>\n",
       "      <th>1</th>\n",
       "      <td>place_2</td>\n",
       "      <td>McDonald's</td>\n",
       "      <td>POLYGON ((13.46835 52.54716, 13.46841 52.54716...</td>\n",
       "    </tr>\n",
       "    <tr>\n",
       "      <th>2</th>\n",
       "      <td>place_3</td>\n",
       "      <td>McDonald's</td>\n",
       "      <td>POLYGON ((13.31288 52.41979, 13.31303 52.41966...</td>\n",
       "    </tr>\n",
       "    <tr>\n",
       "      <th>3</th>\n",
       "      <td>place_4</td>\n",
       "      <td>McDonald's</td>\n",
       "      <td>POLYGON ((13.36358 52.56060, 13.36358 52.56061...</td>\n",
       "    </tr>\n",
       "    <tr>\n",
       "      <th>4</th>\n",
       "      <td>place_5</td>\n",
       "      <td>McDonald's</td>\n",
       "      <td>POLYGON ((13.32309 52.56135, 13.32307 52.56128...</td>\n",
       "    </tr>\n",
       "  </tbody>\n",
       "</table>\n",
       "</div>"
      ],
      "text/plain": [
       "  store_id  store_name                                           geometry\n",
       "0  place_1  McDonald's  POLYGON ((13.46119 52.47099, 13.46103 52.47066...\n",
       "1  place_2  McDonald's  POLYGON ((13.46835 52.54716, 13.46841 52.54716...\n",
       "2  place_3  McDonald's  POLYGON ((13.31288 52.41979, 13.31303 52.41966...\n",
       "3  place_4  McDonald's  POLYGON ((13.36358 52.56060, 13.36358 52.56061...\n",
       "4  place_5  McDonald's  POLYGON ((13.32309 52.56135, 13.32307 52.56128..."
      ]
     },
     "execution_count": 40,
     "metadata": {},
     "output_type": "execute_result"
    }
   ],
   "source": [
    "stores_gdf.head()"
   ]
  },
  {
   "cell_type": "code",
   "execution_count": 41,
   "metadata": {},
   "outputs": [
    {
     "data": {
      "text/plain": [
       "geopandas.geodataframe.GeoDataFrame"
      ]
     },
     "execution_count": 41,
     "metadata": {},
     "output_type": "execute_result"
    }
   ],
   "source": [
    "type(stores_gdf) # geopandas.geodataframe.GeoDataFrame"
   ]
  },
  {
   "cell_type": "code",
   "execution_count": 44,
   "metadata": {},
   "outputs": [],
   "source": [
    "# ddf = dask_geopandas.from_dask_dataframe(ddf)\n",
    "# stores_gdf = dg.from_dask_dataframe(stores_gdf)\n",
    "stores_dgdf = dask.dataframe.from_pandas(stores_gdf, npartitions=3)"
   ]
  },
  {
   "cell_type": "code",
   "execution_count": 45,
   "metadata": {},
   "outputs": [
    {
     "data": {
      "text/plain": [
       "dask_geopandas.core.GeoDataFrame"
      ]
     },
     "execution_count": 45,
     "metadata": {},
     "output_type": "execute_result"
    }
   ],
   "source": [
    "type(stores_dgdf) # dask_geopandas.core.GeoDataFrame"
   ]
  },
  {
   "cell_type": "code",
   "execution_count": 47,
   "metadata": {},
   "outputs": [],
   "source": [
    "# save as pickle\n",
    "with open(\"../out_data/stores_dgdf.pickle\", \"wb\") as pickle_file:\n",
    "    pickle.dump(stores_dgdf, pickle_file, protocol=pickle.HIGHEST_PROTOCOL)"
   ]
  },
  {
   "cell_type": "code",
   "execution_count": 48,
   "metadata": {},
   "outputs": [],
   "source": [
    "# check\n",
    "with open(\"../out_data/stores_dgdf.pickle\", \"rb\") as pickle_file:\n",
    "    check_stores_dgdf = pickle.load(pickle_file)"
   ]
  },
  {
   "cell_type": "code",
   "execution_count": 49,
   "metadata": {},
   "outputs": [
    {
     "data": {
      "text/plain": [
       "dask_geopandas.core.GeoDataFrame"
      ]
     },
     "execution_count": 49,
     "metadata": {},
     "output_type": "execute_result"
    }
   ],
   "source": [
    "type(check_stores_dgdf) # dask_geopandas.core.GeoDataFrame"
   ]
  },
  {
   "cell_type": "markdown",
   "metadata": {},
   "source": [
    "### gps_signals"
   ]
  },
  {
   "cell_type": "code",
   "execution_count": 50,
   "metadata": {},
   "outputs": [],
   "source": [
    "# read all gps_signal csv batches with Dask\n",
    "signals_ddf = dask.dataframe.read_csv(\"../../assignment_data/full_data/*.csv\")"
   ]
  },
  {
   "cell_type": "code",
   "execution_count": 12,
   "metadata": {},
   "outputs": [
    {
     "name": "stdout",
     "output_type": "stream",
     "text": [
      "CPU times: user 43.8 s, sys: 9.17 s, total: 53 s\n",
      "Wall time: 25.1 s\n"
     ]
    },
    {
     "data": {
      "text/plain": [
       "(56572824, 4)"
      ]
     },
     "execution_count": 12,
     "metadata": {},
     "output_type": "execute_result"
    }
   ],
   "source": [
    "# shape of signals_ddf\n",
    "a = signals_ddf.shape\n",
    "%time a[0].compute(), a[1]"
   ]
  },
  {
   "cell_type": "code",
   "execution_count": 51,
   "metadata": {},
   "outputs": [
    {
     "data": {
      "text/html": [
       "<div>\n",
       "<style scoped>\n",
       "    .dataframe tbody tr th:only-of-type {\n",
       "        vertical-align: middle;\n",
       "    }\n",
       "\n",
       "    .dataframe tbody tr th {\n",
       "        vertical-align: top;\n",
       "    }\n",
       "\n",
       "    .dataframe thead th {\n",
       "        text-align: right;\n",
       "    }\n",
       "</style>\n",
       "<table border=\"1\" class=\"dataframe\">\n",
       "  <thead>\n",
       "    <tr style=\"text-align: right;\">\n",
       "      <th></th>\n",
       "      <th>device_id</th>\n",
       "      <th>lat</th>\n",
       "      <th>lon</th>\n",
       "      <th>utc_timestamp</th>\n",
       "    </tr>\n",
       "  </thead>\n",
       "  <tbody>\n",
       "    <tr>\n",
       "      <th>0</th>\n",
       "      <td>1</td>\n",
       "      <td>52.67649</td>\n",
       "      <td>13.31543</td>\n",
       "      <td>1609459727000</td>\n",
       "    </tr>\n",
       "    <tr>\n",
       "      <th>1</th>\n",
       "      <td>1</td>\n",
       "      <td>52.67649</td>\n",
       "      <td>13.31542</td>\n",
       "      <td>1609460036000</td>\n",
       "    </tr>\n",
       "    <tr>\n",
       "      <th>2</th>\n",
       "      <td>2</td>\n",
       "      <td>52.57837</td>\n",
       "      <td>13.58217</td>\n",
       "      <td>1609459241000</td>\n",
       "    </tr>\n",
       "    <tr>\n",
       "      <th>3</th>\n",
       "      <td>3</td>\n",
       "      <td>52.58373</td>\n",
       "      <td>13.33309</td>\n",
       "      <td>1609459502000</td>\n",
       "    </tr>\n",
       "    <tr>\n",
       "      <th>4</th>\n",
       "      <td>1</td>\n",
       "      <td>52.67650</td>\n",
       "      <td>13.31548</td>\n",
       "      <td>1609460387000</td>\n",
       "    </tr>\n",
       "  </tbody>\n",
       "</table>\n",
       "</div>"
      ],
      "text/plain": [
       "   device_id       lat       lon  utc_timestamp\n",
       "0          1  52.67649  13.31543  1609459727000\n",
       "1          1  52.67649  13.31542  1609460036000\n",
       "2          2  52.57837  13.58217  1609459241000\n",
       "3          3  52.58373  13.33309  1609459502000\n",
       "4          1  52.67650  13.31548  1609460387000"
      ]
     },
     "execution_count": 51,
     "metadata": {},
     "output_type": "execute_result"
    }
   ],
   "source": [
    "signals_ddf.head()"
   ]
  },
  {
   "cell_type": "code",
   "execution_count": 52,
   "metadata": {},
   "outputs": [],
   "source": [
    "# sort by \"utc_timestamp\" ascending\n",
    "# %time signals[\"utc_timestamp\"].nsmallest(5).compute()"
   ]
  },
  {
   "cell_type": "code",
   "execution_count": 53,
   "metadata": {},
   "outputs": [
    {
     "name": "stdout",
     "output_type": "stream",
     "text": [
      "CPU times: user 15 ms, sys: 623 µs, total: 15.6 ms\n",
      "Wall time: 17.7 ms\n"
     ]
    }
   ],
   "source": [
    "# transform utc_timestamp into yyyy-mm-dd\n",
    "%time signals_ddf[\"utc_timestamp\"] = signals_ddf[\"utc_timestamp\"].astype(\"datetime64[ms]\").dt.to_period(\"D\")"
   ]
  },
  {
   "cell_type": "code",
   "execution_count": 54,
   "metadata": {},
   "outputs": [
    {
     "name": "stdout",
     "output_type": "stream",
     "text": [
      "CPU times: user 5.88 ms, sys: 240 µs, total: 6.12 ms\n",
      "Wall time: 5.96 ms\n"
     ]
    }
   ],
   "source": [
    "# rename \"utc_timestamp\" to \"date\"\n",
    "%time signals_ddf = signals_ddf.rename(columns={\"utc_timestamp\": \"date\"})"
   ]
  },
  {
   "cell_type": "code",
   "execution_count": 55,
   "metadata": {},
   "outputs": [
    {
     "data": {
      "text/html": [
       "<div>\n",
       "<style scoped>\n",
       "    .dataframe tbody tr th:only-of-type {\n",
       "        vertical-align: middle;\n",
       "    }\n",
       "\n",
       "    .dataframe tbody tr th {\n",
       "        vertical-align: top;\n",
       "    }\n",
       "\n",
       "    .dataframe thead th {\n",
       "        text-align: right;\n",
       "    }\n",
       "</style>\n",
       "<table border=\"1\" class=\"dataframe\">\n",
       "  <thead>\n",
       "    <tr style=\"text-align: right;\">\n",
       "      <th></th>\n",
       "      <th>device_id</th>\n",
       "      <th>lat</th>\n",
       "      <th>lon</th>\n",
       "      <th>date</th>\n",
       "    </tr>\n",
       "  </thead>\n",
       "  <tbody>\n",
       "    <tr>\n",
       "      <th>0</th>\n",
       "      <td>1</td>\n",
       "      <td>52.67649</td>\n",
       "      <td>13.31543</td>\n",
       "      <td>2021-01-01</td>\n",
       "    </tr>\n",
       "    <tr>\n",
       "      <th>1</th>\n",
       "      <td>1</td>\n",
       "      <td>52.67649</td>\n",
       "      <td>13.31542</td>\n",
       "      <td>2021-01-01</td>\n",
       "    </tr>\n",
       "    <tr>\n",
       "      <th>2</th>\n",
       "      <td>2</td>\n",
       "      <td>52.57837</td>\n",
       "      <td>13.58217</td>\n",
       "      <td>2021-01-01</td>\n",
       "    </tr>\n",
       "    <tr>\n",
       "      <th>3</th>\n",
       "      <td>3</td>\n",
       "      <td>52.58373</td>\n",
       "      <td>13.33309</td>\n",
       "      <td>2021-01-01</td>\n",
       "    </tr>\n",
       "    <tr>\n",
       "      <th>4</th>\n",
       "      <td>1</td>\n",
       "      <td>52.67650</td>\n",
       "      <td>13.31548</td>\n",
       "      <td>2021-01-01</td>\n",
       "    </tr>\n",
       "  </tbody>\n",
       "</table>\n",
       "</div>"
      ],
      "text/plain": [
       "   device_id       lat       lon        date\n",
       "0          1  52.67649  13.31543  2021-01-01\n",
       "1          1  52.67649  13.31542  2021-01-01\n",
       "2          2  52.57837  13.58217  2021-01-01\n",
       "3          3  52.58373  13.33309  2021-01-01\n",
       "4          1  52.67650  13.31548  2021-01-01"
      ]
     },
     "execution_count": 55,
     "metadata": {},
     "output_type": "execute_result"
    }
   ],
   "source": [
    "signals_ddf.head()"
   ]
  },
  {
   "cell_type": "code",
   "execution_count": 56,
   "metadata": {},
   "outputs": [
    {
     "data": {
      "text/plain": [
       "dask.dataframe.core.DataFrame"
      ]
     },
     "execution_count": 56,
     "metadata": {},
     "output_type": "execute_result"
    }
   ],
   "source": [
    "type(signals_ddf) # dask.dataframe.core.DataFrame"
   ]
  },
  {
   "cell_type": "code",
   "execution_count": 57,
   "metadata": {},
   "outputs": [],
   "source": [
    "# from Dask DataFrame create Dask GeoPandas DataFrame\n",
    "signals_dgdf = dask_geopandas.from_dask_dataframe(signals_ddf) # npartitions=4 ???"
   ]
  },
  {
   "cell_type": "code",
   "execution_count": 58,
   "metadata": {},
   "outputs": [
    {
     "data": {
      "text/plain": [
       "dask_geopandas.core.GeoDataFrame"
      ]
     },
     "execution_count": 58,
     "metadata": {},
     "output_type": "execute_result"
    }
   ],
   "source": [
    "type(signals_dgdf) # dask_geopandas.core.GeoDataFrame"
   ]
  },
  {
   "cell_type": "markdown",
   "metadata": {},
   "source": [
    "https://blog.dask.org/2017/09/21/accelerating-geopandas-1 \\\n",
    "https://github.com/jsignell/dask-geopandas"
   ]
  },
  {
   "cell_type": "code",
   "execution_count": 59,
   "metadata": {},
   "outputs": [
    {
     "name": "stdout",
     "output_type": "stream",
     "text": [
      "Creating POINT from lat lon in gps_signals and transforming the df into a gdf...\n",
      "Creating POINT from lat lon in gps_signals and transforming the df into a gdf took 0.0 minute(s).\n"
     ]
    },
    {
     "name": "stderr",
     "output_type": "stream",
     "text": [
      "/Users/robertbozsik/opt/miniconda3/envs/adsquare_conda/lib/python3.9/site-packages/dask_geopandas/backends.py:31: FutureWarning: The input object of type 'LineString' is an array-like implementing one of the corresponding protocols (`__array__`, `__array_interface__` or `__array_struct__`); but not a sequence (or 0-D). In the future, this object will be coerced as if it was first converted using `np.array(obj)`. To retain the old behaviour, you have to either modify the type 'LineString', or assign to an empty array created with `np.empty(correct_shape, dtype=object)`.\n",
      "  a = np.array(\n"
     ]
    }
   ],
   "source": [
    "# create POINT from lat lon and transform df into gdf\n",
    "start = time.time()\n",
    "print(\"Creating POINT from lat lon in signals_dgdf...\")\n",
    "\n",
    "signals_dgdf = signals_dgdf.set_geometry(dask_geopandas.points_from_xy(signals_dgdf, 'lat', 'lon'))\n",
    "                          \n",
    "end = time.time()\n",
    "dt = end - start\n",
    "print(f\"The above task took {round(dt/60, 2)} minute(s).\")"
   ]
  },
  {
   "cell_type": "code",
   "execution_count": 60,
   "metadata": {},
   "outputs": [],
   "source": [
    "# %time signals_dgdf.head()"
   ]
  },
  {
   "cell_type": "markdown",
   "metadata": {},
   "source": [
    "### join (merge) signals_dgdf and stores_dgdf"
   ]
  },
  {
   "cell_type": "code",
   "execution_count": 67,
   "metadata": {},
   "outputs": [
    {
     "data": {
      "text/plain": [
       "dask_geopandas.core.GeoDataFrame"
      ]
     },
     "execution_count": 67,
     "metadata": {},
     "output_type": "execute_result"
    }
   ],
   "source": [
    "type(signals_dgdf)"
   ]
  },
  {
   "cell_type": "code",
   "execution_count": 68,
   "metadata": {},
   "outputs": [
    {
     "data": {
      "text/plain": [
       "dask_geopandas.core.GeoDataFrame"
      ]
     },
     "execution_count": 68,
     "metadata": {},
     "output_type": "execute_result"
    }
   ],
   "source": [
    "type(stores_dgdf)"
   ]
  },
  {
   "cell_type": "markdown",
   "metadata": {},
   "source": [
    "# HERE I STUCKED"
   ]
  },
  {
   "cell_type": "code",
   "execution_count": 72,
   "metadata": {},
   "outputs": [
    {
     "name": "stdout",
     "output_type": "stream",
     "text": [
      "Joining gps_signals_gdf and stores_gdf...\n"
     ]
    },
    {
     "ename": "AttributeError",
     "evalue": "module 'dask_geopandas' has no attribute 'sjoin'",
     "output_type": "error",
     "traceback": [
      "\u001b[0;31m---------------------------------------------------------------------------\u001b[0m",
      "\u001b[0;31mAttributeError\u001b[0m                            Traceback (most recent call last)",
      "\u001b[0;32m<ipython-input-72-945c4e3e4e92>\u001b[0m in \u001b[0;36m<module>\u001b[0;34m\u001b[0m\n\u001b[1;32m      3\u001b[0m \u001b[0mprint\u001b[0m\u001b[0;34m(\u001b[0m\u001b[0;34m\"Joining gps_signals_gdf and stores_gdf...\"\u001b[0m\u001b[0;34m)\u001b[0m\u001b[0;34m\u001b[0m\u001b[0;34m\u001b[0m\u001b[0m\n\u001b[1;32m      4\u001b[0m \u001b[0;34m\u001b[0m\u001b[0m\n\u001b[0;32m----> 5\u001b[0;31m \u001b[0mgps_sig_and_stores\u001b[0m \u001b[0;34m=\u001b[0m \u001b[0mdg\u001b[0m\u001b[0;34m.\u001b[0m\u001b[0msjoin\u001b[0m\u001b[0;34m(\u001b[0m\u001b[0mgps_signals\u001b[0m\u001b[0;34m,\u001b[0m \u001b[0mstores_gdf\u001b[0m\u001b[0;34m,\u001b[0m \u001b[0mhow\u001b[0m\u001b[0;34m=\u001b[0m\u001b[0;34m\"inner\"\u001b[0m\u001b[0;34m)\u001b[0m\u001b[0;34m\u001b[0m\u001b[0;34m\u001b[0m\u001b[0m\n\u001b[0m\u001b[1;32m      6\u001b[0m \u001b[0;31m# gf = dg.sjoin(gf, zones[['zone', 'borough', 'geometry']])\u001b[0m\u001b[0;34m\u001b[0m\u001b[0;34m\u001b[0m\u001b[0;34m\u001b[0m\u001b[0m\n\u001b[1;32m      7\u001b[0m \u001b[0;34m\u001b[0m\u001b[0m\n",
      "\u001b[0;31mAttributeError\u001b[0m: module 'dask_geopandas' has no attribute 'sjoin'"
     ]
    }
   ],
   "source": [
    "# join signals_dgdf and stores_dgdf\n",
    "start = time.time()\n",
    "print(\"Joining signals_dgdf and stores_dgdf...\")\n",
    "\n",
    "signals_stores_dgdf = dask_geopandas.sjoin(signals_dgdf, stores_dgdf, how=\"inner\")\n",
    "# gf = dg.sjoin(gf, zones[['zone', 'borough', 'geometry']])\n",
    "\n",
    "end = time.time()\n",
    "dt = end - start\n",
    "print(f\"The above task took {round(dt/60, 2)} minute(s).\")"
   ]
  },
  {
   "cell_type": "code",
   "execution_count": null,
   "metadata": {},
   "outputs": [],
   "source": [
    "# shape of signals_stores_dgdf\n",
    "a = signals_stores_dgdf.shape\n",
    "%time a[0].compute(), a[1]"
   ]
  },
  {
   "cell_type": "code",
   "execution_count": null,
   "metadata": {},
   "outputs": [],
   "source": [
    "signals_stores_dgdf.head()"
   ]
  },
  {
   "cell_type": "code",
   "execution_count": null,
   "metadata": {},
   "outputs": [],
   "source": []
  },
  {
   "cell_type": "code",
   "execution_count": null,
   "metadata": {},
   "outputs": [],
   "source": []
  },
  {
   "cell_type": "code",
   "execution_count": null,
   "metadata": {},
   "outputs": [],
   "source": []
  }
 ],
 "metadata": {
  "kernelspec": {
   "display_name": "Python 3",
   "language": "python",
   "name": "python3"
  },
  "language_info": {
   "codemirror_mode": {
    "name": "ipython",
    "version": 3
   },
   "file_extension": ".py",
   "mimetype": "text/x-python",
   "name": "python",
   "nbconvert_exporter": "python",
   "pygments_lexer": "ipython3",
   "version": "3.8.5"
  }
 },
 "nbformat": 4,
 "nbformat_minor": 4
}
