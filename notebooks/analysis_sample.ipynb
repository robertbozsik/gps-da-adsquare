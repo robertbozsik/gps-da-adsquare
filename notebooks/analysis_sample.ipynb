{
 "cells": [
  {
   "cell_type": "markdown",
   "metadata": {},
   "source": [
    "### installs"
   ]
  },
  {
   "cell_type": "code",
   "execution_count": 1,
   "metadata": {},
   "outputs": [],
   "source": [
    "# installs\n",
    "# python3 -m pip install --upgrade pip\n",
    "# python3 -m pip install numpy\n",
    "# python3 -m pip install pandas\n",
    "# python3 -m pip install shapely\n",
    "# brew install gdal # fiona dependency\n",
    "# python3 -m pip install fiona # geopandas dependency\n",
    "# python3 -m pip install pyproj # geopandas dependency\n",
    "# python3 -m pip install pygeos # geopandas dependency\n",
    "# python3 -m pip install geopandas\n",
    "# python3 -m pip install jupyter\n",
    "# python3 -m pip install folium\n",
    "# python3 -m pip install matplotlib\n",
    "# python3 -m pip install seaborn"
   ]
  },
  {
   "cell_type": "markdown",
   "metadata": {},
   "source": [
    "### imports"
   ]
  },
  {
   "cell_type": "code",
   "execution_count": 2,
   "metadata": {},
   "outputs": [
    {
     "name": "stderr",
     "output_type": "stream",
     "text": [
      "/Users/robertbozsik/techtest/adsquare/adsquare_env/lib/python3.8/site-packages/geopandas/_compat.py:106: UserWarning: The Shapely GEOS version (3.8.0-CAPI-1.13.1 ) is incompatible with the GEOS version PyGEOS was compiled with (3.9.0-CAPI-1.16.2). Conversions between both will be slow.\n",
      "  warnings.warn(\n"
     ]
    }
   ],
   "source": [
    "# imports\n",
    "import pandas as pd\n",
    "import numpy as np\n",
    "import glob\n",
    "import os\n",
    "from pathlib import Path\n",
    "import re\n",
    "import time\n",
    "import pickle\n",
    "import shapely.wkt\n",
    "from shapely.geometry import Point, Polygon\n",
    "import geopandas as gpd\n",
    "from geopandas.tools import sjoin"
   ]
  },
  {
   "cell_type": "code",
   "execution_count": 3,
   "metadata": {},
   "outputs": [],
   "source": [
    "pd.set_option('display.max_columns', None)\n",
    "pd.set_option('display.max_rows', None)"
   ]
  },
  {
   "cell_type": "markdown",
   "metadata": {},
   "source": [
    "# 1. Analyze the store visitation by date and affinity profile of store visitors."
   ]
  },
  {
   "cell_type": "markdown",
   "metadata": {},
   "source": [
    "## 1.a Resolve the user visits per store, i.e. filter the GPS signals through polygons."
   ]
  },
  {
   "cell_type": "markdown",
   "metadata": {},
   "source": [
    "### stores"
   ]
  },
  {
   "cell_type": "code",
   "execution_count": 4,
   "metadata": {},
   "outputs": [],
   "source": [
    "stores = pd.read_csv(\"../../assignment_data/stores.csv\")"
   ]
  },
  {
   "cell_type": "code",
   "execution_count": 5,
   "metadata": {},
   "outputs": [
    {
     "data": {
      "text/plain": [
       "(247, 3)"
      ]
     },
     "execution_count": 5,
     "metadata": {},
     "output_type": "execute_result"
    }
   ],
   "source": [
    "stores.shape"
   ]
  },
  {
   "cell_type": "code",
   "execution_count": 6,
   "metadata": {},
   "outputs": [
    {
     "data": {
      "text/plain": [
       "False    247\n",
       "dtype: int64"
      ]
     },
     "execution_count": 6,
     "metadata": {},
     "output_type": "execute_result"
    }
   ],
   "source": [
    "# check for duplicated rows\n",
    "stores.duplicated().value_counts()\n",
    "# there are no duplicates"
   ]
  },
  {
   "cell_type": "code",
   "execution_count": 7,
   "metadata": {},
   "outputs": [
    {
     "data": {
      "text/html": [
       "<div>\n",
       "<style scoped>\n",
       "    .dataframe tbody tr th:only-of-type {\n",
       "        vertical-align: middle;\n",
       "    }\n",
       "\n",
       "    .dataframe tbody tr th {\n",
       "        vertical-align: top;\n",
       "    }\n",
       "\n",
       "    .dataframe thead th {\n",
       "        text-align: right;\n",
       "    }\n",
       "</style>\n",
       "<table border=\"1\" class=\"dataframe\">\n",
       "  <thead>\n",
       "    <tr style=\"text-align: right;\">\n",
       "      <th></th>\n",
       "      <th>store_id</th>\n",
       "      <th>store_name</th>\n",
       "      <th>wkt</th>\n",
       "    </tr>\n",
       "  </thead>\n",
       "  <tbody>\n",
       "    <tr>\n",
       "      <th>0</th>\n",
       "      <td>place_1</td>\n",
       "      <td>McDonald's</td>\n",
       "      <td>POLYGON ((13.4611920000000005 52.4709870000000...</td>\n",
       "    </tr>\n",
       "    <tr>\n",
       "      <th>1</th>\n",
       "      <td>place_2</td>\n",
       "      <td>McDonald's</td>\n",
       "      <td>POLYGON ((13.4683480000000007 52.5471599999999...</td>\n",
       "    </tr>\n",
       "    <tr>\n",
       "      <th>2</th>\n",
       "      <td>place_3</td>\n",
       "      <td>McDonald's</td>\n",
       "      <td>POLYGON ((13.3128810000000009 52.4197929999999...</td>\n",
       "    </tr>\n",
       "    <tr>\n",
       "      <th>3</th>\n",
       "      <td>place_4</td>\n",
       "      <td>McDonald's</td>\n",
       "      <td>POLYGON ((13.3635780000000004 52.5606039999999...</td>\n",
       "    </tr>\n",
       "    <tr>\n",
       "      <th>4</th>\n",
       "      <td>place_5</td>\n",
       "      <td>McDonald's</td>\n",
       "      <td>POLYGON ((13.3230909999999998 52.5613460000000...</td>\n",
       "    </tr>\n",
       "  </tbody>\n",
       "</table>\n",
       "</div>"
      ],
      "text/plain": [
       "  store_id  store_name                                                wkt\n",
       "0  place_1  McDonald's  POLYGON ((13.4611920000000005 52.4709870000000...\n",
       "1  place_2  McDonald's  POLYGON ((13.4683480000000007 52.5471599999999...\n",
       "2  place_3  McDonald's  POLYGON ((13.3128810000000009 52.4197929999999...\n",
       "3  place_4  McDonald's  POLYGON ((13.3635780000000004 52.5606039999999...\n",
       "4  place_5  McDonald's  POLYGON ((13.3230909999999998 52.5613460000000..."
      ]
     },
     "execution_count": 7,
     "metadata": {},
     "output_type": "execute_result"
    }
   ],
   "source": [
    "stores.head()"
   ]
  },
  {
   "cell_type": "code",
   "execution_count": 8,
   "metadata": {},
   "outputs": [],
   "source": [
    "# transform strings to polygons in column \"wkt\"\n",
    "stores[\"wkt\"] = stores[\"wkt\"].apply(lambda x: shapely.wkt.loads(x))"
   ]
  },
  {
   "cell_type": "code",
   "execution_count": 9,
   "metadata": {},
   "outputs": [],
   "source": [
    "# rename \"wkt\" to \"geometry\"\n",
    "stores = stores.rename(columns={\"wkt\": \"geometry\"}) # must be geometry for the geopandas join"
   ]
  },
  {
   "cell_type": "code",
   "execution_count": 10,
   "metadata": {},
   "outputs": [],
   "source": [
    "# type(stores[\"geometry\"][0])"
   ]
  },
  {
   "cell_type": "code",
   "execution_count": 11,
   "metadata": {},
   "outputs": [],
   "source": [
    "# transform stores into a GeoDataFrame\n",
    "stores_gdf = gpd.GeoDataFrame(stores)"
   ]
  },
  {
   "cell_type": "code",
   "execution_count": 12,
   "metadata": {},
   "outputs": [
    {
     "data": {
      "text/html": [
       "<div>\n",
       "<style scoped>\n",
       "    .dataframe tbody tr th:only-of-type {\n",
       "        vertical-align: middle;\n",
       "    }\n",
       "\n",
       "    .dataframe tbody tr th {\n",
       "        vertical-align: top;\n",
       "    }\n",
       "\n",
       "    .dataframe thead th {\n",
       "        text-align: right;\n",
       "    }\n",
       "</style>\n",
       "<table border=\"1\" class=\"dataframe\">\n",
       "  <thead>\n",
       "    <tr style=\"text-align: right;\">\n",
       "      <th></th>\n",
       "      <th>store_id</th>\n",
       "      <th>store_name</th>\n",
       "      <th>geometry</th>\n",
       "    </tr>\n",
       "  </thead>\n",
       "  <tbody>\n",
       "    <tr>\n",
       "      <th>0</th>\n",
       "      <td>place_1</td>\n",
       "      <td>McDonald's</td>\n",
       "      <td>POLYGON ((13.46119 52.47099, 13.46103 52.47066...</td>\n",
       "    </tr>\n",
       "    <tr>\n",
       "      <th>1</th>\n",
       "      <td>place_2</td>\n",
       "      <td>McDonald's</td>\n",
       "      <td>POLYGON ((13.46835 52.54716, 13.46841 52.54716...</td>\n",
       "    </tr>\n",
       "    <tr>\n",
       "      <th>2</th>\n",
       "      <td>place_3</td>\n",
       "      <td>McDonald's</td>\n",
       "      <td>POLYGON ((13.31288 52.41979, 13.31303 52.41966...</td>\n",
       "    </tr>\n",
       "    <tr>\n",
       "      <th>3</th>\n",
       "      <td>place_4</td>\n",
       "      <td>McDonald's</td>\n",
       "      <td>POLYGON ((13.36358 52.56060, 13.36358 52.56061...</td>\n",
       "    </tr>\n",
       "    <tr>\n",
       "      <th>4</th>\n",
       "      <td>place_5</td>\n",
       "      <td>McDonald's</td>\n",
       "      <td>POLYGON ((13.32309 52.56135, 13.32307 52.56128...</td>\n",
       "    </tr>\n",
       "  </tbody>\n",
       "</table>\n",
       "</div>"
      ],
      "text/plain": [
       "  store_id  store_name                                           geometry\n",
       "0  place_1  McDonald's  POLYGON ((13.46119 52.47099, 13.46103 52.47066...\n",
       "1  place_2  McDonald's  POLYGON ((13.46835 52.54716, 13.46841 52.54716...\n",
       "2  place_3  McDonald's  POLYGON ((13.31288 52.41979, 13.31303 52.41966...\n",
       "3  place_4  McDonald's  POLYGON ((13.36358 52.56060, 13.36358 52.56061...\n",
       "4  place_5  McDonald's  POLYGON ((13.32309 52.56135, 13.32307 52.56128..."
      ]
     },
     "execution_count": 12,
     "metadata": {},
     "output_type": "execute_result"
    }
   ],
   "source": [
    "stores_gdf.head()"
   ]
  },
  {
   "cell_type": "code",
   "execution_count": 13,
   "metadata": {},
   "outputs": [
    {
     "data": {
      "text/plain": [
       "(247, 3)"
      ]
     },
     "execution_count": 13,
     "metadata": {},
     "output_type": "execute_result"
    }
   ],
   "source": [
    "stores_gdf.shape"
   ]
  },
  {
   "cell_type": "code",
   "execution_count": 14,
   "metadata": {},
   "outputs": [
    {
     "data": {
      "text/plain": [
       "geopandas.geodataframe.GeoDataFrame"
      ]
     },
     "execution_count": 14,
     "metadata": {},
     "output_type": "execute_result"
    }
   ],
   "source": [
    "type(stores_gdf)"
   ]
  },
  {
   "cell_type": "code",
   "execution_count": 15,
   "metadata": {},
   "outputs": [],
   "source": [
    "# save stores_gdf as geojson for visualization in Tableau\n",
    "stores_gdf.to_file(\"../out_data_sample/stores_gdf.geojson\", driver=\"GeoJSON\")"
   ]
  },
  {
   "cell_type": "code",
   "execution_count": 16,
   "metadata": {},
   "outputs": [],
   "source": [
    "# save stores_gdf as pickle\n",
    "stores_gdf.to_pickle(\"../out_data_sample/stores_gdf.pkl\")"
   ]
  },
  {
   "cell_type": "code",
   "execution_count": 17,
   "metadata": {},
   "outputs": [],
   "source": [
    "# save stores_gdf as pickle\n",
    "# with open(\"../out_data_sample/stores_gdf.pickle\", \"wb\") as pickle_file:\n",
    "#     pickle.dump(stores_gdf, pickle_file, protocol=pickle.HIGHEST_PROTOCOL)"
   ]
  },
  {
   "cell_type": "code",
   "execution_count": 18,
   "metadata": {},
   "outputs": [],
   "source": [
    "# check\n",
    "# with open(\"../../out_data_sample/stores_gdf.pickle\", \"rb\") as picke_file:\n",
    "#     check_stores_gdf = pickle.load(picke_file)"
   ]
  },
  {
   "cell_type": "code",
   "execution_count": 19,
   "metadata": {},
   "outputs": [],
   "source": [
    "# type(check_stores_gdf)"
   ]
  },
  {
   "cell_type": "code",
   "execution_count": 20,
   "metadata": {},
   "outputs": [],
   "source": [
    "# check_stores_gdf.head()"
   ]
  },
  {
   "cell_type": "markdown",
   "metadata": {},
   "source": [
    "### gps_signals"
   ]
  },
  {
   "cell_type": "code",
   "execution_count": 21,
   "metadata": {},
   "outputs": [
    {
     "name": "stdout",
     "output_type": "stream",
     "text": [
      "Reading all gps_signal csv batches...\n",
      "Reading all gps_signal csv batches took 0.13 minute(s).\n"
     ]
    }
   ],
   "source": [
    "# read all gps_signal csv batches\n",
    "gps_signals = pd.DataFrame()\n",
    "\n",
    "start = time.time()\n",
    "print(\"Reading all gps_signal csv batches...\")\n",
    "\n",
    "for file_name in glob.glob(\"../../assignment_data/sample_data/*.csv\"):\n",
    "    batch = pd.read_csv(file_name) # , low_memory=False\n",
    "    gps_signals = pd.concat([gps_signals, batch], ignore_index=True)\n",
    "    \n",
    "end = time.time()\n",
    "dt = end - start\n",
    "print(f\"Reading all gps_signal csv batches took {round(dt/60, 2)} minute(s).\")"
   ]
  },
  {
   "cell_type": "code",
   "execution_count": 22,
   "metadata": {},
   "outputs": [
    {
     "data": {
      "text/plain": [
       "(2262913, 4)"
      ]
     },
     "execution_count": 22,
     "metadata": {},
     "output_type": "execute_result"
    }
   ],
   "source": [
    "gps_signals.shape"
   ]
  },
  {
   "cell_type": "code",
   "execution_count": 23,
   "metadata": {},
   "outputs": [
    {
     "data": {
      "text/plain": [
       "False    2262913\n",
       "dtype: int64"
      ]
     },
     "execution_count": 23,
     "metadata": {},
     "output_type": "execute_result"
    }
   ],
   "source": [
    "# check for duplicated rows\n",
    "gps_signals.duplicated().value_counts()\n",
    "# there are no duplicates"
   ]
  },
  {
   "cell_type": "code",
   "execution_count": 24,
   "metadata": {},
   "outputs": [],
   "source": [
    "# sort by \"utc_timestamp\" ascending\n",
    "gps_signals = gps_signals.sort_values(by=[\"utc_timestamp\"]).reset_index(drop=True)"
   ]
  },
  {
   "cell_type": "code",
   "execution_count": 25,
   "metadata": {},
   "outputs": [],
   "source": [
    "# transform utc_timestamp into yyyy-mm-dd\n",
    "gps_signals[\"utc_timestamp\"] = gps_signals[\"utc_timestamp\"].astype(\"datetime64[ms]\").dt.to_period(\"D\")"
   ]
  },
  {
   "cell_type": "code",
   "execution_count": 26,
   "metadata": {},
   "outputs": [],
   "source": [
    "# rename \"utc_timestamp\" to \"date\"\n",
    "gps_signals = gps_signals.rename(columns={\"utc_timestamp\": \"date\"})"
   ]
  },
  {
   "cell_type": "code",
   "execution_count": 27,
   "metadata": {},
   "outputs": [
    {
     "data": {
      "text/html": [
       "<div>\n",
       "<style scoped>\n",
       "    .dataframe tbody tr th:only-of-type {\n",
       "        vertical-align: middle;\n",
       "    }\n",
       "\n",
       "    .dataframe tbody tr th {\n",
       "        vertical-align: top;\n",
       "    }\n",
       "\n",
       "    .dataframe thead th {\n",
       "        text-align: right;\n",
       "    }\n",
       "</style>\n",
       "<table border=\"1\" class=\"dataframe\">\n",
       "  <thead>\n",
       "    <tr style=\"text-align: right;\">\n",
       "      <th></th>\n",
       "      <th>device_id</th>\n",
       "      <th>lat</th>\n",
       "      <th>lon</th>\n",
       "      <th>date</th>\n",
       "    </tr>\n",
       "  </thead>\n",
       "  <tbody>\n",
       "    <tr>\n",
       "      <th>0</th>\n",
       "      <td>49129</td>\n",
       "      <td>52.554570</td>\n",
       "      <td>13.574010</td>\n",
       "      <td>2021-01-01</td>\n",
       "    </tr>\n",
       "    <tr>\n",
       "      <th>1</th>\n",
       "      <td>46744</td>\n",
       "      <td>52.419566</td>\n",
       "      <td>13.208267</td>\n",
       "      <td>2021-01-01</td>\n",
       "    </tr>\n",
       "    <tr>\n",
       "      <th>2</th>\n",
       "      <td>22268</td>\n",
       "      <td>52.568431</td>\n",
       "      <td>13.523719</td>\n",
       "      <td>2021-01-01</td>\n",
       "    </tr>\n",
       "    <tr>\n",
       "      <th>3</th>\n",
       "      <td>41158</td>\n",
       "      <td>52.493060</td>\n",
       "      <td>13.380740</td>\n",
       "      <td>2021-01-01</td>\n",
       "    </tr>\n",
       "    <tr>\n",
       "      <th>4</th>\n",
       "      <td>31401</td>\n",
       "      <td>52.517286</td>\n",
       "      <td>13.317811</td>\n",
       "      <td>2021-01-01</td>\n",
       "    </tr>\n",
       "  </tbody>\n",
       "</table>\n",
       "</div>"
      ],
      "text/plain": [
       "   device_id        lat        lon        date\n",
       "0      49129  52.554570  13.574010  2021-01-01\n",
       "1      46744  52.419566  13.208267  2021-01-01\n",
       "2      22268  52.568431  13.523719  2021-01-01\n",
       "3      41158  52.493060  13.380740  2021-01-01\n",
       "4      31401  52.517286  13.317811  2021-01-01"
      ]
     },
     "execution_count": 27,
     "metadata": {},
     "output_type": "execute_result"
    }
   ],
   "source": [
    "gps_signals.head()"
   ]
  },
  {
   "cell_type": "code",
   "execution_count": 28,
   "metadata": {},
   "outputs": [
    {
     "data": {
      "text/plain": [
       "(2262913, 4)"
      ]
     },
     "execution_count": 28,
     "metadata": {},
     "output_type": "execute_result"
    }
   ],
   "source": [
    "gps_signals.shape"
   ]
  },
  {
   "cell_type": "code",
   "execution_count": 29,
   "metadata": {},
   "outputs": [
    {
     "name": "stdout",
     "output_type": "stream",
     "text": [
      "Creating POINT from lat lon in gps_signals and transforming the df into a gdf...\n",
      "Creating POINT from lat lon in gps_signals and transforming the df into a gdf took 0.02 minute(s).\n"
     ]
    }
   ],
   "source": [
    "# create POINT from lat lon and transform df into gdf\n",
    "start = time.time()\n",
    "print(\"Creating POINT from lat lon in gps_signals and transforming the df into a gdf...\")\n",
    "\n",
    "gps_signals_gdf = gpd.GeoDataFrame(gps_signals, \n",
    "                                   geometry=gpd.points_from_xy(gps_signals[\"lon\"], gps_signals[\"lat\"]))\n",
    "\n",
    "end = time.time()\n",
    "dt = end - start\n",
    "print(f\"Creating POINT from lat lon in gps_signals and transforming the df into a gdf took {round(dt/60, 2)} minute(s).\")"
   ]
  },
  {
   "cell_type": "code",
   "execution_count": 30,
   "metadata": {},
   "outputs": [
    {
     "data": {
      "text/html": [
       "<div>\n",
       "<style scoped>\n",
       "    .dataframe tbody tr th:only-of-type {\n",
       "        vertical-align: middle;\n",
       "    }\n",
       "\n",
       "    .dataframe tbody tr th {\n",
       "        vertical-align: top;\n",
       "    }\n",
       "\n",
       "    .dataframe thead th {\n",
       "        text-align: right;\n",
       "    }\n",
       "</style>\n",
       "<table border=\"1\" class=\"dataframe\">\n",
       "  <thead>\n",
       "    <tr style=\"text-align: right;\">\n",
       "      <th></th>\n",
       "      <th>device_id</th>\n",
       "      <th>lat</th>\n",
       "      <th>lon</th>\n",
       "      <th>date</th>\n",
       "      <th>geometry</th>\n",
       "    </tr>\n",
       "  </thead>\n",
       "  <tbody>\n",
       "    <tr>\n",
       "      <th>0</th>\n",
       "      <td>49129</td>\n",
       "      <td>52.554570</td>\n",
       "      <td>13.574010</td>\n",
       "      <td>2021-01-01</td>\n",
       "      <td>POINT (13.57401 52.55457)</td>\n",
       "    </tr>\n",
       "    <tr>\n",
       "      <th>1</th>\n",
       "      <td>46744</td>\n",
       "      <td>52.419566</td>\n",
       "      <td>13.208267</td>\n",
       "      <td>2021-01-01</td>\n",
       "      <td>POINT (13.20827 52.41957)</td>\n",
       "    </tr>\n",
       "    <tr>\n",
       "      <th>2</th>\n",
       "      <td>22268</td>\n",
       "      <td>52.568431</td>\n",
       "      <td>13.523719</td>\n",
       "      <td>2021-01-01</td>\n",
       "      <td>POINT (13.52372 52.56843)</td>\n",
       "    </tr>\n",
       "    <tr>\n",
       "      <th>3</th>\n",
       "      <td>41158</td>\n",
       "      <td>52.493060</td>\n",
       "      <td>13.380740</td>\n",
       "      <td>2021-01-01</td>\n",
       "      <td>POINT (13.38074 52.49306)</td>\n",
       "    </tr>\n",
       "    <tr>\n",
       "      <th>4</th>\n",
       "      <td>31401</td>\n",
       "      <td>52.517286</td>\n",
       "      <td>13.317811</td>\n",
       "      <td>2021-01-01</td>\n",
       "      <td>POINT (13.31781 52.51729)</td>\n",
       "    </tr>\n",
       "  </tbody>\n",
       "</table>\n",
       "</div>"
      ],
      "text/plain": [
       "   device_id        lat        lon        date                   geometry\n",
       "0      49129  52.554570  13.574010  2021-01-01  POINT (13.57401 52.55457)\n",
       "1      46744  52.419566  13.208267  2021-01-01  POINT (13.20827 52.41957)\n",
       "2      22268  52.568431  13.523719  2021-01-01  POINT (13.52372 52.56843)\n",
       "3      41158  52.493060  13.380740  2021-01-01  POINT (13.38074 52.49306)\n",
       "4      31401  52.517286  13.317811  2021-01-01  POINT (13.31781 52.51729)"
      ]
     },
     "execution_count": 30,
     "metadata": {},
     "output_type": "execute_result"
    }
   ],
   "source": [
    "gps_signals_gdf.head()"
   ]
  },
  {
   "cell_type": "markdown",
   "metadata": {},
   "source": [
    "### spatial join gps_signals_gdf and stores_gdf"
   ]
  },
  {
   "cell_type": "code",
   "execution_count": 31,
   "metadata": {},
   "outputs": [
    {
     "data": {
      "text/plain": [
       "(2262913, 5)"
      ]
     },
     "execution_count": 31,
     "metadata": {},
     "output_type": "execute_result"
    }
   ],
   "source": [
    "gps_signals_gdf.shape"
   ]
  },
  {
   "cell_type": "code",
   "execution_count": 32,
   "metadata": {},
   "outputs": [
    {
     "data": {
      "text/plain": [
       "(247, 3)"
      ]
     },
     "execution_count": 32,
     "metadata": {},
     "output_type": "execute_result"
    }
   ],
   "source": [
    "stores_gdf.shape"
   ]
  },
  {
   "cell_type": "code",
   "execution_count": 33,
   "metadata": {},
   "outputs": [
    {
     "name": "stdout",
     "output_type": "stream",
     "text": [
      "Joining gps_signals_gdf and stores_gdf...\n",
      "Joining gps_signals_gdf and stores_gdf took 0.05 minute(s).\n",
      "Joining gps_signals_gdf and stores_gdf took 2.78 seconds.\n"
     ]
    }
   ],
   "source": [
    "# spatial join gps_signals_gdf and stores_gdf\n",
    "start = time.time()\n",
    "print(\"Joining gps_signals_gdf and stores_gdf...\")\n",
    "\n",
    "gps_sig_and_stores = sjoin(gps_signals_gdf, stores_gdf, how=\"inner\")\n",
    "\n",
    "end = time.time()\n",
    "dt = end - start\n",
    "print(f\"Joining gps_signals_gdf and stores_gdf took {round(dt/60, 2)} minute(s).\")\n",
    "print(f\"Joining gps_signals_gdf and stores_gdf took {round(dt, 2)} seconds.\")"
   ]
  },
  {
   "cell_type": "code",
   "execution_count": 34,
   "metadata": {},
   "outputs": [],
   "source": [
    "# reset index after the inner spatial join\n",
    "gps_sig_and_stores = gps_sig_and_stores.reset_index(drop=True)"
   ]
  },
  {
   "cell_type": "code",
   "execution_count": 35,
   "metadata": {},
   "outputs": [
    {
     "data": {
      "text/plain": [
       "(2747, 8)"
      ]
     },
     "execution_count": 35,
     "metadata": {},
     "output_type": "execute_result"
    }
   ],
   "source": [
    "gps_sig_and_stores.shape"
   ]
  },
  {
   "cell_type": "code",
   "execution_count": 36,
   "metadata": {},
   "outputs": [
    {
     "data": {
      "text/html": [
       "<div>\n",
       "<style scoped>\n",
       "    .dataframe tbody tr th:only-of-type {\n",
       "        vertical-align: middle;\n",
       "    }\n",
       "\n",
       "    .dataframe tbody tr th {\n",
       "        vertical-align: top;\n",
       "    }\n",
       "\n",
       "    .dataframe thead th {\n",
       "        text-align: right;\n",
       "    }\n",
       "</style>\n",
       "<table border=\"1\" class=\"dataframe\">\n",
       "  <thead>\n",
       "    <tr style=\"text-align: right;\">\n",
       "      <th></th>\n",
       "      <th>device_id</th>\n",
       "      <th>lat</th>\n",
       "      <th>lon</th>\n",
       "      <th>date</th>\n",
       "      <th>geometry</th>\n",
       "      <th>index_right</th>\n",
       "      <th>store_id</th>\n",
       "      <th>store_name</th>\n",
       "    </tr>\n",
       "  </thead>\n",
       "  <tbody>\n",
       "    <tr>\n",
       "      <th>0</th>\n",
       "      <td>41282</td>\n",
       "      <td>52.485340</td>\n",
       "      <td>13.368210</td>\n",
       "      <td>2021-01-01</td>\n",
       "      <td>POINT (13.36821 52.48534)</td>\n",
       "      <td>237</td>\n",
       "      <td>place_238</td>\n",
       "      <td>Renault</td>\n",
       "    </tr>\n",
       "    <tr>\n",
       "      <th>1</th>\n",
       "      <td>78319</td>\n",
       "      <td>52.485390</td>\n",
       "      <td>13.368412</td>\n",
       "      <td>2021-01-05</td>\n",
       "      <td>POINT (13.36841 52.48539)</td>\n",
       "      <td>237</td>\n",
       "      <td>place_238</td>\n",
       "      <td>Renault</td>\n",
       "    </tr>\n",
       "    <tr>\n",
       "      <th>2</th>\n",
       "      <td>7065</td>\n",
       "      <td>52.485320</td>\n",
       "      <td>13.368430</td>\n",
       "      <td>2021-01-07</td>\n",
       "      <td>POINT (13.36843 52.48532)</td>\n",
       "      <td>237</td>\n",
       "      <td>place_238</td>\n",
       "      <td>Renault</td>\n",
       "    </tr>\n",
       "    <tr>\n",
       "      <th>3</th>\n",
       "      <td>78319</td>\n",
       "      <td>52.485324</td>\n",
       "      <td>13.368606</td>\n",
       "      <td>2021-01-11</td>\n",
       "      <td>POINT (13.36861 52.48532)</td>\n",
       "      <td>237</td>\n",
       "      <td>place_238</td>\n",
       "      <td>Renault</td>\n",
       "    </tr>\n",
       "    <tr>\n",
       "      <th>4</th>\n",
       "      <td>38190</td>\n",
       "      <td>52.485382</td>\n",
       "      <td>13.368311</td>\n",
       "      <td>2021-01-13</td>\n",
       "      <td>POINT (13.36831 52.48538)</td>\n",
       "      <td>237</td>\n",
       "      <td>place_238</td>\n",
       "      <td>Renault</td>\n",
       "    </tr>\n",
       "  </tbody>\n",
       "</table>\n",
       "</div>"
      ],
      "text/plain": [
       "   device_id        lat        lon        date                   geometry  \\\n",
       "0      41282  52.485340  13.368210  2021-01-01  POINT (13.36821 52.48534)   \n",
       "1      78319  52.485390  13.368412  2021-01-05  POINT (13.36841 52.48539)   \n",
       "2       7065  52.485320  13.368430  2021-01-07  POINT (13.36843 52.48532)   \n",
       "3      78319  52.485324  13.368606  2021-01-11  POINT (13.36861 52.48532)   \n",
       "4      38190  52.485382  13.368311  2021-01-13  POINT (13.36831 52.48538)   \n",
       "\n",
       "   index_right   store_id store_name  \n",
       "0          237  place_238    Renault  \n",
       "1          237  place_238    Renault  \n",
       "2          237  place_238    Renault  \n",
       "3          237  place_238    Renault  \n",
       "4          237  place_238    Renault  "
      ]
     },
     "execution_count": 36,
     "metadata": {},
     "output_type": "execute_result"
    }
   ],
   "source": [
    "gps_sig_and_stores.head()"
   ]
  },
  {
   "cell_type": "code",
   "execution_count": 37,
   "metadata": {},
   "outputs": [
    {
     "data": {
      "text/html": [
       "<div>\n",
       "<style scoped>\n",
       "    .dataframe tbody tr th:only-of-type {\n",
       "        vertical-align: middle;\n",
       "    }\n",
       "\n",
       "    .dataframe tbody tr th {\n",
       "        vertical-align: top;\n",
       "    }\n",
       "\n",
       "    .dataframe thead th {\n",
       "        text-align: right;\n",
       "    }\n",
       "</style>\n",
       "<table border=\"1\" class=\"dataframe\">\n",
       "  <thead>\n",
       "    <tr style=\"text-align: right;\">\n",
       "      <th></th>\n",
       "      <th>device_id</th>\n",
       "      <th>lat</th>\n",
       "      <th>lon</th>\n",
       "      <th>date</th>\n",
       "      <th>geometry</th>\n",
       "      <th>index_right</th>\n",
       "      <th>store_id</th>\n",
       "      <th>store_name</th>\n",
       "    </tr>\n",
       "  </thead>\n",
       "  <tbody>\n",
       "    <tr>\n",
       "      <th>2742</th>\n",
       "      <td>47868</td>\n",
       "      <td>52.442190</td>\n",
       "      <td>13.585334</td>\n",
       "      <td>2021-01-19</td>\n",
       "      <td>POINT (13.58533 52.44219)</td>\n",
       "      <td>70</td>\n",
       "      <td>place_71</td>\n",
       "      <td>Aldi</td>\n",
       "    </tr>\n",
       "    <tr>\n",
       "      <th>2743</th>\n",
       "      <td>21441</td>\n",
       "      <td>52.442287</td>\n",
       "      <td>13.585510</td>\n",
       "      <td>2021-01-21</td>\n",
       "      <td>POINT (13.58551 52.44229)</td>\n",
       "      <td>70</td>\n",
       "      <td>place_71</td>\n",
       "      <td>Aldi</td>\n",
       "    </tr>\n",
       "    <tr>\n",
       "      <th>2744</th>\n",
       "      <td>21441</td>\n",
       "      <td>52.442227</td>\n",
       "      <td>13.585457</td>\n",
       "      <td>2021-01-21</td>\n",
       "      <td>POINT (13.58546 52.44223)</td>\n",
       "      <td>70</td>\n",
       "      <td>place_71</td>\n",
       "      <td>Aldi</td>\n",
       "    </tr>\n",
       "    <tr>\n",
       "      <th>2745</th>\n",
       "      <td>160071</td>\n",
       "      <td>52.510290</td>\n",
       "      <td>13.433080</td>\n",
       "      <td>2021-01-20</td>\n",
       "      <td>POINT (13.43308 52.51029)</td>\n",
       "      <td>51</td>\n",
       "      <td>place_52</td>\n",
       "      <td>Subway</td>\n",
       "    </tr>\n",
       "    <tr>\n",
       "      <th>2746</th>\n",
       "      <td>25285</td>\n",
       "      <td>52.465107</td>\n",
       "      <td>13.496070</td>\n",
       "      <td>2021-01-21</td>\n",
       "      <td>POINT (13.49607 52.46511)</td>\n",
       "      <td>77</td>\n",
       "      <td>place_78</td>\n",
       "      <td>Aldi</td>\n",
       "    </tr>\n",
       "  </tbody>\n",
       "</table>\n",
       "</div>"
      ],
      "text/plain": [
       "      device_id        lat        lon        date                   geometry  \\\n",
       "2742      47868  52.442190  13.585334  2021-01-19  POINT (13.58533 52.44219)   \n",
       "2743      21441  52.442287  13.585510  2021-01-21  POINT (13.58551 52.44229)   \n",
       "2744      21441  52.442227  13.585457  2021-01-21  POINT (13.58546 52.44223)   \n",
       "2745     160071  52.510290  13.433080  2021-01-20  POINT (13.43308 52.51029)   \n",
       "2746      25285  52.465107  13.496070  2021-01-21  POINT (13.49607 52.46511)   \n",
       "\n",
       "      index_right  store_id store_name  \n",
       "2742           70  place_71       Aldi  \n",
       "2743           70  place_71       Aldi  \n",
       "2744           70  place_71       Aldi  \n",
       "2745           51  place_52     Subway  \n",
       "2746           77  place_78       Aldi  "
      ]
     },
     "execution_count": 37,
     "metadata": {},
     "output_type": "execute_result"
    }
   ],
   "source": [
    "gps_sig_and_stores.tail()"
   ]
  },
  {
   "cell_type": "markdown",
   "metadata": {},
   "source": [
    "### users and user affinities"
   ]
  },
  {
   "cell_type": "markdown",
   "metadata": {},
   "source": [
    "**users**"
   ]
  },
  {
   "cell_type": "code",
   "execution_count": 38,
   "metadata": {},
   "outputs": [],
   "source": [
    "# create unique users by dropping each duplicated device_id\n",
    "users = gps_signals[[\"device_id\"]].drop_duplicates(subset=[\"device_id\"]).reset_index(drop=True)"
   ]
  },
  {
   "cell_type": "code",
   "execution_count": 39,
   "metadata": {},
   "outputs": [
    {
     "data": {
      "text/html": [
       "<div>\n",
       "<style scoped>\n",
       "    .dataframe tbody tr th:only-of-type {\n",
       "        vertical-align: middle;\n",
       "    }\n",
       "\n",
       "    .dataframe tbody tr th {\n",
       "        vertical-align: top;\n",
       "    }\n",
       "\n",
       "    .dataframe thead th {\n",
       "        text-align: right;\n",
       "    }\n",
       "</style>\n",
       "<table border=\"1\" class=\"dataframe\">\n",
       "  <thead>\n",
       "    <tr style=\"text-align: right;\">\n",
       "      <th></th>\n",
       "      <th>device_id</th>\n",
       "    </tr>\n",
       "  </thead>\n",
       "  <tbody>\n",
       "    <tr>\n",
       "      <th>94999</th>\n",
       "      <td>158319</td>\n",
       "    </tr>\n",
       "    <tr>\n",
       "      <th>95000</th>\n",
       "      <td>172360</td>\n",
       "    </tr>\n",
       "    <tr>\n",
       "      <th>95001</th>\n",
       "      <td>172344</td>\n",
       "    </tr>\n",
       "    <tr>\n",
       "      <th>95002</th>\n",
       "      <td>174085</td>\n",
       "    </tr>\n",
       "    <tr>\n",
       "      <th>95003</th>\n",
       "      <td>171878</td>\n",
       "    </tr>\n",
       "  </tbody>\n",
       "</table>\n",
       "</div>"
      ],
      "text/plain": [
       "       device_id\n",
       "94999     158319\n",
       "95000     172360\n",
       "95001     172344\n",
       "95002     174085\n",
       "95003     171878"
      ]
     },
     "execution_count": 39,
     "metadata": {},
     "output_type": "execute_result"
    }
   ],
   "source": [
    "users.tail()"
   ]
  },
  {
   "cell_type": "code",
   "execution_count": 40,
   "metadata": {},
   "outputs": [],
   "source": [
    "# sort by device_id ascending\n",
    "users = users.sort_values(by=[\"device_id\"]).reset_index(drop=True)"
   ]
  },
  {
   "cell_type": "code",
   "execution_count": 41,
   "metadata": {},
   "outputs": [
    {
     "data": {
      "text/plain": [
       "(95004, 1)"
      ]
     },
     "execution_count": 41,
     "metadata": {},
     "output_type": "execute_result"
    }
   ],
   "source": [
    "users.shape"
   ]
  },
  {
   "cell_type": "code",
   "execution_count": 42,
   "metadata": {},
   "outputs": [
    {
     "data": {
      "text/html": [
       "<div>\n",
       "<style scoped>\n",
       "    .dataframe tbody tr th:only-of-type {\n",
       "        vertical-align: middle;\n",
       "    }\n",
       "\n",
       "    .dataframe tbody tr th {\n",
       "        vertical-align: top;\n",
       "    }\n",
       "\n",
       "    .dataframe thead th {\n",
       "        text-align: right;\n",
       "    }\n",
       "</style>\n",
       "<table border=\"1\" class=\"dataframe\">\n",
       "  <thead>\n",
       "    <tr style=\"text-align: right;\">\n",
       "      <th></th>\n",
       "      <th>device_id</th>\n",
       "    </tr>\n",
       "  </thead>\n",
       "  <tbody>\n",
       "    <tr>\n",
       "      <th>0</th>\n",
       "      <td>1</td>\n",
       "    </tr>\n",
       "    <tr>\n",
       "      <th>1</th>\n",
       "      <td>2</td>\n",
       "    </tr>\n",
       "    <tr>\n",
       "      <th>2</th>\n",
       "      <td>3</td>\n",
       "    </tr>\n",
       "    <tr>\n",
       "      <th>3</th>\n",
       "      <td>5</td>\n",
       "    </tr>\n",
       "    <tr>\n",
       "      <th>4</th>\n",
       "      <td>6</td>\n",
       "    </tr>\n",
       "  </tbody>\n",
       "</table>\n",
       "</div>"
      ],
      "text/plain": [
       "   device_id\n",
       "0          1\n",
       "1          2\n",
       "2          3\n",
       "3          5\n",
       "4          6"
      ]
     },
     "execution_count": 42,
     "metadata": {},
     "output_type": "execute_result"
    }
   ],
   "source": [
    "users.head()"
   ]
  },
  {
   "cell_type": "code",
   "execution_count": 43,
   "metadata": {},
   "outputs": [
    {
     "data": {
      "text/html": [
       "<div>\n",
       "<style scoped>\n",
       "    .dataframe tbody tr th:only-of-type {\n",
       "        vertical-align: middle;\n",
       "    }\n",
       "\n",
       "    .dataframe tbody tr th {\n",
       "        vertical-align: top;\n",
       "    }\n",
       "\n",
       "    .dataframe thead th {\n",
       "        text-align: right;\n",
       "    }\n",
       "</style>\n",
       "<table border=\"1\" class=\"dataframe\">\n",
       "  <thead>\n",
       "    <tr style=\"text-align: right;\">\n",
       "      <th></th>\n",
       "      <th>device_id</th>\n",
       "    </tr>\n",
       "  </thead>\n",
       "  <tbody>\n",
       "    <tr>\n",
       "      <th>94999</th>\n",
       "      <td>174401</td>\n",
       "    </tr>\n",
       "    <tr>\n",
       "      <th>95000</th>\n",
       "      <td>174402</td>\n",
       "    </tr>\n",
       "    <tr>\n",
       "      <th>95001</th>\n",
       "      <td>174405</td>\n",
       "    </tr>\n",
       "    <tr>\n",
       "      <th>95002</th>\n",
       "      <td>174406</td>\n",
       "    </tr>\n",
       "    <tr>\n",
       "      <th>95003</th>\n",
       "      <td>174410</td>\n",
       "    </tr>\n",
       "  </tbody>\n",
       "</table>\n",
       "</div>"
      ],
      "text/plain": [
       "       device_id\n",
       "94999     174401\n",
       "95000     174402\n",
       "95001     174405\n",
       "95002     174406\n",
       "95003     174410"
      ]
     },
     "execution_count": 43,
     "metadata": {},
     "output_type": "execute_result"
    }
   ],
   "source": [
    "users.tail()"
   ]
  },
  {
   "cell_type": "markdown",
   "metadata": {},
   "source": [
    "**user affinities**"
   ]
  },
  {
   "cell_type": "code",
   "execution_count": 44,
   "metadata": {},
   "outputs": [],
   "source": [
    "# list the files in the user_affinities folder\n",
    "path = os.getcwd()\n",
    "# path = \"/Users/robertbozsik/techtest/adsquare/assignment_data/affinities\"\n",
    "# go two levels upwards compared to the current path\n",
    "path = f\"{str(Path(path).parents[1])}/assignment_data/affinities\"\n",
    "file_names = os.listdir(path)\n",
    "file_names = sorted(file_names)\n",
    "# file_names"
   ]
  },
  {
   "cell_type": "code",
   "execution_count": 45,
   "metadata": {},
   "outputs": [],
   "source": [
    "# add .csv after the file names (it should be run only once)\n",
    "if \".csv\" not in file_names[0]:\n",
    "    for index, file_name in enumerate(file_names):\n",
    "        os.rename(os.path.join(path, file_name), os.path.join(path, \"\".join([file_name, \".csv\"])))"
   ]
  },
  {
   "cell_type": "code",
   "execution_count": 46,
   "metadata": {},
   "outputs": [],
   "source": [
    "# create a dictionary \"user_affinities\", key: value -> names-of-the-affinity: [lists-of-the-affinity-csv]\n",
    "def list_from_affinities(aff_name: str) -> list:\n",
    "    \"\"\"Return a list created from the given user_affinity csv file\"\"\"\n",
    "    aff_name = pd.read_csv(f\"../../assignment_data/affinities/{aff_name}.csv\", header=None, names=[aff_name])\n",
    "    aff_name = list(aff_name.iloc[:, 0]) # all rows, first column\n",
    "    return aff_name\n",
    "\n",
    "user_affinities = {}\n",
    "\n",
    "for file_name in file_names:\n",
    "    name = file_name.split(\".\")[0]\n",
    "    user_affinities[name] = list_from_affinities(name)"
   ]
  },
  {
   "cell_type": "code",
   "execution_count": 47,
   "metadata": {},
   "outputs": [],
   "source": [
    "# user_affinities = {\n",
    "#     \"addidas\": list_from_affinities(\"addidas\"),\n",
    "#     \"bmw\": list_from_affinities(\"bmw\"),\n",
    "#     \"employed\": list_from_affinities(\"employed\"),\n",
    "#     \"honda\": list_from_affinities(\"honda\"),\n",
    "#     \"female\": list_from_affinities(\"female\"),\n",
    "#     \"apple\": list_from_affinities(\"apple\"),\n",
    "#     \"student\": list_from_affinities(\"student\"),\n",
    "#     \"low_income\": list_from_affinities(\"low_income\"),\n",
    "#     \"h_&_m\": list_from_affinities(\"h_&_m\"),\n",
    "#     \"middle_income\": list_from_affinities(\"middle_income\"),\n",
    "#     \"tommy_helfinger\": list_from_affinities(\"tommy_helfinger\"),\n",
    "#     \"job_seeking\": list_from_affinities(\"job_seeking\"),\n",
    "#     \"male\": list_from_affinities(\"male\"),\n",
    "#     \"high_income\": list_from_affinities(\"high_income\"),\n",
    "#     \"mercedes-benz\": list_from_affinities(\"mercedes-benz\"),\n",
    "#     \"retired\": list_from_affinities(\"retired\"), \n",
    "# }"
   ]
  },
  {
   "cell_type": "code",
   "execution_count": 48,
   "metadata": {},
   "outputs": [
    {
     "data": {
      "text/plain": [
       "dict_keys(['addidas', 'apple', 'bmw', 'employed', 'female', 'h_&_m', 'high_income', 'honda', 'job_seeking', 'low_income', 'male', 'mercedes-benz', 'middle_income', 'retired', 'student', 'tommy_helfinger'])"
      ]
     },
     "execution_count": 48,
     "metadata": {},
     "output_type": "execute_result"
    }
   ],
   "source": [
    "user_affinities.keys()"
   ]
  },
  {
   "cell_type": "code",
   "execution_count": 49,
   "metadata": {},
   "outputs": [],
   "source": [
    "# len(user_affinities[\"addidas\"])"
   ]
  },
  {
   "cell_type": "code",
   "execution_count": 50,
   "metadata": {},
   "outputs": [],
   "source": [
    "# len(user_affinities[\"low_income\"])"
   ]
  },
  {
   "cell_type": "code",
   "execution_count": 51,
   "metadata": {},
   "outputs": [],
   "source": [
    "# len(user_affinities[\"retired\"])"
   ]
  },
  {
   "cell_type": "markdown",
   "metadata": {},
   "source": [
    "**add user_affinities to users**"
   ]
  },
  {
   "cell_type": "code",
   "execution_count": 52,
   "metadata": {},
   "outputs": [],
   "source": [
    "# try it out with the affinity \"addidas\"\n",
    "users[\"addidas\"] = np.where(users[\"device_id\"].isin(user_affinities[\"addidas\"]), 1, 0)"
   ]
  },
  {
   "cell_type": "code",
   "execution_count": 53,
   "metadata": {},
   "outputs": [],
   "source": [
    "# users[\"addidas\"].value_counts()"
   ]
  },
  {
   "cell_type": "code",
   "execution_count": 54,
   "metadata": {},
   "outputs": [],
   "source": [
    "for index, key in enumerate(user_affinities.keys()):\n",
    "    if index > 0: # the column \"addidas\" has already been created\n",
    "        users[key] = np.where(users[\"device_id\"].isin(user_affinities[key]), 1, 0)"
   ]
  },
  {
   "cell_type": "code",
   "execution_count": 55,
   "metadata": {},
   "outputs": [
    {
     "data": {
      "text/plain": [
       "(95004, 17)"
      ]
     },
     "execution_count": 55,
     "metadata": {},
     "output_type": "execute_result"
    }
   ],
   "source": [
    "users.shape"
   ]
  },
  {
   "cell_type": "code",
   "execution_count": 56,
   "metadata": {},
   "outputs": [
    {
     "data": {
      "text/html": [
       "<div>\n",
       "<style scoped>\n",
       "    .dataframe tbody tr th:only-of-type {\n",
       "        vertical-align: middle;\n",
       "    }\n",
       "\n",
       "    .dataframe tbody tr th {\n",
       "        vertical-align: top;\n",
       "    }\n",
       "\n",
       "    .dataframe thead th {\n",
       "        text-align: right;\n",
       "    }\n",
       "</style>\n",
       "<table border=\"1\" class=\"dataframe\">\n",
       "  <thead>\n",
       "    <tr style=\"text-align: right;\">\n",
       "      <th></th>\n",
       "      <th>device_id</th>\n",
       "      <th>addidas</th>\n",
       "      <th>apple</th>\n",
       "      <th>bmw</th>\n",
       "      <th>employed</th>\n",
       "      <th>female</th>\n",
       "      <th>h_&amp;_m</th>\n",
       "      <th>high_income</th>\n",
       "      <th>honda</th>\n",
       "      <th>job_seeking</th>\n",
       "      <th>low_income</th>\n",
       "      <th>male</th>\n",
       "      <th>mercedes-benz</th>\n",
       "      <th>middle_income</th>\n",
       "      <th>retired</th>\n",
       "      <th>student</th>\n",
       "      <th>tommy_helfinger</th>\n",
       "    </tr>\n",
       "  </thead>\n",
       "  <tbody>\n",
       "    <tr>\n",
       "      <th>0</th>\n",
       "      <td>1</td>\n",
       "      <td>0</td>\n",
       "      <td>0</td>\n",
       "      <td>0</td>\n",
       "      <td>0</td>\n",
       "      <td>0</td>\n",
       "      <td>0</td>\n",
       "      <td>0</td>\n",
       "      <td>0</td>\n",
       "      <td>0</td>\n",
       "      <td>0</td>\n",
       "      <td>1</td>\n",
       "      <td>0</td>\n",
       "      <td>1</td>\n",
       "      <td>0</td>\n",
       "      <td>0</td>\n",
       "      <td>0</td>\n",
       "    </tr>\n",
       "    <tr>\n",
       "      <th>1</th>\n",
       "      <td>2</td>\n",
       "      <td>0</td>\n",
       "      <td>0</td>\n",
       "      <td>0</td>\n",
       "      <td>0</td>\n",
       "      <td>0</td>\n",
       "      <td>0</td>\n",
       "      <td>0</td>\n",
       "      <td>1</td>\n",
       "      <td>0</td>\n",
       "      <td>0</td>\n",
       "      <td>1</td>\n",
       "      <td>0</td>\n",
       "      <td>1</td>\n",
       "      <td>0</td>\n",
       "      <td>0</td>\n",
       "      <td>0</td>\n",
       "    </tr>\n",
       "    <tr>\n",
       "      <th>2</th>\n",
       "      <td>3</td>\n",
       "      <td>0</td>\n",
       "      <td>0</td>\n",
       "      <td>0</td>\n",
       "      <td>0</td>\n",
       "      <td>0</td>\n",
       "      <td>0</td>\n",
       "      <td>0</td>\n",
       "      <td>0</td>\n",
       "      <td>0</td>\n",
       "      <td>0</td>\n",
       "      <td>1</td>\n",
       "      <td>0</td>\n",
       "      <td>1</td>\n",
       "      <td>0</td>\n",
       "      <td>0</td>\n",
       "      <td>0</td>\n",
       "    </tr>\n",
       "    <tr>\n",
       "      <th>3</th>\n",
       "      <td>5</td>\n",
       "      <td>0</td>\n",
       "      <td>0</td>\n",
       "      <td>0</td>\n",
       "      <td>0</td>\n",
       "      <td>0</td>\n",
       "      <td>0</td>\n",
       "      <td>0</td>\n",
       "      <td>1</td>\n",
       "      <td>0</td>\n",
       "      <td>1</td>\n",
       "      <td>1</td>\n",
       "      <td>0</td>\n",
       "      <td>0</td>\n",
       "      <td>0</td>\n",
       "      <td>0</td>\n",
       "      <td>0</td>\n",
       "    </tr>\n",
       "    <tr>\n",
       "      <th>4</th>\n",
       "      <td>6</td>\n",
       "      <td>0</td>\n",
       "      <td>0</td>\n",
       "      <td>0</td>\n",
       "      <td>0</td>\n",
       "      <td>0</td>\n",
       "      <td>0</td>\n",
       "      <td>0</td>\n",
       "      <td>0</td>\n",
       "      <td>1</td>\n",
       "      <td>0</td>\n",
       "      <td>1</td>\n",
       "      <td>0</td>\n",
       "      <td>1</td>\n",
       "      <td>0</td>\n",
       "      <td>0</td>\n",
       "      <td>0</td>\n",
       "    </tr>\n",
       "  </tbody>\n",
       "</table>\n",
       "</div>"
      ],
      "text/plain": [
       "   device_id  addidas  apple  bmw  employed  female  h_&_m  high_income  \\\n",
       "0          1        0      0    0         0       0      0            0   \n",
       "1          2        0      0    0         0       0      0            0   \n",
       "2          3        0      0    0         0       0      0            0   \n",
       "3          5        0      0    0         0       0      0            0   \n",
       "4          6        0      0    0         0       0      0            0   \n",
       "\n",
       "   honda  job_seeking  low_income  male  mercedes-benz  middle_income  \\\n",
       "0      0            0           0     1              0              1   \n",
       "1      1            0           0     1              0              1   \n",
       "2      0            0           0     1              0              1   \n",
       "3      1            0           1     1              0              0   \n",
       "4      0            1           0     1              0              1   \n",
       "\n",
       "   retired  student  tommy_helfinger  \n",
       "0        0        0                0  \n",
       "1        0        0                0  \n",
       "2        0        0                0  \n",
       "3        0        0                0  \n",
       "4        0        0                0  "
      ]
     },
     "execution_count": 56,
     "metadata": {},
     "output_type": "execute_result"
    }
   ],
   "source": [
    "users.head()"
   ]
  },
  {
   "cell_type": "code",
   "execution_count": 57,
   "metadata": {},
   "outputs": [],
   "source": [
    "# save users as csv\n",
    "users.to_csv(\"../out_data_sample/users.csv\", index=False)"
   ]
  },
  {
   "cell_type": "markdown",
   "metadata": {},
   "source": [
    "### merge gps_sig_and_stores and users (affinities)"
   ]
  },
  {
   "cell_type": "code",
   "execution_count": 58,
   "metadata": {},
   "outputs": [
    {
     "data": {
      "text/plain": [
       "(2747, 8)"
      ]
     },
     "execution_count": 58,
     "metadata": {},
     "output_type": "execute_result"
    }
   ],
   "source": [
    "# merge gps_sig_and_stores and users (affinities)\n",
    "gps_sig_and_stores.shape"
   ]
  },
  {
   "cell_type": "code",
   "execution_count": 59,
   "metadata": {},
   "outputs": [
    {
     "data": {
      "text/html": [
       "<div>\n",
       "<style scoped>\n",
       "    .dataframe tbody tr th:only-of-type {\n",
       "        vertical-align: middle;\n",
       "    }\n",
       "\n",
       "    .dataframe tbody tr th {\n",
       "        vertical-align: top;\n",
       "    }\n",
       "\n",
       "    .dataframe thead th {\n",
       "        text-align: right;\n",
       "    }\n",
       "</style>\n",
       "<table border=\"1\" class=\"dataframe\">\n",
       "  <thead>\n",
       "    <tr style=\"text-align: right;\">\n",
       "      <th></th>\n",
       "      <th>device_id</th>\n",
       "      <th>lat</th>\n",
       "      <th>lon</th>\n",
       "      <th>date</th>\n",
       "      <th>geometry</th>\n",
       "      <th>index_right</th>\n",
       "      <th>store_id</th>\n",
       "      <th>store_name</th>\n",
       "    </tr>\n",
       "  </thead>\n",
       "  <tbody>\n",
       "    <tr>\n",
       "      <th>0</th>\n",
       "      <td>41282</td>\n",
       "      <td>52.485340</td>\n",
       "      <td>13.368210</td>\n",
       "      <td>2021-01-01</td>\n",
       "      <td>POINT (13.36821 52.48534)</td>\n",
       "      <td>237</td>\n",
       "      <td>place_238</td>\n",
       "      <td>Renault</td>\n",
       "    </tr>\n",
       "    <tr>\n",
       "      <th>1</th>\n",
       "      <td>78319</td>\n",
       "      <td>52.485390</td>\n",
       "      <td>13.368412</td>\n",
       "      <td>2021-01-05</td>\n",
       "      <td>POINT (13.36841 52.48539)</td>\n",
       "      <td>237</td>\n",
       "      <td>place_238</td>\n",
       "      <td>Renault</td>\n",
       "    </tr>\n",
       "    <tr>\n",
       "      <th>2</th>\n",
       "      <td>7065</td>\n",
       "      <td>52.485320</td>\n",
       "      <td>13.368430</td>\n",
       "      <td>2021-01-07</td>\n",
       "      <td>POINT (13.36843 52.48532)</td>\n",
       "      <td>237</td>\n",
       "      <td>place_238</td>\n",
       "      <td>Renault</td>\n",
       "    </tr>\n",
       "    <tr>\n",
       "      <th>3</th>\n",
       "      <td>78319</td>\n",
       "      <td>52.485324</td>\n",
       "      <td>13.368606</td>\n",
       "      <td>2021-01-11</td>\n",
       "      <td>POINT (13.36861 52.48532)</td>\n",
       "      <td>237</td>\n",
       "      <td>place_238</td>\n",
       "      <td>Renault</td>\n",
       "    </tr>\n",
       "    <tr>\n",
       "      <th>4</th>\n",
       "      <td>38190</td>\n",
       "      <td>52.485382</td>\n",
       "      <td>13.368311</td>\n",
       "      <td>2021-01-13</td>\n",
       "      <td>POINT (13.36831 52.48538)</td>\n",
       "      <td>237</td>\n",
       "      <td>place_238</td>\n",
       "      <td>Renault</td>\n",
       "    </tr>\n",
       "  </tbody>\n",
       "</table>\n",
       "</div>"
      ],
      "text/plain": [
       "   device_id        lat        lon        date                   geometry  \\\n",
       "0      41282  52.485340  13.368210  2021-01-01  POINT (13.36821 52.48534)   \n",
       "1      78319  52.485390  13.368412  2021-01-05  POINT (13.36841 52.48539)   \n",
       "2       7065  52.485320  13.368430  2021-01-07  POINT (13.36843 52.48532)   \n",
       "3      78319  52.485324  13.368606  2021-01-11  POINT (13.36861 52.48532)   \n",
       "4      38190  52.485382  13.368311  2021-01-13  POINT (13.36831 52.48538)   \n",
       "\n",
       "   index_right   store_id store_name  \n",
       "0          237  place_238    Renault  \n",
       "1          237  place_238    Renault  \n",
       "2          237  place_238    Renault  \n",
       "3          237  place_238    Renault  \n",
       "4          237  place_238    Renault  "
      ]
     },
     "execution_count": 59,
     "metadata": {},
     "output_type": "execute_result"
    }
   ],
   "source": [
    "gps_sig_and_stores.head()"
   ]
  },
  {
   "cell_type": "code",
   "execution_count": 60,
   "metadata": {},
   "outputs": [
    {
     "data": {
      "text/plain": [
       "(95004, 17)"
      ]
     },
     "execution_count": 60,
     "metadata": {},
     "output_type": "execute_result"
    }
   ],
   "source": [
    "users.shape"
   ]
  },
  {
   "cell_type": "code",
   "execution_count": 61,
   "metadata": {},
   "outputs": [
    {
     "data": {
      "text/html": [
       "<div>\n",
       "<style scoped>\n",
       "    .dataframe tbody tr th:only-of-type {\n",
       "        vertical-align: middle;\n",
       "    }\n",
       "\n",
       "    .dataframe tbody tr th {\n",
       "        vertical-align: top;\n",
       "    }\n",
       "\n",
       "    .dataframe thead th {\n",
       "        text-align: right;\n",
       "    }\n",
       "</style>\n",
       "<table border=\"1\" class=\"dataframe\">\n",
       "  <thead>\n",
       "    <tr style=\"text-align: right;\">\n",
       "      <th></th>\n",
       "      <th>device_id</th>\n",
       "      <th>addidas</th>\n",
       "      <th>apple</th>\n",
       "      <th>bmw</th>\n",
       "      <th>employed</th>\n",
       "      <th>female</th>\n",
       "      <th>h_&amp;_m</th>\n",
       "      <th>high_income</th>\n",
       "      <th>honda</th>\n",
       "      <th>job_seeking</th>\n",
       "      <th>low_income</th>\n",
       "      <th>male</th>\n",
       "      <th>mercedes-benz</th>\n",
       "      <th>middle_income</th>\n",
       "      <th>retired</th>\n",
       "      <th>student</th>\n",
       "      <th>tommy_helfinger</th>\n",
       "    </tr>\n",
       "  </thead>\n",
       "  <tbody>\n",
       "    <tr>\n",
       "      <th>0</th>\n",
       "      <td>1</td>\n",
       "      <td>0</td>\n",
       "      <td>0</td>\n",
       "      <td>0</td>\n",
       "      <td>0</td>\n",
       "      <td>0</td>\n",
       "      <td>0</td>\n",
       "      <td>0</td>\n",
       "      <td>0</td>\n",
       "      <td>0</td>\n",
       "      <td>0</td>\n",
       "      <td>1</td>\n",
       "      <td>0</td>\n",
       "      <td>1</td>\n",
       "      <td>0</td>\n",
       "      <td>0</td>\n",
       "      <td>0</td>\n",
       "    </tr>\n",
       "    <tr>\n",
       "      <th>1</th>\n",
       "      <td>2</td>\n",
       "      <td>0</td>\n",
       "      <td>0</td>\n",
       "      <td>0</td>\n",
       "      <td>0</td>\n",
       "      <td>0</td>\n",
       "      <td>0</td>\n",
       "      <td>0</td>\n",
       "      <td>1</td>\n",
       "      <td>0</td>\n",
       "      <td>0</td>\n",
       "      <td>1</td>\n",
       "      <td>0</td>\n",
       "      <td>1</td>\n",
       "      <td>0</td>\n",
       "      <td>0</td>\n",
       "      <td>0</td>\n",
       "    </tr>\n",
       "    <tr>\n",
       "      <th>2</th>\n",
       "      <td>3</td>\n",
       "      <td>0</td>\n",
       "      <td>0</td>\n",
       "      <td>0</td>\n",
       "      <td>0</td>\n",
       "      <td>0</td>\n",
       "      <td>0</td>\n",
       "      <td>0</td>\n",
       "      <td>0</td>\n",
       "      <td>0</td>\n",
       "      <td>0</td>\n",
       "      <td>1</td>\n",
       "      <td>0</td>\n",
       "      <td>1</td>\n",
       "      <td>0</td>\n",
       "      <td>0</td>\n",
       "      <td>0</td>\n",
       "    </tr>\n",
       "    <tr>\n",
       "      <th>3</th>\n",
       "      <td>5</td>\n",
       "      <td>0</td>\n",
       "      <td>0</td>\n",
       "      <td>0</td>\n",
       "      <td>0</td>\n",
       "      <td>0</td>\n",
       "      <td>0</td>\n",
       "      <td>0</td>\n",
       "      <td>1</td>\n",
       "      <td>0</td>\n",
       "      <td>1</td>\n",
       "      <td>1</td>\n",
       "      <td>0</td>\n",
       "      <td>0</td>\n",
       "      <td>0</td>\n",
       "      <td>0</td>\n",
       "      <td>0</td>\n",
       "    </tr>\n",
       "    <tr>\n",
       "      <th>4</th>\n",
       "      <td>6</td>\n",
       "      <td>0</td>\n",
       "      <td>0</td>\n",
       "      <td>0</td>\n",
       "      <td>0</td>\n",
       "      <td>0</td>\n",
       "      <td>0</td>\n",
       "      <td>0</td>\n",
       "      <td>0</td>\n",
       "      <td>1</td>\n",
       "      <td>0</td>\n",
       "      <td>1</td>\n",
       "      <td>0</td>\n",
       "      <td>1</td>\n",
       "      <td>0</td>\n",
       "      <td>0</td>\n",
       "      <td>0</td>\n",
       "    </tr>\n",
       "  </tbody>\n",
       "</table>\n",
       "</div>"
      ],
      "text/plain": [
       "   device_id  addidas  apple  bmw  employed  female  h_&_m  high_income  \\\n",
       "0          1        0      0    0         0       0      0            0   \n",
       "1          2        0      0    0         0       0      0            0   \n",
       "2          3        0      0    0         0       0      0            0   \n",
       "3          5        0      0    0         0       0      0            0   \n",
       "4          6        0      0    0         0       0      0            0   \n",
       "\n",
       "   honda  job_seeking  low_income  male  mercedes-benz  middle_income  \\\n",
       "0      0            0           0     1              0              1   \n",
       "1      1            0           0     1              0              1   \n",
       "2      0            0           0     1              0              1   \n",
       "3      1            0           1     1              0              0   \n",
       "4      0            1           0     1              0              1   \n",
       "\n",
       "   retired  student  tommy_helfinger  \n",
       "0        0        0                0  \n",
       "1        0        0                0  \n",
       "2        0        0                0  \n",
       "3        0        0                0  \n",
       "4        0        0                0  "
      ]
     },
     "execution_count": 61,
     "metadata": {},
     "output_type": "execute_result"
    }
   ],
   "source": [
    "users.head()"
   ]
  },
  {
   "cell_type": "code",
   "execution_count": 62,
   "metadata": {},
   "outputs": [
    {
     "name": "stdout",
     "output_type": "stream",
     "text": [
      "Merging gps_sig_and_stores and users (affinities)...\n",
      "Merging gps_sig_and_stores and users (affinities) took 0.0 minute(s).\n"
     ]
    }
   ],
   "source": [
    "# merge gps_sig_and_stores and users (affinities)\n",
    "start = time.time()\n",
    "print(\"Merging gps_sig_and_stores and users (affinities)...\")\n",
    "\n",
    "gpssig_stores_useraff = gps_sig_and_stores.merge(users, how=\"inner\", on=\"device_id\")\n",
    "\n",
    "end = time.time()\n",
    "dt = end - start\n",
    "print(f\"Merging gps_sig_and_stores and users (affinities) took {round(dt/60, 2)} minute(s).\")"
   ]
  },
  {
   "cell_type": "code",
   "execution_count": 63,
   "metadata": {},
   "outputs": [
    {
     "data": {
      "text/plain": [
       "(2747, 24)"
      ]
     },
     "execution_count": 63,
     "metadata": {},
     "output_type": "execute_result"
    }
   ],
   "source": [
    "gpssig_stores_useraff.shape"
   ]
  },
  {
   "cell_type": "code",
   "execution_count": 64,
   "metadata": {},
   "outputs": [
    {
     "data": {
      "text/html": [
       "<div>\n",
       "<style scoped>\n",
       "    .dataframe tbody tr th:only-of-type {\n",
       "        vertical-align: middle;\n",
       "    }\n",
       "\n",
       "    .dataframe tbody tr th {\n",
       "        vertical-align: top;\n",
       "    }\n",
       "\n",
       "    .dataframe thead th {\n",
       "        text-align: right;\n",
       "    }\n",
       "</style>\n",
       "<table border=\"1\" class=\"dataframe\">\n",
       "  <thead>\n",
       "    <tr style=\"text-align: right;\">\n",
       "      <th></th>\n",
       "      <th>device_id</th>\n",
       "      <th>lat</th>\n",
       "      <th>lon</th>\n",
       "      <th>date</th>\n",
       "      <th>geometry</th>\n",
       "      <th>index_right</th>\n",
       "      <th>store_id</th>\n",
       "      <th>store_name</th>\n",
       "      <th>addidas</th>\n",
       "      <th>apple</th>\n",
       "      <th>bmw</th>\n",
       "      <th>employed</th>\n",
       "      <th>female</th>\n",
       "      <th>h_&amp;_m</th>\n",
       "      <th>high_income</th>\n",
       "      <th>honda</th>\n",
       "      <th>job_seeking</th>\n",
       "      <th>low_income</th>\n",
       "      <th>male</th>\n",
       "      <th>mercedes-benz</th>\n",
       "      <th>middle_income</th>\n",
       "      <th>retired</th>\n",
       "      <th>student</th>\n",
       "      <th>tommy_helfinger</th>\n",
       "    </tr>\n",
       "  </thead>\n",
       "  <tbody>\n",
       "    <tr>\n",
       "      <th>0</th>\n",
       "      <td>41282</td>\n",
       "      <td>52.485340</td>\n",
       "      <td>13.368210</td>\n",
       "      <td>2021-01-01</td>\n",
       "      <td>POINT (13.36821 52.48534)</td>\n",
       "      <td>237</td>\n",
       "      <td>place_238</td>\n",
       "      <td>Renault</td>\n",
       "      <td>0</td>\n",
       "      <td>0</td>\n",
       "      <td>0</td>\n",
       "      <td>0</td>\n",
       "      <td>0</td>\n",
       "      <td>0</td>\n",
       "      <td>0</td>\n",
       "      <td>0</td>\n",
       "      <td>0</td>\n",
       "      <td>0</td>\n",
       "      <td>1</td>\n",
       "      <td>0</td>\n",
       "      <td>1</td>\n",
       "      <td>0</td>\n",
       "      <td>0</td>\n",
       "      <td>0</td>\n",
       "    </tr>\n",
       "    <tr>\n",
       "      <th>1</th>\n",
       "      <td>78319</td>\n",
       "      <td>52.485390</td>\n",
       "      <td>13.368412</td>\n",
       "      <td>2021-01-05</td>\n",
       "      <td>POINT (13.36841 52.48539)</td>\n",
       "      <td>237</td>\n",
       "      <td>place_238</td>\n",
       "      <td>Renault</td>\n",
       "      <td>0</td>\n",
       "      <td>0</td>\n",
       "      <td>0</td>\n",
       "      <td>0</td>\n",
       "      <td>0</td>\n",
       "      <td>0</td>\n",
       "      <td>1</td>\n",
       "      <td>1</td>\n",
       "      <td>0</td>\n",
       "      <td>0</td>\n",
       "      <td>1</td>\n",
       "      <td>0</td>\n",
       "      <td>0</td>\n",
       "      <td>0</td>\n",
       "      <td>0</td>\n",
       "      <td>0</td>\n",
       "    </tr>\n",
       "    <tr>\n",
       "      <th>2</th>\n",
       "      <td>78319</td>\n",
       "      <td>52.485324</td>\n",
       "      <td>13.368606</td>\n",
       "      <td>2021-01-11</td>\n",
       "      <td>POINT (13.36861 52.48532)</td>\n",
       "      <td>237</td>\n",
       "      <td>place_238</td>\n",
       "      <td>Renault</td>\n",
       "      <td>0</td>\n",
       "      <td>0</td>\n",
       "      <td>0</td>\n",
       "      <td>0</td>\n",
       "      <td>0</td>\n",
       "      <td>0</td>\n",
       "      <td>1</td>\n",
       "      <td>1</td>\n",
       "      <td>0</td>\n",
       "      <td>0</td>\n",
       "      <td>1</td>\n",
       "      <td>0</td>\n",
       "      <td>0</td>\n",
       "      <td>0</td>\n",
       "      <td>0</td>\n",
       "      <td>0</td>\n",
       "    </tr>\n",
       "    <tr>\n",
       "      <th>3</th>\n",
       "      <td>78319</td>\n",
       "      <td>52.485392</td>\n",
       "      <td>13.368405</td>\n",
       "      <td>2021-01-18</td>\n",
       "      <td>POINT (13.36840 52.48539)</td>\n",
       "      <td>237</td>\n",
       "      <td>place_238</td>\n",
       "      <td>Renault</td>\n",
       "      <td>0</td>\n",
       "      <td>0</td>\n",
       "      <td>0</td>\n",
       "      <td>0</td>\n",
       "      <td>0</td>\n",
       "      <td>0</td>\n",
       "      <td>1</td>\n",
       "      <td>1</td>\n",
       "      <td>0</td>\n",
       "      <td>0</td>\n",
       "      <td>1</td>\n",
       "      <td>0</td>\n",
       "      <td>0</td>\n",
       "      <td>0</td>\n",
       "      <td>0</td>\n",
       "      <td>0</td>\n",
       "    </tr>\n",
       "    <tr>\n",
       "      <th>4</th>\n",
       "      <td>78319</td>\n",
       "      <td>52.485362</td>\n",
       "      <td>13.368547</td>\n",
       "      <td>2021-01-19</td>\n",
       "      <td>POINT (13.36855 52.48536)</td>\n",
       "      <td>237</td>\n",
       "      <td>place_238</td>\n",
       "      <td>Renault</td>\n",
       "      <td>0</td>\n",
       "      <td>0</td>\n",
       "      <td>0</td>\n",
       "      <td>0</td>\n",
       "      <td>0</td>\n",
       "      <td>0</td>\n",
       "      <td>1</td>\n",
       "      <td>1</td>\n",
       "      <td>0</td>\n",
       "      <td>0</td>\n",
       "      <td>1</td>\n",
       "      <td>0</td>\n",
       "      <td>0</td>\n",
       "      <td>0</td>\n",
       "      <td>0</td>\n",
       "      <td>0</td>\n",
       "    </tr>\n",
       "  </tbody>\n",
       "</table>\n",
       "</div>"
      ],
      "text/plain": [
       "   device_id        lat        lon        date                   geometry  \\\n",
       "0      41282  52.485340  13.368210  2021-01-01  POINT (13.36821 52.48534)   \n",
       "1      78319  52.485390  13.368412  2021-01-05  POINT (13.36841 52.48539)   \n",
       "2      78319  52.485324  13.368606  2021-01-11  POINT (13.36861 52.48532)   \n",
       "3      78319  52.485392  13.368405  2021-01-18  POINT (13.36840 52.48539)   \n",
       "4      78319  52.485362  13.368547  2021-01-19  POINT (13.36855 52.48536)   \n",
       "\n",
       "   index_right   store_id store_name  addidas  apple  bmw  employed  female  \\\n",
       "0          237  place_238    Renault        0      0    0         0       0   \n",
       "1          237  place_238    Renault        0      0    0         0       0   \n",
       "2          237  place_238    Renault        0      0    0         0       0   \n",
       "3          237  place_238    Renault        0      0    0         0       0   \n",
       "4          237  place_238    Renault        0      0    0         0       0   \n",
       "\n",
       "   h_&_m  high_income  honda  job_seeking  low_income  male  mercedes-benz  \\\n",
       "0      0            0      0            0           0     1              0   \n",
       "1      0            1      1            0           0     1              0   \n",
       "2      0            1      1            0           0     1              0   \n",
       "3      0            1      1            0           0     1              0   \n",
       "4      0            1      1            0           0     1              0   \n",
       "\n",
       "   middle_income  retired  student  tommy_helfinger  \n",
       "0              1        0        0                0  \n",
       "1              0        0        0                0  \n",
       "2              0        0        0                0  \n",
       "3              0        0        0                0  \n",
       "4              0        0        0                0  "
      ]
     },
     "execution_count": 64,
     "metadata": {},
     "output_type": "execute_result"
    }
   ],
   "source": [
    "gpssig_stores_useraff.head()"
   ]
  },
  {
   "cell_type": "markdown",
   "metadata": {},
   "source": [
    "### create users_in_stores for visualizing on a map"
   ]
  },
  {
   "cell_type": "code",
   "execution_count": 65,
   "metadata": {},
   "outputs": [],
   "source": [
    "users_in_stores = gpssig_stores_useraff[[\"device_id\", \"lat\", \"lon\", \"date\", \"store_id\", \"store_name\"]]"
   ]
  },
  {
   "cell_type": "code",
   "execution_count": 66,
   "metadata": {},
   "outputs": [
    {
     "data": {
      "text/html": [
       "<div>\n",
       "<style scoped>\n",
       "    .dataframe tbody tr th:only-of-type {\n",
       "        vertical-align: middle;\n",
       "    }\n",
       "\n",
       "    .dataframe tbody tr th {\n",
       "        vertical-align: top;\n",
       "    }\n",
       "\n",
       "    .dataframe thead th {\n",
       "        text-align: right;\n",
       "    }\n",
       "</style>\n",
       "<table border=\"1\" class=\"dataframe\">\n",
       "  <thead>\n",
       "    <tr style=\"text-align: right;\">\n",
       "      <th></th>\n",
       "      <th>device_id</th>\n",
       "      <th>lat</th>\n",
       "      <th>lon</th>\n",
       "      <th>date</th>\n",
       "      <th>store_id</th>\n",
       "      <th>store_name</th>\n",
       "    </tr>\n",
       "  </thead>\n",
       "  <tbody>\n",
       "    <tr>\n",
       "      <th>0</th>\n",
       "      <td>41282</td>\n",
       "      <td>52.485340</td>\n",
       "      <td>13.368210</td>\n",
       "      <td>2021-01-01</td>\n",
       "      <td>place_238</td>\n",
       "      <td>Renault</td>\n",
       "    </tr>\n",
       "    <tr>\n",
       "      <th>1</th>\n",
       "      <td>78319</td>\n",
       "      <td>52.485390</td>\n",
       "      <td>13.368412</td>\n",
       "      <td>2021-01-05</td>\n",
       "      <td>place_238</td>\n",
       "      <td>Renault</td>\n",
       "    </tr>\n",
       "    <tr>\n",
       "      <th>2</th>\n",
       "      <td>78319</td>\n",
       "      <td>52.485324</td>\n",
       "      <td>13.368606</td>\n",
       "      <td>2021-01-11</td>\n",
       "      <td>place_238</td>\n",
       "      <td>Renault</td>\n",
       "    </tr>\n",
       "    <tr>\n",
       "      <th>3</th>\n",
       "      <td>78319</td>\n",
       "      <td>52.485392</td>\n",
       "      <td>13.368405</td>\n",
       "      <td>2021-01-18</td>\n",
       "      <td>place_238</td>\n",
       "      <td>Renault</td>\n",
       "    </tr>\n",
       "    <tr>\n",
       "      <th>4</th>\n",
       "      <td>78319</td>\n",
       "      <td>52.485362</td>\n",
       "      <td>13.368547</td>\n",
       "      <td>2021-01-19</td>\n",
       "      <td>place_238</td>\n",
       "      <td>Renault</td>\n",
       "    </tr>\n",
       "  </tbody>\n",
       "</table>\n",
       "</div>"
      ],
      "text/plain": [
       "   device_id        lat        lon        date   store_id store_name\n",
       "0      41282  52.485340  13.368210  2021-01-01  place_238    Renault\n",
       "1      78319  52.485390  13.368412  2021-01-05  place_238    Renault\n",
       "2      78319  52.485324  13.368606  2021-01-11  place_238    Renault\n",
       "3      78319  52.485392  13.368405  2021-01-18  place_238    Renault\n",
       "4      78319  52.485362  13.368547  2021-01-19  place_238    Renault"
      ]
     },
     "execution_count": 66,
     "metadata": {},
     "output_type": "execute_result"
    }
   ],
   "source": [
    "users_in_stores.head()"
   ]
  },
  {
   "cell_type": "code",
   "execution_count": 67,
   "metadata": {},
   "outputs": [],
   "source": [
    "users_in_stores.to_csv(\"../out_data_sample/users_in_stores.csv\", index=False)"
   ]
  },
  {
   "cell_type": "markdown",
   "metadata": {},
   "source": [
    "## 1.b Group the resolved visits by date (yyyy-mm-dd), store_name, and store_id."
   ]
  },
  {
   "cell_type": "markdown",
   "metadata": {},
   "source": [
    "## 1.c For each store_id/store_name/date provide the following metric."
   ]
  },
  {
   "cell_type": "markdown",
   "metadata": {},
   "source": [
    "### 1.c.i A total number of GPS signals per place_id/date."
   ]
  },
  {
   "cell_type": "markdown",
   "metadata": {},
   "source": [
    "### 1.c.ii A total number of unique visitors (i.e. device ids)."
   ]
  },
  {
   "cell_type": "code",
   "execution_count": 68,
   "metadata": {},
   "outputs": [],
   "source": [
    "# create total number of GPS signals per place_id/date\n",
    "# and create total number of unique visitors\n",
    "gsu_total_and_unique = (gpssig_stores_useraff\n",
    "                        .groupby(by=[\"date\", \"store_name\", \"store_id\"])\n",
    "                        .agg({\"lat\": \"count\", \"device_id\": \"nunique\"})\n",
    "                        .rename(columns={\"lat\": \"total_signals\", \"device_id\": \"unique_visits\"})\n",
    "                        .reset_index())"
   ]
  },
  {
   "cell_type": "code",
   "execution_count": 69,
   "metadata": {},
   "outputs": [
    {
     "data": {
      "text/plain": [
       "(1199, 5)"
      ]
     },
     "execution_count": 69,
     "metadata": {},
     "output_type": "execute_result"
    }
   ],
   "source": [
    "gsu_total_and_unique.shape"
   ]
  },
  {
   "cell_type": "code",
   "execution_count": 70,
   "metadata": {},
   "outputs": [
    {
     "data": {
      "text/html": [
       "<div>\n",
       "<style scoped>\n",
       "    .dataframe tbody tr th:only-of-type {\n",
       "        vertical-align: middle;\n",
       "    }\n",
       "\n",
       "    .dataframe tbody tr th {\n",
       "        vertical-align: top;\n",
       "    }\n",
       "\n",
       "    .dataframe thead th {\n",
       "        text-align: right;\n",
       "    }\n",
       "</style>\n",
       "<table border=\"1\" class=\"dataframe\">\n",
       "  <thead>\n",
       "    <tr style=\"text-align: right;\">\n",
       "      <th></th>\n",
       "      <th>date</th>\n",
       "      <th>store_name</th>\n",
       "      <th>store_id</th>\n",
       "      <th>total_signals</th>\n",
       "      <th>unique_visits</th>\n",
       "    </tr>\n",
       "  </thead>\n",
       "  <tbody>\n",
       "    <tr>\n",
       "      <th>0</th>\n",
       "      <td>2021-01-01</td>\n",
       "      <td>Aldi</td>\n",
       "      <td>place_64</td>\n",
       "      <td>1</td>\n",
       "      <td>1</td>\n",
       "    </tr>\n",
       "    <tr>\n",
       "      <th>1</th>\n",
       "      <td>2021-01-01</td>\n",
       "      <td>Burger King</td>\n",
       "      <td>place_42</td>\n",
       "      <td>4</td>\n",
       "      <td>1</td>\n",
       "    </tr>\n",
       "    <tr>\n",
       "      <th>2</th>\n",
       "      <td>2021-01-01</td>\n",
       "      <td>Burger King</td>\n",
       "      <td>place_43</td>\n",
       "      <td>1</td>\n",
       "      <td>1</td>\n",
       "    </tr>\n",
       "    <tr>\n",
       "      <th>3</th>\n",
       "      <td>2021-01-01</td>\n",
       "      <td>Burger King</td>\n",
       "      <td>place_50</td>\n",
       "      <td>1</td>\n",
       "      <td>1</td>\n",
       "    </tr>\n",
       "    <tr>\n",
       "      <th>4</th>\n",
       "      <td>2021-01-01</td>\n",
       "      <td>McDonald's</td>\n",
       "      <td>place_17</td>\n",
       "      <td>1</td>\n",
       "      <td>1</td>\n",
       "    </tr>\n",
       "  </tbody>\n",
       "</table>\n",
       "</div>"
      ],
      "text/plain": [
       "         date   store_name  store_id  total_signals  unique_visits\n",
       "0  2021-01-01         Aldi  place_64              1              1\n",
       "1  2021-01-01  Burger King  place_42              4              1\n",
       "2  2021-01-01  Burger King  place_43              1              1\n",
       "3  2021-01-01  Burger King  place_50              1              1\n",
       "4  2021-01-01   McDonald's  place_17              1              1"
      ]
     },
     "execution_count": 70,
     "metadata": {},
     "output_type": "execute_result"
    }
   ],
   "source": [
    "gsu_total_and_unique.head()"
   ]
  },
  {
   "cell_type": "code",
   "execution_count": 71,
   "metadata": {},
   "outputs": [
    {
     "data": {
      "text/html": [
       "<div>\n",
       "<style scoped>\n",
       "    .dataframe tbody tr th:only-of-type {\n",
       "        vertical-align: middle;\n",
       "    }\n",
       "\n",
       "    .dataframe tbody tr th {\n",
       "        vertical-align: top;\n",
       "    }\n",
       "\n",
       "    .dataframe thead th {\n",
       "        text-align: right;\n",
       "    }\n",
       "</style>\n",
       "<table border=\"1\" class=\"dataframe\">\n",
       "  <thead>\n",
       "    <tr style=\"text-align: right;\">\n",
       "      <th></th>\n",
       "      <th>date</th>\n",
       "      <th>store_name</th>\n",
       "      <th>store_id</th>\n",
       "      <th>total_signals</th>\n",
       "      <th>unique_visits</th>\n",
       "    </tr>\n",
       "  </thead>\n",
       "  <tbody>\n",
       "    <tr>\n",
       "      <th>1194</th>\n",
       "      <td>2021-01-21</td>\n",
       "      <td>Rewe</td>\n",
       "      <td>place_199</td>\n",
       "      <td>1</td>\n",
       "      <td>1</td>\n",
       "    </tr>\n",
       "    <tr>\n",
       "      <th>1195</th>\n",
       "      <td>2021-01-21</td>\n",
       "      <td>Rewe</td>\n",
       "      <td>place_200</td>\n",
       "      <td>1</td>\n",
       "      <td>1</td>\n",
       "    </tr>\n",
       "    <tr>\n",
       "      <th>1196</th>\n",
       "      <td>2021-01-21</td>\n",
       "      <td>Rewe</td>\n",
       "      <td>place_203</td>\n",
       "      <td>2</td>\n",
       "      <td>2</td>\n",
       "    </tr>\n",
       "    <tr>\n",
       "      <th>1197</th>\n",
       "      <td>2021-01-21</td>\n",
       "      <td>Rewe</td>\n",
       "      <td>place_209</td>\n",
       "      <td>3</td>\n",
       "      <td>2</td>\n",
       "    </tr>\n",
       "    <tr>\n",
       "      <th>1198</th>\n",
       "      <td>2021-01-21</td>\n",
       "      <td>Rewe</td>\n",
       "      <td>place_210</td>\n",
       "      <td>4</td>\n",
       "      <td>2</td>\n",
       "    </tr>\n",
       "  </tbody>\n",
       "</table>\n",
       "</div>"
      ],
      "text/plain": [
       "            date store_name   store_id  total_signals  unique_visits\n",
       "1194  2021-01-21       Rewe  place_199              1              1\n",
       "1195  2021-01-21       Rewe  place_200              1              1\n",
       "1196  2021-01-21       Rewe  place_203              2              2\n",
       "1197  2021-01-21       Rewe  place_209              3              2\n",
       "1198  2021-01-21       Rewe  place_210              4              2"
      ]
     },
     "execution_count": 71,
     "metadata": {},
     "output_type": "execute_result"
    }
   ],
   "source": [
    "gsu_total_and_unique.tail()"
   ]
  },
  {
   "cell_type": "markdown",
   "metadata": {},
   "source": [
    "### 1.c.iii A total number of unique visitors belonging to each affinity group."
   ]
  },
  {
   "cell_type": "code",
   "execution_count": 72,
   "metadata": {},
   "outputs": [
    {
     "name": "stdout",
     "output_type": "stream",
     "text": [
      "Creating total number of unique visitors belonging to each affinity group...\n",
      "Create total number of unique visitors belonging to each affinity group took 0.0 minutes.\n"
     ]
    }
   ],
   "source": [
    "# total number of unique visitors belonging to each affinity group\n",
    "start = time.time()\n",
    "print(\"Creating total number of unique visitors belonging to each affinity group...\")\n",
    "\n",
    "gsu_unique_aff = (gpssig_stores_useraff\n",
    "                  .drop([\"lat\", \"lon\", \"geometry\", \"index_right\"], axis=1)\n",
    "                  .drop_duplicates(subset=[\"date\", \"store_name\", \"store_id\", \"device_id\"])\n",
    "                  .groupby(by=[\"date\", \"store_name\", \"store_id\"])\n",
    "                  .agg(sum) # would sum lat, lon and device_id as well what is nonsense!!!\n",
    "                  .reset_index()\n",
    "                  .drop([\"device_id\"], axis=1))\n",
    "\n",
    "end = time.time()\n",
    "dt = end - start\n",
    "print(f\"Create total number of unique visitors belonging to each affinity group took {round(dt/60, 2)} minutes.\")"
   ]
  },
  {
   "cell_type": "code",
   "execution_count": 73,
   "metadata": {},
   "outputs": [
    {
     "data": {
      "text/plain": [
       "(1199, 19)"
      ]
     },
     "execution_count": 73,
     "metadata": {},
     "output_type": "execute_result"
    }
   ],
   "source": [
    "gsu_unique_aff.shape"
   ]
  },
  {
   "cell_type": "code",
   "execution_count": 74,
   "metadata": {},
   "outputs": [
    {
     "data": {
      "text/html": [
       "<div>\n",
       "<style scoped>\n",
       "    .dataframe tbody tr th:only-of-type {\n",
       "        vertical-align: middle;\n",
       "    }\n",
       "\n",
       "    .dataframe tbody tr th {\n",
       "        vertical-align: top;\n",
       "    }\n",
       "\n",
       "    .dataframe thead th {\n",
       "        text-align: right;\n",
       "    }\n",
       "</style>\n",
       "<table border=\"1\" class=\"dataframe\">\n",
       "  <thead>\n",
       "    <tr style=\"text-align: right;\">\n",
       "      <th></th>\n",
       "      <th>date</th>\n",
       "      <th>store_name</th>\n",
       "      <th>store_id</th>\n",
       "      <th>addidas</th>\n",
       "      <th>apple</th>\n",
       "      <th>bmw</th>\n",
       "      <th>employed</th>\n",
       "      <th>female</th>\n",
       "      <th>h_&amp;_m</th>\n",
       "      <th>high_income</th>\n",
       "      <th>honda</th>\n",
       "      <th>job_seeking</th>\n",
       "      <th>low_income</th>\n",
       "      <th>male</th>\n",
       "      <th>mercedes-benz</th>\n",
       "      <th>middle_income</th>\n",
       "      <th>retired</th>\n",
       "      <th>student</th>\n",
       "      <th>tommy_helfinger</th>\n",
       "    </tr>\n",
       "  </thead>\n",
       "  <tbody>\n",
       "    <tr>\n",
       "      <th>0</th>\n",
       "      <td>2021-01-01</td>\n",
       "      <td>Aldi</td>\n",
       "      <td>place_64</td>\n",
       "      <td>0</td>\n",
       "      <td>0</td>\n",
       "      <td>0</td>\n",
       "      <td>0</td>\n",
       "      <td>0</td>\n",
       "      <td>0</td>\n",
       "      <td>0</td>\n",
       "      <td>0</td>\n",
       "      <td>0</td>\n",
       "      <td>1</td>\n",
       "      <td>1</td>\n",
       "      <td>0</td>\n",
       "      <td>0</td>\n",
       "      <td>0</td>\n",
       "      <td>0</td>\n",
       "      <td>0</td>\n",
       "    </tr>\n",
       "    <tr>\n",
       "      <th>1</th>\n",
       "      <td>2021-01-01</td>\n",
       "      <td>Burger King</td>\n",
       "      <td>place_42</td>\n",
       "      <td>0</td>\n",
       "      <td>0</td>\n",
       "      <td>0</td>\n",
       "      <td>0</td>\n",
       "      <td>0</td>\n",
       "      <td>0</td>\n",
       "      <td>1</td>\n",
       "      <td>0</td>\n",
       "      <td>0</td>\n",
       "      <td>0</td>\n",
       "      <td>1</td>\n",
       "      <td>0</td>\n",
       "      <td>0</td>\n",
       "      <td>0</td>\n",
       "      <td>1</td>\n",
       "      <td>0</td>\n",
       "    </tr>\n",
       "    <tr>\n",
       "      <th>2</th>\n",
       "      <td>2021-01-01</td>\n",
       "      <td>Burger King</td>\n",
       "      <td>place_43</td>\n",
       "      <td>0</td>\n",
       "      <td>0</td>\n",
       "      <td>0</td>\n",
       "      <td>0</td>\n",
       "      <td>0</td>\n",
       "      <td>0</td>\n",
       "      <td>0</td>\n",
       "      <td>0</td>\n",
       "      <td>0</td>\n",
       "      <td>0</td>\n",
       "      <td>1</td>\n",
       "      <td>0</td>\n",
       "      <td>1</td>\n",
       "      <td>0</td>\n",
       "      <td>0</td>\n",
       "      <td>0</td>\n",
       "    </tr>\n",
       "    <tr>\n",
       "      <th>3</th>\n",
       "      <td>2021-01-01</td>\n",
       "      <td>Burger King</td>\n",
       "      <td>place_50</td>\n",
       "      <td>0</td>\n",
       "      <td>0</td>\n",
       "      <td>0</td>\n",
       "      <td>0</td>\n",
       "      <td>0</td>\n",
       "      <td>0</td>\n",
       "      <td>0</td>\n",
       "      <td>1</td>\n",
       "      <td>0</td>\n",
       "      <td>0</td>\n",
       "      <td>1</td>\n",
       "      <td>0</td>\n",
       "      <td>1</td>\n",
       "      <td>0</td>\n",
       "      <td>0</td>\n",
       "      <td>0</td>\n",
       "    </tr>\n",
       "    <tr>\n",
       "      <th>4</th>\n",
       "      <td>2021-01-01</td>\n",
       "      <td>McDonald's</td>\n",
       "      <td>place_17</td>\n",
       "      <td>0</td>\n",
       "      <td>0</td>\n",
       "      <td>0</td>\n",
       "      <td>0</td>\n",
       "      <td>0</td>\n",
       "      <td>0</td>\n",
       "      <td>0</td>\n",
       "      <td>0</td>\n",
       "      <td>0</td>\n",
       "      <td>0</td>\n",
       "      <td>1</td>\n",
       "      <td>0</td>\n",
       "      <td>1</td>\n",
       "      <td>0</td>\n",
       "      <td>0</td>\n",
       "      <td>0</td>\n",
       "    </tr>\n",
       "  </tbody>\n",
       "</table>\n",
       "</div>"
      ],
      "text/plain": [
       "         date   store_name  store_id  addidas  apple  bmw  employed  female  \\\n",
       "0  2021-01-01         Aldi  place_64        0      0    0         0       0   \n",
       "1  2021-01-01  Burger King  place_42        0      0    0         0       0   \n",
       "2  2021-01-01  Burger King  place_43        0      0    0         0       0   \n",
       "3  2021-01-01  Burger King  place_50        0      0    0         0       0   \n",
       "4  2021-01-01   McDonald's  place_17        0      0    0         0       0   \n",
       "\n",
       "   h_&_m  high_income  honda  job_seeking  low_income  male  mercedes-benz  \\\n",
       "0      0            0      0            0           1     1              0   \n",
       "1      0            1      0            0           0     1              0   \n",
       "2      0            0      0            0           0     1              0   \n",
       "3      0            0      1            0           0     1              0   \n",
       "4      0            0      0            0           0     1              0   \n",
       "\n",
       "   middle_income  retired  student  tommy_helfinger  \n",
       "0              0        0        0                0  \n",
       "1              0        0        1                0  \n",
       "2              1        0        0                0  \n",
       "3              1        0        0                0  \n",
       "4              1        0        0                0  "
      ]
     },
     "execution_count": 74,
     "metadata": {},
     "output_type": "execute_result"
    }
   ],
   "source": [
    "gsu_unique_aff.head() # gsu_unique_aff"
   ]
  },
  {
   "cell_type": "code",
   "execution_count": 75,
   "metadata": {},
   "outputs": [],
   "source": [
    "# delete unnecessary columns\n",
    "gsu_unique_aff = gsu_unique_aff.drop([\"date\", \"store_name\", \"store_id\"], axis=1)"
   ]
  },
  {
   "cell_type": "code",
   "execution_count": 76,
   "metadata": {},
   "outputs": [
    {
     "data": {
      "text/html": [
       "<div>\n",
       "<style scoped>\n",
       "    .dataframe tbody tr th:only-of-type {\n",
       "        vertical-align: middle;\n",
       "    }\n",
       "\n",
       "    .dataframe tbody tr th {\n",
       "        vertical-align: top;\n",
       "    }\n",
       "\n",
       "    .dataframe thead th {\n",
       "        text-align: right;\n",
       "    }\n",
       "</style>\n",
       "<table border=\"1\" class=\"dataframe\">\n",
       "  <thead>\n",
       "    <tr style=\"text-align: right;\">\n",
       "      <th></th>\n",
       "      <th>addidas</th>\n",
       "      <th>apple</th>\n",
       "      <th>bmw</th>\n",
       "      <th>employed</th>\n",
       "      <th>female</th>\n",
       "      <th>h_&amp;_m</th>\n",
       "      <th>high_income</th>\n",
       "      <th>honda</th>\n",
       "      <th>job_seeking</th>\n",
       "      <th>low_income</th>\n",
       "      <th>male</th>\n",
       "      <th>mercedes-benz</th>\n",
       "      <th>middle_income</th>\n",
       "      <th>retired</th>\n",
       "      <th>student</th>\n",
       "      <th>tommy_helfinger</th>\n",
       "    </tr>\n",
       "  </thead>\n",
       "  <tbody>\n",
       "    <tr>\n",
       "      <th>0</th>\n",
       "      <td>0</td>\n",
       "      <td>0</td>\n",
       "      <td>0</td>\n",
       "      <td>0</td>\n",
       "      <td>0</td>\n",
       "      <td>0</td>\n",
       "      <td>0</td>\n",
       "      <td>0</td>\n",
       "      <td>0</td>\n",
       "      <td>1</td>\n",
       "      <td>1</td>\n",
       "      <td>0</td>\n",
       "      <td>0</td>\n",
       "      <td>0</td>\n",
       "      <td>0</td>\n",
       "      <td>0</td>\n",
       "    </tr>\n",
       "    <tr>\n",
       "      <th>1</th>\n",
       "      <td>0</td>\n",
       "      <td>0</td>\n",
       "      <td>0</td>\n",
       "      <td>0</td>\n",
       "      <td>0</td>\n",
       "      <td>0</td>\n",
       "      <td>1</td>\n",
       "      <td>0</td>\n",
       "      <td>0</td>\n",
       "      <td>0</td>\n",
       "      <td>1</td>\n",
       "      <td>0</td>\n",
       "      <td>0</td>\n",
       "      <td>0</td>\n",
       "      <td>1</td>\n",
       "      <td>0</td>\n",
       "    </tr>\n",
       "    <tr>\n",
       "      <th>2</th>\n",
       "      <td>0</td>\n",
       "      <td>0</td>\n",
       "      <td>0</td>\n",
       "      <td>0</td>\n",
       "      <td>0</td>\n",
       "      <td>0</td>\n",
       "      <td>0</td>\n",
       "      <td>0</td>\n",
       "      <td>0</td>\n",
       "      <td>0</td>\n",
       "      <td>1</td>\n",
       "      <td>0</td>\n",
       "      <td>1</td>\n",
       "      <td>0</td>\n",
       "      <td>0</td>\n",
       "      <td>0</td>\n",
       "    </tr>\n",
       "    <tr>\n",
       "      <th>3</th>\n",
       "      <td>0</td>\n",
       "      <td>0</td>\n",
       "      <td>0</td>\n",
       "      <td>0</td>\n",
       "      <td>0</td>\n",
       "      <td>0</td>\n",
       "      <td>0</td>\n",
       "      <td>1</td>\n",
       "      <td>0</td>\n",
       "      <td>0</td>\n",
       "      <td>1</td>\n",
       "      <td>0</td>\n",
       "      <td>1</td>\n",
       "      <td>0</td>\n",
       "      <td>0</td>\n",
       "      <td>0</td>\n",
       "    </tr>\n",
       "    <tr>\n",
       "      <th>4</th>\n",
       "      <td>0</td>\n",
       "      <td>0</td>\n",
       "      <td>0</td>\n",
       "      <td>0</td>\n",
       "      <td>0</td>\n",
       "      <td>0</td>\n",
       "      <td>0</td>\n",
       "      <td>0</td>\n",
       "      <td>0</td>\n",
       "      <td>0</td>\n",
       "      <td>1</td>\n",
       "      <td>0</td>\n",
       "      <td>1</td>\n",
       "      <td>0</td>\n",
       "      <td>0</td>\n",
       "      <td>0</td>\n",
       "    </tr>\n",
       "  </tbody>\n",
       "</table>\n",
       "</div>"
      ],
      "text/plain": [
       "   addidas  apple  bmw  employed  female  h_&_m  high_income  honda  \\\n",
       "0        0      0    0         0       0      0            0      0   \n",
       "1        0      0    0         0       0      0            1      0   \n",
       "2        0      0    0         0       0      0            0      0   \n",
       "3        0      0    0         0       0      0            0      1   \n",
       "4        0      0    0         0       0      0            0      0   \n",
       "\n",
       "   job_seeking  low_income  male  mercedes-benz  middle_income  retired  \\\n",
       "0            0           1     1              0              0        0   \n",
       "1            0           0     1              0              0        0   \n",
       "2            0           0     1              0              1        0   \n",
       "3            0           0     1              0              1        0   \n",
       "4            0           0     1              0              1        0   \n",
       "\n",
       "   student  tommy_helfinger  \n",
       "0        0                0  \n",
       "1        1                0  \n",
       "2        0                0  \n",
       "3        0                0  \n",
       "4        0                0  "
      ]
     },
     "execution_count": 76,
     "metadata": {},
     "output_type": "execute_result"
    }
   ],
   "source": [
    "gsu_unique_aff.head()"
   ]
  },
  {
   "cell_type": "markdown",
   "metadata": {},
   "source": [
    "### concat the gsu_total_and_unique and gsu_unique_aff"
   ]
  },
  {
   "cell_type": "code",
   "execution_count": 77,
   "metadata": {},
   "outputs": [],
   "source": [
    "# concat the gsu_total_and_unique and gsu_unique_aff\n",
    "final_df = pd.concat([gsu_total_and_unique, gsu_unique_aff], axis=1)"
   ]
  },
  {
   "cell_type": "code",
   "execution_count": 78,
   "metadata": {},
   "outputs": [
    {
     "data": {
      "text/plain": [
       "(1199, 21)"
      ]
     },
     "execution_count": 78,
     "metadata": {},
     "output_type": "execute_result"
    }
   ],
   "source": [
    "final_df.shape"
   ]
  },
  {
   "cell_type": "code",
   "execution_count": 79,
   "metadata": {},
   "outputs": [
    {
     "data": {
      "text/html": [
       "<div>\n",
       "<style scoped>\n",
       "    .dataframe tbody tr th:only-of-type {\n",
       "        vertical-align: middle;\n",
       "    }\n",
       "\n",
       "    .dataframe tbody tr th {\n",
       "        vertical-align: top;\n",
       "    }\n",
       "\n",
       "    .dataframe thead th {\n",
       "        text-align: right;\n",
       "    }\n",
       "</style>\n",
       "<table border=\"1\" class=\"dataframe\">\n",
       "  <thead>\n",
       "    <tr style=\"text-align: right;\">\n",
       "      <th></th>\n",
       "      <th>date</th>\n",
       "      <th>store_name</th>\n",
       "      <th>store_id</th>\n",
       "      <th>total_signals</th>\n",
       "      <th>unique_visits</th>\n",
       "      <th>addidas</th>\n",
       "      <th>apple</th>\n",
       "      <th>bmw</th>\n",
       "      <th>employed</th>\n",
       "      <th>female</th>\n",
       "      <th>h_&amp;_m</th>\n",
       "      <th>high_income</th>\n",
       "      <th>honda</th>\n",
       "      <th>job_seeking</th>\n",
       "      <th>low_income</th>\n",
       "      <th>male</th>\n",
       "      <th>mercedes-benz</th>\n",
       "      <th>middle_income</th>\n",
       "      <th>retired</th>\n",
       "      <th>student</th>\n",
       "      <th>tommy_helfinger</th>\n",
       "    </tr>\n",
       "  </thead>\n",
       "  <tbody>\n",
       "    <tr>\n",
       "      <th>0</th>\n",
       "      <td>2021-01-01</td>\n",
       "      <td>Aldi</td>\n",
       "      <td>place_64</td>\n",
       "      <td>1</td>\n",
       "      <td>1</td>\n",
       "      <td>0</td>\n",
       "      <td>0</td>\n",
       "      <td>0</td>\n",
       "      <td>0</td>\n",
       "      <td>0</td>\n",
       "      <td>0</td>\n",
       "      <td>0</td>\n",
       "      <td>0</td>\n",
       "      <td>0</td>\n",
       "      <td>1</td>\n",
       "      <td>1</td>\n",
       "      <td>0</td>\n",
       "      <td>0</td>\n",
       "      <td>0</td>\n",
       "      <td>0</td>\n",
       "      <td>0</td>\n",
       "    </tr>\n",
       "    <tr>\n",
       "      <th>1</th>\n",
       "      <td>2021-01-01</td>\n",
       "      <td>Burger King</td>\n",
       "      <td>place_42</td>\n",
       "      <td>4</td>\n",
       "      <td>1</td>\n",
       "      <td>0</td>\n",
       "      <td>0</td>\n",
       "      <td>0</td>\n",
       "      <td>0</td>\n",
       "      <td>0</td>\n",
       "      <td>0</td>\n",
       "      <td>1</td>\n",
       "      <td>0</td>\n",
       "      <td>0</td>\n",
       "      <td>0</td>\n",
       "      <td>1</td>\n",
       "      <td>0</td>\n",
       "      <td>0</td>\n",
       "      <td>0</td>\n",
       "      <td>1</td>\n",
       "      <td>0</td>\n",
       "    </tr>\n",
       "    <tr>\n",
       "      <th>2</th>\n",
       "      <td>2021-01-01</td>\n",
       "      <td>Burger King</td>\n",
       "      <td>place_43</td>\n",
       "      <td>1</td>\n",
       "      <td>1</td>\n",
       "      <td>0</td>\n",
       "      <td>0</td>\n",
       "      <td>0</td>\n",
       "      <td>0</td>\n",
       "      <td>0</td>\n",
       "      <td>0</td>\n",
       "      <td>0</td>\n",
       "      <td>0</td>\n",
       "      <td>0</td>\n",
       "      <td>0</td>\n",
       "      <td>1</td>\n",
       "      <td>0</td>\n",
       "      <td>1</td>\n",
       "      <td>0</td>\n",
       "      <td>0</td>\n",
       "      <td>0</td>\n",
       "    </tr>\n",
       "    <tr>\n",
       "      <th>3</th>\n",
       "      <td>2021-01-01</td>\n",
       "      <td>Burger King</td>\n",
       "      <td>place_50</td>\n",
       "      <td>1</td>\n",
       "      <td>1</td>\n",
       "      <td>0</td>\n",
       "      <td>0</td>\n",
       "      <td>0</td>\n",
       "      <td>0</td>\n",
       "      <td>0</td>\n",
       "      <td>0</td>\n",
       "      <td>0</td>\n",
       "      <td>1</td>\n",
       "      <td>0</td>\n",
       "      <td>0</td>\n",
       "      <td>1</td>\n",
       "      <td>0</td>\n",
       "      <td>1</td>\n",
       "      <td>0</td>\n",
       "      <td>0</td>\n",
       "      <td>0</td>\n",
       "    </tr>\n",
       "    <tr>\n",
       "      <th>4</th>\n",
       "      <td>2021-01-01</td>\n",
       "      <td>McDonald's</td>\n",
       "      <td>place_17</td>\n",
       "      <td>1</td>\n",
       "      <td>1</td>\n",
       "      <td>0</td>\n",
       "      <td>0</td>\n",
       "      <td>0</td>\n",
       "      <td>0</td>\n",
       "      <td>0</td>\n",
       "      <td>0</td>\n",
       "      <td>0</td>\n",
       "      <td>0</td>\n",
       "      <td>0</td>\n",
       "      <td>0</td>\n",
       "      <td>1</td>\n",
       "      <td>0</td>\n",
       "      <td>1</td>\n",
       "      <td>0</td>\n",
       "      <td>0</td>\n",
       "      <td>0</td>\n",
       "    </tr>\n",
       "  </tbody>\n",
       "</table>\n",
       "</div>"
      ],
      "text/plain": [
       "         date   store_name  store_id  total_signals  unique_visits  addidas  \\\n",
       "0  2021-01-01         Aldi  place_64              1              1        0   \n",
       "1  2021-01-01  Burger King  place_42              4              1        0   \n",
       "2  2021-01-01  Burger King  place_43              1              1        0   \n",
       "3  2021-01-01  Burger King  place_50              1              1        0   \n",
       "4  2021-01-01   McDonald's  place_17              1              1        0   \n",
       "\n",
       "   apple  bmw  employed  female  h_&_m  high_income  honda  job_seeking  \\\n",
       "0      0    0         0       0      0            0      0            0   \n",
       "1      0    0         0       0      0            1      0            0   \n",
       "2      0    0         0       0      0            0      0            0   \n",
       "3      0    0         0       0      0            0      1            0   \n",
       "4      0    0         0       0      0            0      0            0   \n",
       "\n",
       "   low_income  male  mercedes-benz  middle_income  retired  student  \\\n",
       "0           1     1              0              0        0        0   \n",
       "1           0     1              0              0        0        1   \n",
       "2           0     1              0              1        0        0   \n",
       "3           0     1              0              1        0        0   \n",
       "4           0     1              0              1        0        0   \n",
       "\n",
       "   tommy_helfinger  \n",
       "0                0  \n",
       "1                0  \n",
       "2                0  \n",
       "3                0  \n",
       "4                0  "
      ]
     },
     "execution_count": 79,
     "metadata": {},
     "output_type": "execute_result"
    }
   ],
   "source": [
    "final_df.head()"
   ]
  },
  {
   "cell_type": "code",
   "execution_count": 80,
   "metadata": {},
   "outputs": [
    {
     "data": {
      "text/html": [
       "<div>\n",
       "<style scoped>\n",
       "    .dataframe tbody tr th:only-of-type {\n",
       "        vertical-align: middle;\n",
       "    }\n",
       "\n",
       "    .dataframe tbody tr th {\n",
       "        vertical-align: top;\n",
       "    }\n",
       "\n",
       "    .dataframe thead th {\n",
       "        text-align: right;\n",
       "    }\n",
       "</style>\n",
       "<table border=\"1\" class=\"dataframe\">\n",
       "  <thead>\n",
       "    <tr style=\"text-align: right;\">\n",
       "      <th></th>\n",
       "      <th>date</th>\n",
       "      <th>store_name</th>\n",
       "      <th>store_id</th>\n",
       "      <th>total_signals</th>\n",
       "      <th>unique_visits</th>\n",
       "      <th>addidas</th>\n",
       "      <th>apple</th>\n",
       "      <th>bmw</th>\n",
       "      <th>employed</th>\n",
       "      <th>female</th>\n",
       "      <th>h_&amp;_m</th>\n",
       "      <th>high_income</th>\n",
       "      <th>honda</th>\n",
       "      <th>job_seeking</th>\n",
       "      <th>low_income</th>\n",
       "      <th>male</th>\n",
       "      <th>mercedes-benz</th>\n",
       "      <th>middle_income</th>\n",
       "      <th>retired</th>\n",
       "      <th>student</th>\n",
       "      <th>tommy_helfinger</th>\n",
       "    </tr>\n",
       "  </thead>\n",
       "  <tbody>\n",
       "    <tr>\n",
       "      <th>1194</th>\n",
       "      <td>2021-01-21</td>\n",
       "      <td>Rewe</td>\n",
       "      <td>place_199</td>\n",
       "      <td>1</td>\n",
       "      <td>1</td>\n",
       "      <td>0</td>\n",
       "      <td>0</td>\n",
       "      <td>0</td>\n",
       "      <td>0</td>\n",
       "      <td>0</td>\n",
       "      <td>0</td>\n",
       "      <td>0</td>\n",
       "      <td>0</td>\n",
       "      <td>0</td>\n",
       "      <td>1</td>\n",
       "      <td>1</td>\n",
       "      <td>0</td>\n",
       "      <td>0</td>\n",
       "      <td>0</td>\n",
       "      <td>0</td>\n",
       "      <td>0</td>\n",
       "    </tr>\n",
       "    <tr>\n",
       "      <th>1195</th>\n",
       "      <td>2021-01-21</td>\n",
       "      <td>Rewe</td>\n",
       "      <td>place_200</td>\n",
       "      <td>1</td>\n",
       "      <td>1</td>\n",
       "      <td>0</td>\n",
       "      <td>0</td>\n",
       "      <td>0</td>\n",
       "      <td>0</td>\n",
       "      <td>0</td>\n",
       "      <td>0</td>\n",
       "      <td>0</td>\n",
       "      <td>1</td>\n",
       "      <td>1</td>\n",
       "      <td>0</td>\n",
       "      <td>1</td>\n",
       "      <td>0</td>\n",
       "      <td>1</td>\n",
       "      <td>0</td>\n",
       "      <td>0</td>\n",
       "      <td>0</td>\n",
       "    </tr>\n",
       "    <tr>\n",
       "      <th>1196</th>\n",
       "      <td>2021-01-21</td>\n",
       "      <td>Rewe</td>\n",
       "      <td>place_203</td>\n",
       "      <td>2</td>\n",
       "      <td>2</td>\n",
       "      <td>1</td>\n",
       "      <td>0</td>\n",
       "      <td>0</td>\n",
       "      <td>0</td>\n",
       "      <td>0</td>\n",
       "      <td>1</td>\n",
       "      <td>0</td>\n",
       "      <td>0</td>\n",
       "      <td>0</td>\n",
       "      <td>1</td>\n",
       "      <td>2</td>\n",
       "      <td>0</td>\n",
       "      <td>1</td>\n",
       "      <td>0</td>\n",
       "      <td>0</td>\n",
       "      <td>0</td>\n",
       "    </tr>\n",
       "    <tr>\n",
       "      <th>1197</th>\n",
       "      <td>2021-01-21</td>\n",
       "      <td>Rewe</td>\n",
       "      <td>place_209</td>\n",
       "      <td>3</td>\n",
       "      <td>2</td>\n",
       "      <td>0</td>\n",
       "      <td>0</td>\n",
       "      <td>0</td>\n",
       "      <td>0</td>\n",
       "      <td>0</td>\n",
       "      <td>0</td>\n",
       "      <td>0</td>\n",
       "      <td>0</td>\n",
       "      <td>0</td>\n",
       "      <td>1</td>\n",
       "      <td>2</td>\n",
       "      <td>0</td>\n",
       "      <td>1</td>\n",
       "      <td>0</td>\n",
       "      <td>0</td>\n",
       "      <td>0</td>\n",
       "    </tr>\n",
       "    <tr>\n",
       "      <th>1198</th>\n",
       "      <td>2021-01-21</td>\n",
       "      <td>Rewe</td>\n",
       "      <td>place_210</td>\n",
       "      <td>4</td>\n",
       "      <td>2</td>\n",
       "      <td>0</td>\n",
       "      <td>0</td>\n",
       "      <td>1</td>\n",
       "      <td>0</td>\n",
       "      <td>0</td>\n",
       "      <td>0</td>\n",
       "      <td>0</td>\n",
       "      <td>0</td>\n",
       "      <td>0</td>\n",
       "      <td>0</td>\n",
       "      <td>2</td>\n",
       "      <td>0</td>\n",
       "      <td>2</td>\n",
       "      <td>0</td>\n",
       "      <td>0</td>\n",
       "      <td>0</td>\n",
       "    </tr>\n",
       "  </tbody>\n",
       "</table>\n",
       "</div>"
      ],
      "text/plain": [
       "            date store_name   store_id  total_signals  unique_visits  addidas  \\\n",
       "1194  2021-01-21       Rewe  place_199              1              1        0   \n",
       "1195  2021-01-21       Rewe  place_200              1              1        0   \n",
       "1196  2021-01-21       Rewe  place_203              2              2        1   \n",
       "1197  2021-01-21       Rewe  place_209              3              2        0   \n",
       "1198  2021-01-21       Rewe  place_210              4              2        0   \n",
       "\n",
       "      apple  bmw  employed  female  h_&_m  high_income  honda  job_seeking  \\\n",
       "1194      0    0         0       0      0            0      0            0   \n",
       "1195      0    0         0       0      0            0      1            1   \n",
       "1196      0    0         0       0      1            0      0            0   \n",
       "1197      0    0         0       0      0            0      0            0   \n",
       "1198      0    1         0       0      0            0      0            0   \n",
       "\n",
       "      low_income  male  mercedes-benz  middle_income  retired  student  \\\n",
       "1194           1     1              0              0        0        0   \n",
       "1195           0     1              0              1        0        0   \n",
       "1196           1     2              0              1        0        0   \n",
       "1197           1     2              0              1        0        0   \n",
       "1198           0     2              0              2        0        0   \n",
       "\n",
       "      tommy_helfinger  \n",
       "1194                0  \n",
       "1195                0  \n",
       "1196                0  \n",
       "1197                0  \n",
       "1198                0  "
      ]
     },
     "execution_count": 80,
     "metadata": {},
     "output_type": "execute_result"
    }
   ],
   "source": [
    "final_df.tail()"
   ]
  },
  {
   "cell_type": "code",
   "execution_count": 81,
   "metadata": {},
   "outputs": [
    {
     "name": "stdout",
     "output_type": "stream",
     "text": [
      "final_df saved as csv\n"
     ]
    }
   ],
   "source": [
    "# save final df as csv\n",
    "final_df.to_csv(\"../out_data_sample/analysis.csv\", index=False)\n",
    "print(\"final_df saved as csv\")"
   ]
  },
  {
   "cell_type": "code",
   "execution_count": 82,
   "metadata": {},
   "outputs": [],
   "source": [
    "# Took about 20 seconds"
   ]
  },
  {
   "cell_type": "code",
   "execution_count": null,
   "metadata": {},
   "outputs": [],
   "source": []
  }
 ],
 "metadata": {
  "kernelspec": {
   "display_name": "Python 3",
   "language": "python",
   "name": "python3"
  },
  "language_info": {
   "codemirror_mode": {
    "name": "ipython",
    "version": 3
   },
   "file_extension": ".py",
   "mimetype": "text/x-python",
   "name": "python",
   "nbconvert_exporter": "python",
   "pygments_lexer": "ipython3",
   "version": "3.8.5"
  }
 },
 "nbformat": 4,
 "nbformat_minor": 4
}
