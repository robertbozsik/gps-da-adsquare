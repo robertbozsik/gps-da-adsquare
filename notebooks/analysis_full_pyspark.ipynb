{
 "cells": [
  {
   "cell_type": "markdown",
   "id": "portuguese-toddler",
   "metadata": {},
   "source": [
    "### Start SparkContext"
   ]
  },
  {
   "cell_type": "code",
   "execution_count": 1,
   "id": "expired-prototype",
   "metadata": {},
   "outputs": [
    {
     "data": {
      "text/html": [
       "\n",
       "        <div>\n",
       "            <p><b>SparkContext</b></p>\n",
       "\n",
       "            <p><a href=\"http://roberts-mbp:4040\">Spark UI</a></p>\n",
       "\n",
       "            <dl>\n",
       "              <dt>Version</dt>\n",
       "                <dd><code>v3.0.0</code></dd>\n",
       "              <dt>Master</dt>\n",
       "                <dd><code>local[*]</code></dd>\n",
       "              <dt>AppName</dt>\n",
       "                <dd><code>PySparkShell</code></dd>\n",
       "            </dl>\n",
       "        </div>\n",
       "        "
      ],
      "text/plain": [
       "<SparkContext master=local[*] appName=PySparkShell>"
      ]
     },
     "execution_count": 1,
     "metadata": {},
     "output_type": "execute_result"
    }
   ],
   "source": [
    "sc"
   ]
  },
  {
   "cell_type": "markdown",
   "id": "exceptional-pride",
   "metadata": {},
   "source": [
    "### imports"
   ]
  },
  {
   "cell_type": "code",
   "execution_count": 62,
   "id": "amended-revolution",
   "metadata": {},
   "outputs": [],
   "source": [
    "import os\n",
    "import datetime as dt\n",
    "import pytz # python timezones\n",
    "\n",
    "import matplotlib.pyplot as plt\n",
    "import matplotlib\n",
    "matplotlib.style.use('ggplot')\n",
    "matplotlib.rcParams['figure.figsize'] = (16, 20)\n",
    "\n",
    "from pyspark.sql import SparkSession\n",
    "import pyspark.sql.functions as func # resuse as func.coalace for example\n",
    "from pyspark.sql.types import StringType, IntegerType, FloatType, DoubleType, DecimalType\n",
    "from pyspark import SparkFiles\n",
    "\n",
    "import pandas as pd\n",
    "import geopandas as gpd\n",
    "from geopandas import GeoDataFrame # loading boundaries data\n",
    "from shapely.geometry import Point, Polygon, shape # creating geospatial data\n",
    "from shapely import wkb, wkt # creating and parsing geospatial data"
   ]
  },
  {
   "cell_type": "markdown",
   "id": "moral-savannah",
   "metadata": {},
   "source": [
    "### abbreviation\n",
    "**df** = Pandas DataFrame \\\n",
    "**gdf** = Geopandas GeoDataFrame \\\n",
    "**sdf** = Spark DataFrame"
   ]
  },
  {
   "cell_type": "markdown",
   "id": "neutral-amino",
   "metadata": {},
   "source": [
    "### GPS signals"
   ]
  },
  {
   "cell_type": "markdown",
   "id": "italian-automation",
   "metadata": {},
   "source": [
    "Python - converting UTC millisecond timestamp to local time \\\n",
    "https://stackoverflow.com/questions/52451105/python-converting-utc-millisecond-timestamp-to-local-time"
   ]
  },
  {
   "cell_type": "code",
   "execution_count": 63,
   "id": "thrown-fairy",
   "metadata": {},
   "outputs": [],
   "source": [
    "def date_from_utc_ms_ts(utc_ms_ts, tz_info) -> str:\n",
    "    \"\"\"Return a date (yyyy-mm-dd) from a string of utc timestamp in milliseconds and a timezone.\n",
    "\n",
    "    :param utc_ms_ts: Unix UTC timestamp in milliseconds (int or str)\n",
    "    :param tz_info: timezone info (pytz.tzfile)\n",
    "    :return: date yyyy-mm-dd (str)\n",
    "    \"\"\"\n",
    "    # convert from time stamp to datetime\n",
    "    utc_datetime = dt.datetime.utcfromtimestamp(int(utc_ms_ts) / 1000)\n",
    "    # set the timezone to UTC, and then convert to desired timezone\n",
    "    date = utc_datetime.replace(tzinfo=pytz.timezone('UTC')).astimezone(tz_info).strftime('%Y-%m-%d')\n",
    "    return date"
   ]
  },
  {
   "cell_type": "code",
   "execution_count": 64,
   "id": "younger-castle",
   "metadata": {},
   "outputs": [],
   "source": [
    "timestamp = \"1609459727000\""
   ]
  },
  {
   "cell_type": "code",
   "execution_count": 65,
   "id": "improved-immunology",
   "metadata": {},
   "outputs": [
    {
     "name": "stdout",
     "output_type": "stream",
     "text": [
      "<class 'str'>\n"
     ]
    },
    {
     "data": {
      "text/plain": [
       "'2021-01-01'"
      ]
     },
     "execution_count": 65,
     "metadata": {},
     "output_type": "execute_result"
    }
   ],
   "source": [
    "date = date_from_utc_ms_ts(timestamp, pytz.timezone('Europe/Berlin'))\n",
    "print(type(date))\n",
    "date"
   ]
  },
  {
   "cell_type": "code",
   "execution_count": 66,
   "id": "extensive-karen",
   "metadata": {},
   "outputs": [],
   "source": [
    "timestamp = 1609459727000"
   ]
  },
  {
   "cell_type": "code",
   "execution_count": 67,
   "id": "defensive-resolution",
   "metadata": {},
   "outputs": [
    {
     "name": "stdout",
     "output_type": "stream",
     "text": [
      "<class 'str'>\n"
     ]
    },
    {
     "data": {
      "text/plain": [
       "'2021-01-01'"
      ]
     },
     "execution_count": 67,
     "metadata": {},
     "output_type": "execute_result"
    }
   ],
   "source": [
    "date = date_from_utc_ms_ts(timestamp, pytz.timezone('Europe/Berlin'))\n",
    "print(type(date))\n",
    "date"
   ]
  },
  {
   "cell_type": "code",
   "execution_count": null,
   "id": "christian-antibody",
   "metadata": {},
   "outputs": [],
   "source": []
  }
 ],
 "metadata": {
  "kernelspec": {
   "display_name": "Python 3",
   "language": "python",
   "name": "python3"
  },
  "language_info": {
   "codemirror_mode": {
    "name": "ipython",
    "version": 3
   },
   "file_extension": ".py",
   "mimetype": "text/x-python",
   "name": "python",
   "nbconvert_exporter": "python",
   "pygments_lexer": "ipython3",
   "version": "3.8.3"
  }
 },
 "nbformat": 4,
 "nbformat_minor": 5
}
