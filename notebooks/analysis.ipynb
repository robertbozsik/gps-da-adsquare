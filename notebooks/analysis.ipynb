{
 "cells": [
  {
   "cell_type": "markdown",
   "metadata": {},
   "source": [
    "### installs"
   ]
  },
  {
   "cell_type": "code",
   "execution_count": 1,
   "metadata": {},
   "outputs": [],
   "source": [
    "# installs\n",
    "# pip3 install numpy\n",
    "# pip3 install pandas\n",
    "# pip3 install shapely\n",
    "# brew install gdal # fiona dependency\n",
    "# pip3 install fiona # geopandas dependency\n",
    "# pip3 install pyproj # geopandas dependency\n",
    "# pip3 install pygeos # geopandas dependency\n",
    "# pip3 install geopandas\n",
    "# pip3 install folium\n",
    "# pip3 install matplotlib\n",
    "# pip3 install seaborn"
   ]
  },
  {
   "cell_type": "markdown",
   "metadata": {},
   "source": [
    "### imports"
   ]
  },
  {
   "cell_type": "code",
   "execution_count": 1,
   "metadata": {},
   "outputs": [
    {
     "name": "stderr",
     "output_type": "stream",
     "text": [
      "/Users/robertbozsik/techtest/adsquare/adsquare_env/lib/python3.8/site-packages/geopandas/_compat.py:106: UserWarning: The Shapely GEOS version (3.8.0-CAPI-1.13.1 ) is incompatible with the GEOS version PyGEOS was compiled with (3.9.0-CAPI-1.16.2). Conversions between both will be slow.\n",
      "  warnings.warn(\n"
     ]
    }
   ],
   "source": [
    "# imports\n",
    "import pandas as pd\n",
    "import numpy as np\n",
    "import glob\n",
    "import os\n",
    "from pathlib import Path\n",
    "import re\n",
    "import time\n",
    "import pickle\n",
    "import shapely.wkt\n",
    "from shapely.geometry import Point, Polygon\n",
    "import geopandas as gpd\n",
    "from geopandas.tools import sjoin"
   ]
  },
  {
   "cell_type": "code",
   "execution_count": 2,
   "metadata": {},
   "outputs": [],
   "source": [
    "pd.set_option('display.max_columns', None)\n",
    "pd.set_option('display.max_rows', None)"
   ]
  },
  {
   "cell_type": "markdown",
   "metadata": {},
   "source": [
    "# 1. Analyze the store visitation by date and affinity profile of store visitors."
   ]
  },
  {
   "cell_type": "markdown",
   "metadata": {},
   "source": [
    "## 1.a Resolve the user visits per store, i.e. filter the GPS signals through polygons."
   ]
  },
  {
   "cell_type": "markdown",
   "metadata": {},
   "source": [
    "### stores"
   ]
  },
  {
   "cell_type": "code",
   "execution_count": 3,
   "metadata": {},
   "outputs": [],
   "source": [
    "stores = pd.read_csv(\"../../assignment_data/stores.csv\")"
   ]
  },
  {
   "cell_type": "code",
   "execution_count": 4,
   "metadata": {},
   "outputs": [],
   "source": [
    "# stores.shape"
   ]
  },
  {
   "cell_type": "code",
   "execution_count": 5,
   "metadata": {},
   "outputs": [],
   "source": [
    "# stores.head()"
   ]
  },
  {
   "cell_type": "code",
   "execution_count": 6,
   "metadata": {},
   "outputs": [],
   "source": [
    "# transform strings to polygons in column \"wkt\"\n",
    "stores[\"wkt\"] = stores[\"wkt\"].apply(lambda x: shapely.wkt.loads(x))"
   ]
  },
  {
   "cell_type": "code",
   "execution_count": 7,
   "metadata": {},
   "outputs": [],
   "source": [
    "# rename \"wkt\" to \"geometry\"\n",
    "stores = stores.rename(columns={\"wkt\": \"geometry\"}) # must be geometry for the geopandas join"
   ]
  },
  {
   "cell_type": "code",
   "execution_count": 8,
   "metadata": {},
   "outputs": [],
   "source": [
    "# type(stores[\"geometry\"][0])"
   ]
  },
  {
   "cell_type": "code",
   "execution_count": 9,
   "metadata": {},
   "outputs": [],
   "source": [
    "# transform stores into a GeoDataFrame\n",
    "stores_gdf = gpd.GeoDataFrame(stores)"
   ]
  },
  {
   "cell_type": "code",
   "execution_count": 10,
   "metadata": {},
   "outputs": [
    {
     "data": {
      "text/html": [
       "<div>\n",
       "<style scoped>\n",
       "    .dataframe tbody tr th:only-of-type {\n",
       "        vertical-align: middle;\n",
       "    }\n",
       "\n",
       "    .dataframe tbody tr th {\n",
       "        vertical-align: top;\n",
       "    }\n",
       "\n",
       "    .dataframe thead th {\n",
       "        text-align: right;\n",
       "    }\n",
       "</style>\n",
       "<table border=\"1\" class=\"dataframe\">\n",
       "  <thead>\n",
       "    <tr style=\"text-align: right;\">\n",
       "      <th></th>\n",
       "      <th>store_id</th>\n",
       "      <th>store_name</th>\n",
       "      <th>geometry</th>\n",
       "    </tr>\n",
       "  </thead>\n",
       "  <tbody>\n",
       "    <tr>\n",
       "      <th>0</th>\n",
       "      <td>place_1</td>\n",
       "      <td>McDonald's</td>\n",
       "      <td>POLYGON ((13.46119 52.47099, 13.46103 52.47066...</td>\n",
       "    </tr>\n",
       "    <tr>\n",
       "      <th>1</th>\n",
       "      <td>place_2</td>\n",
       "      <td>McDonald's</td>\n",
       "      <td>POLYGON ((13.46835 52.54716, 13.46841 52.54716...</td>\n",
       "    </tr>\n",
       "    <tr>\n",
       "      <th>2</th>\n",
       "      <td>place_3</td>\n",
       "      <td>McDonald's</td>\n",
       "      <td>POLYGON ((13.31288 52.41979, 13.31303 52.41966...</td>\n",
       "    </tr>\n",
       "    <tr>\n",
       "      <th>3</th>\n",
       "      <td>place_4</td>\n",
       "      <td>McDonald's</td>\n",
       "      <td>POLYGON ((13.36358 52.56060, 13.36358 52.56061...</td>\n",
       "    </tr>\n",
       "    <tr>\n",
       "      <th>4</th>\n",
       "      <td>place_5</td>\n",
       "      <td>McDonald's</td>\n",
       "      <td>POLYGON ((13.32309 52.56135, 13.32307 52.56128...</td>\n",
       "    </tr>\n",
       "  </tbody>\n",
       "</table>\n",
       "</div>"
      ],
      "text/plain": [
       "  store_id  store_name                                           geometry\n",
       "0  place_1  McDonald's  POLYGON ((13.46119 52.47099, 13.46103 52.47066...\n",
       "1  place_2  McDonald's  POLYGON ((13.46835 52.54716, 13.46841 52.54716...\n",
       "2  place_3  McDonald's  POLYGON ((13.31288 52.41979, 13.31303 52.41966...\n",
       "3  place_4  McDonald's  POLYGON ((13.36358 52.56060, 13.36358 52.56061...\n",
       "4  place_5  McDonald's  POLYGON ((13.32309 52.56135, 13.32307 52.56128..."
      ]
     },
     "execution_count": 10,
     "metadata": {},
     "output_type": "execute_result"
    }
   ],
   "source": [
    "stores_gdf.head()"
   ]
  },
  {
   "cell_type": "code",
   "execution_count": 11,
   "metadata": {},
   "outputs": [],
   "source": [
    "# type(stores_gdf)"
   ]
  },
  {
   "cell_type": "code",
   "execution_count": 13,
   "metadata": {},
   "outputs": [],
   "source": [
    "# save stores_gdf as geojson for visualization in Tableau\n",
    "stores_gdf.to_file(\"../out_data/stores_gdf.geojson\", driver=\"GeoJSON\")"
   ]
  },
  {
   "cell_type": "code",
   "execution_count": 14,
   "metadata": {},
   "outputs": [],
   "source": [
    "# save stores_gdf as pickle\n",
    "with open(\"../out_data/stores_gdf.pickle\", \"wb\") as pickle_file:\n",
    "    pickle.dump(stores_gdf, pickle_file, protocol=pickle.HIGHEST_PROTOCOL)"
   ]
  },
  {
   "cell_type": "code",
   "execution_count": 15,
   "metadata": {},
   "outputs": [],
   "source": [
    "# check\n",
    "# with open(\"../../out_data/stores_gdf.pickle\", \"rb\") as picke_file:\n",
    "#     check_stores_gdf = pickle.load(picke_file)"
   ]
  },
  {
   "cell_type": "code",
   "execution_count": 16,
   "metadata": {},
   "outputs": [],
   "source": [
    "# type(check_stores_gdf)"
   ]
  },
  {
   "cell_type": "code",
   "execution_count": 17,
   "metadata": {},
   "outputs": [],
   "source": [
    "# check_stores_gdf.head()"
   ]
  },
  {
   "cell_type": "markdown",
   "metadata": {},
   "source": [
    "### gps_signals"
   ]
  },
  {
   "cell_type": "code",
   "execution_count": 18,
   "metadata": {},
   "outputs": [
    {
     "name": "stdout",
     "output_type": "stream",
     "text": [
      "Reading all gps_signal csv batches...\n",
      "Reading all gps_signal csv batches took 0.1 minute(s).\n"
     ]
    }
   ],
   "source": [
    "# read all gps_signal csv batches\n",
    "gps_signals = pd.DataFrame()\n",
    "\n",
    "start = time.time()\n",
    "print(\"Reading all gps_signal csv batches...\")\n",
    "\n",
    "for file_name in glob.glob(\"../../assignment_data/sample_data/*.csv\"):\n",
    "    batch = pd.read_csv(file_name) # , low_memory=False\n",
    "    gps_signals = pd.concat([gps_signals, batch], ignore_index=True)\n",
    "    \n",
    "end = time.time()\n",
    "dt = end - start\n",
    "print(f\"Reading all gps_signal csv batches took {round(dt/60, 2)} minute(s).\")"
   ]
  },
  {
   "cell_type": "code",
   "execution_count": 19,
   "metadata": {},
   "outputs": [],
   "source": [
    "# gps_signals.shape"
   ]
  },
  {
   "cell_type": "code",
   "execution_count": 20,
   "metadata": {},
   "outputs": [],
   "source": [
    "# sort by \"utc_timestamp\" ascending\n",
    "gps_signals = gps_signals.sort_values(by=[\"utc_timestamp\"]).reset_index(drop=True)"
   ]
  },
  {
   "cell_type": "code",
   "execution_count": 21,
   "metadata": {},
   "outputs": [],
   "source": [
    "# transform utc_timestamp into yyyy-mm-dd\n",
    "gps_signals[\"utc_timestamp\"] = gps_signals[\"utc_timestamp\"].astype(\"datetime64[ms]\").dt.to_period(\"D\")"
   ]
  },
  {
   "cell_type": "code",
   "execution_count": 22,
   "metadata": {},
   "outputs": [],
   "source": [
    "# rename \"utc_timestamp\" to \"date\"\n",
    "gps_signals = gps_signals.rename(columns={\"utc_timestamp\": \"date\"})"
   ]
  },
  {
   "cell_type": "code",
   "execution_count": 23,
   "metadata": {},
   "outputs": [],
   "source": [
    "# gps_signals.head()"
   ]
  },
  {
   "cell_type": "code",
   "execution_count": 24,
   "metadata": {},
   "outputs": [
    {
     "name": "stdout",
     "output_type": "stream",
     "text": [
      "Creating POINT from lat lon in gps_signals and transforming the df into a gdf...\n",
      "Creating POINT from lat lon in gps_signals and transforming the df into a gdf took 0.58 minute(s).\n"
     ]
    }
   ],
   "source": [
    "# create POINT from lat lon and transform df into gdf\n",
    "start = time.time()\n",
    "print(\"Creating POINT from lat lon in gps_signals and transforming the df into a gdf...\")\n",
    "\n",
    "gps_signals_gdf = gpd.GeoDataFrame(gps_signals, \n",
    "                                   geometry=gpd.points_from_xy(gps_signals[\"lon\"], gps_signals[\"lat\"]))\n",
    "\n",
    "end = time.time()\n",
    "dt = end - start\n",
    "print(f\"Creating POINT from lat lon in gps_signals and transforming the df into a gdf took {round(dt/60, 2)} minute(s).\")"
   ]
  },
  {
   "cell_type": "code",
   "execution_count": 25,
   "metadata": {},
   "outputs": [
    {
     "data": {
      "text/html": [
       "<div>\n",
       "<style scoped>\n",
       "    .dataframe tbody tr th:only-of-type {\n",
       "        vertical-align: middle;\n",
       "    }\n",
       "\n",
       "    .dataframe tbody tr th {\n",
       "        vertical-align: top;\n",
       "    }\n",
       "\n",
       "    .dataframe thead th {\n",
       "        text-align: right;\n",
       "    }\n",
       "</style>\n",
       "<table border=\"1\" class=\"dataframe\">\n",
       "  <thead>\n",
       "    <tr style=\"text-align: right;\">\n",
       "      <th></th>\n",
       "      <th>device_id</th>\n",
       "      <th>lat</th>\n",
       "      <th>lon</th>\n",
       "      <th>date</th>\n",
       "      <th>geometry</th>\n",
       "    </tr>\n",
       "  </thead>\n",
       "  <tbody>\n",
       "    <tr>\n",
       "      <th>0</th>\n",
       "      <td>49129</td>\n",
       "      <td>52.554570</td>\n",
       "      <td>13.574010</td>\n",
       "      <td>2021-01-01</td>\n",
       "      <td>POINT (13.57401 52.55457)</td>\n",
       "    </tr>\n",
       "    <tr>\n",
       "      <th>1</th>\n",
       "      <td>46744</td>\n",
       "      <td>52.419566</td>\n",
       "      <td>13.208267</td>\n",
       "      <td>2021-01-01</td>\n",
       "      <td>POINT (13.20827 52.41957)</td>\n",
       "    </tr>\n",
       "    <tr>\n",
       "      <th>2</th>\n",
       "      <td>22268</td>\n",
       "      <td>52.568431</td>\n",
       "      <td>13.523719</td>\n",
       "      <td>2021-01-01</td>\n",
       "      <td>POINT (13.52372 52.56843)</td>\n",
       "    </tr>\n",
       "    <tr>\n",
       "      <th>3</th>\n",
       "      <td>41158</td>\n",
       "      <td>52.493060</td>\n",
       "      <td>13.380740</td>\n",
       "      <td>2021-01-01</td>\n",
       "      <td>POINT (13.38074 52.49306)</td>\n",
       "    </tr>\n",
       "    <tr>\n",
       "      <th>4</th>\n",
       "      <td>31401</td>\n",
       "      <td>52.517286</td>\n",
       "      <td>13.317811</td>\n",
       "      <td>2021-01-01</td>\n",
       "      <td>POINT (13.31781 52.51729)</td>\n",
       "    </tr>\n",
       "  </tbody>\n",
       "</table>\n",
       "</div>"
      ],
      "text/plain": [
       "   device_id        lat        lon        date                   geometry\n",
       "0      49129  52.554570  13.574010  2021-01-01  POINT (13.57401 52.55457)\n",
       "1      46744  52.419566  13.208267  2021-01-01  POINT (13.20827 52.41957)\n",
       "2      22268  52.568431  13.523719  2021-01-01  POINT (13.52372 52.56843)\n",
       "3      41158  52.493060  13.380740  2021-01-01  POINT (13.38074 52.49306)\n",
       "4      31401  52.517286  13.317811  2021-01-01  POINT (13.31781 52.51729)"
      ]
     },
     "execution_count": 25,
     "metadata": {},
     "output_type": "execute_result"
    }
   ],
   "source": [
    "gps_signals_gdf.head()"
   ]
  },
  {
   "cell_type": "markdown",
   "metadata": {},
   "source": [
    "### join (merge) gps_signals_gdf and stores_gdf"
   ]
  },
  {
   "cell_type": "code",
   "execution_count": 26,
   "metadata": {},
   "outputs": [],
   "source": [
    "# gps_signals_gdf.shape"
   ]
  },
  {
   "cell_type": "code",
   "execution_count": 27,
   "metadata": {},
   "outputs": [],
   "source": [
    "# stores_gdf.shape"
   ]
  },
  {
   "cell_type": "code",
   "execution_count": 28,
   "metadata": {},
   "outputs": [
    {
     "name": "stdout",
     "output_type": "stream",
     "text": [
      "Joining gps_signals_gdf and stores_gdf...\n",
      "Joining gps_signals_gdf and stores_gdf took 4.89 minute(s).\n"
     ]
    }
   ],
   "source": [
    "# join gps_signals_gdf and stores_gdf\n",
    "start = time.time()\n",
    "print(\"Joining gps_signals_gdf and stores_gdf...\")\n",
    "\n",
    "gps_sig_and_stores = sjoin(gps_signals_gdf, stores_gdf, how=\"left\")\n",
    "\n",
    "end = time.time()\n",
    "dt = end - start\n",
    "print(f\"Joining gps_signals_gdf and stores_gdf took {round(dt/60, 2)} minute(s).\")"
   ]
  },
  {
   "cell_type": "code",
   "execution_count": 29,
   "metadata": {},
   "outputs": [],
   "source": [
    "# gps_sig_and_stores.shape"
   ]
  },
  {
   "cell_type": "code",
   "execution_count": 30,
   "metadata": {},
   "outputs": [
    {
     "data": {
      "text/html": [
       "<div>\n",
       "<style scoped>\n",
       "    .dataframe tbody tr th:only-of-type {\n",
       "        vertical-align: middle;\n",
       "    }\n",
       "\n",
       "    .dataframe tbody tr th {\n",
       "        vertical-align: top;\n",
       "    }\n",
       "\n",
       "    .dataframe thead th {\n",
       "        text-align: right;\n",
       "    }\n",
       "</style>\n",
       "<table border=\"1\" class=\"dataframe\">\n",
       "  <thead>\n",
       "    <tr style=\"text-align: right;\">\n",
       "      <th></th>\n",
       "      <th>device_id</th>\n",
       "      <th>lat</th>\n",
       "      <th>lon</th>\n",
       "      <th>date</th>\n",
       "      <th>geometry</th>\n",
       "      <th>index_right</th>\n",
       "      <th>store_id</th>\n",
       "      <th>store_name</th>\n",
       "    </tr>\n",
       "  </thead>\n",
       "  <tbody>\n",
       "    <tr>\n",
       "      <th>0</th>\n",
       "      <td>49129</td>\n",
       "      <td>52.554570</td>\n",
       "      <td>13.574010</td>\n",
       "      <td>2021-01-01</td>\n",
       "      <td>POINT (13.57401 52.55457)</td>\n",
       "      <td>NaN</td>\n",
       "      <td>NaN</td>\n",
       "      <td>NaN</td>\n",
       "    </tr>\n",
       "    <tr>\n",
       "      <th>1</th>\n",
       "      <td>46744</td>\n",
       "      <td>52.419566</td>\n",
       "      <td>13.208267</td>\n",
       "      <td>2021-01-01</td>\n",
       "      <td>POINT (13.20827 52.41957)</td>\n",
       "      <td>NaN</td>\n",
       "      <td>NaN</td>\n",
       "      <td>NaN</td>\n",
       "    </tr>\n",
       "    <tr>\n",
       "      <th>2</th>\n",
       "      <td>22268</td>\n",
       "      <td>52.568431</td>\n",
       "      <td>13.523719</td>\n",
       "      <td>2021-01-01</td>\n",
       "      <td>POINT (13.52372 52.56843)</td>\n",
       "      <td>NaN</td>\n",
       "      <td>NaN</td>\n",
       "      <td>NaN</td>\n",
       "    </tr>\n",
       "    <tr>\n",
       "      <th>3</th>\n",
       "      <td>41158</td>\n",
       "      <td>52.493060</td>\n",
       "      <td>13.380740</td>\n",
       "      <td>2021-01-01</td>\n",
       "      <td>POINT (13.38074 52.49306)</td>\n",
       "      <td>NaN</td>\n",
       "      <td>NaN</td>\n",
       "      <td>NaN</td>\n",
       "    </tr>\n",
       "    <tr>\n",
       "      <th>4</th>\n",
       "      <td>31401</td>\n",
       "      <td>52.517286</td>\n",
       "      <td>13.317811</td>\n",
       "      <td>2021-01-01</td>\n",
       "      <td>POINT (13.31781 52.51729)</td>\n",
       "      <td>NaN</td>\n",
       "      <td>NaN</td>\n",
       "      <td>NaN</td>\n",
       "    </tr>\n",
       "  </tbody>\n",
       "</table>\n",
       "</div>"
      ],
      "text/plain": [
       "   device_id        lat        lon        date                   geometry  \\\n",
       "0      49129  52.554570  13.574010  2021-01-01  POINT (13.57401 52.55457)   \n",
       "1      46744  52.419566  13.208267  2021-01-01  POINT (13.20827 52.41957)   \n",
       "2      22268  52.568431  13.523719  2021-01-01  POINT (13.52372 52.56843)   \n",
       "3      41158  52.493060  13.380740  2021-01-01  POINT (13.38074 52.49306)   \n",
       "4      31401  52.517286  13.317811  2021-01-01  POINT (13.31781 52.51729)   \n",
       "\n",
       "   index_right store_id store_name  \n",
       "0          NaN      NaN        NaN  \n",
       "1          NaN      NaN        NaN  \n",
       "2          NaN      NaN        NaN  \n",
       "3          NaN      NaN        NaN  \n",
       "4          NaN      NaN        NaN  "
      ]
     },
     "execution_count": 30,
     "metadata": {},
     "output_type": "execute_result"
    }
   ],
   "source": [
    "gps_sig_and_stores.head()"
   ]
  },
  {
   "cell_type": "code",
   "execution_count": 31,
   "metadata": {},
   "outputs": [],
   "source": [
    "# gps_sig_and_stores_gdf[gps_sig_and_stores_gdf[\"store_id\"] == \"place_1\"].head()"
   ]
  },
  {
   "cell_type": "markdown",
   "metadata": {},
   "source": [
    "### users and user affinities"
   ]
  },
  {
   "cell_type": "markdown",
   "metadata": {},
   "source": [
    "**users**"
   ]
  },
  {
   "cell_type": "code",
   "execution_count": 32,
   "metadata": {},
   "outputs": [],
   "source": [
    "# create a list from the unique device ids\n",
    "unique_device_ids = list(gps_signals[\"device_id\"].unique())"
   ]
  },
  {
   "cell_type": "code",
   "execution_count": 33,
   "metadata": {},
   "outputs": [
    {
     "data": {
      "text/plain": [
       "95004"
      ]
     },
     "execution_count": 33,
     "metadata": {},
     "output_type": "execute_result"
    }
   ],
   "source": [
    "len(unique_device_ids)"
   ]
  },
  {
   "cell_type": "code",
   "execution_count": 34,
   "metadata": {},
   "outputs": [],
   "source": [
    "# create a dataframe \"users\"\n",
    "data = {\n",
    "    \"device_id\": unique_device_ids\n",
    "}\n",
    "\n",
    "users = pd.DataFrame(data)"
   ]
  },
  {
   "cell_type": "code",
   "execution_count": 35,
   "metadata": {},
   "outputs": [],
   "source": [
    "# users.shape"
   ]
  },
  {
   "cell_type": "code",
   "execution_count": 36,
   "metadata": {},
   "outputs": [],
   "source": [
    "users = users.sort_values(by=[\"device_id\"]).reset_index(drop=True)"
   ]
  },
  {
   "cell_type": "code",
   "execution_count": 37,
   "metadata": {},
   "outputs": [],
   "source": [
    "# users.head()"
   ]
  },
  {
   "cell_type": "code",
   "execution_count": 38,
   "metadata": {},
   "outputs": [],
   "source": [
    "# users.tail()"
   ]
  },
  {
   "cell_type": "markdown",
   "metadata": {},
   "source": [
    "**user affinities**"
   ]
  },
  {
   "cell_type": "code",
   "execution_count": 6,
   "metadata": {},
   "outputs": [],
   "source": [
    "# list the files in the user_affinities folder\n",
    "path = os.getcwd()\n",
    "# path = \"/Users/robertbozsik/techtest/adsquare/assignment_data/affinities\"\n",
    "path = f\"{str(Path(path).parents[1])}/assignment_data/affinities\"\n",
    "file_names = os.listdir(path)\n",
    "file_names = sorted(file_names)\n",
    "# file_names"
   ]
  },
  {
   "cell_type": "code",
   "execution_count": 40,
   "metadata": {},
   "outputs": [],
   "source": [
    "# add .csv after the file names (it should be run only once)\n",
    "if \".csv\" not in file_names[0]:\n",
    "    for index, file_name in enumerate(file_names):\n",
    "        os.rename(os.path.join(path, file_name), os.path.join(path, \"\".join([file_name, \".csv\"])))"
   ]
  },
  {
   "cell_type": "code",
   "execution_count": 41,
   "metadata": {},
   "outputs": [],
   "source": [
    "# create a dictionary \"user_affinities\"\n",
    "# the keys should be the names of the affinities\n",
    "# the values should be lists of the affinity csvs\n",
    "def list_from_affinities(aff_name: str) -> list:\n",
    "    \"\"\"Return a list created from the given user_affinity csv file\"\"\"\n",
    "    aff_name = pd.read_csv(f\"../../assignment_data/user_affinities/{aff_name}.csv\", header=None, names=[aff_name])\n",
    "    aff_name = list(aff_name.iloc[:, 0]) # all rows, first column\n",
    "    return aff_name\n",
    "\n",
    "user_affinities = {}\n",
    "\n",
    "for file_name in file_names:\n",
    "    name = file_name.split(\".\")[0]\n",
    "    user_affinities[name] = list_from_affinities(name)"
   ]
  },
  {
   "cell_type": "code",
   "execution_count": 42,
   "metadata": {},
   "outputs": [
    {
     "data": {
      "text/plain": [
       "dict_keys(['addidas', 'apple', 'bmw', 'employed', 'female', 'h_&_m', 'high_income', 'honda', 'job_seeking', 'low_income', 'male', 'mercedes-benz', 'middle_income', 'retired', 'student', 'tommy_helfinger'])"
      ]
     },
     "execution_count": 42,
     "metadata": {},
     "output_type": "execute_result"
    }
   ],
   "source": [
    "user_affinities.keys()"
   ]
  },
  {
   "cell_type": "code",
   "execution_count": 43,
   "metadata": {},
   "outputs": [],
   "source": [
    "# len(user_affinities[\"addidas\"])"
   ]
  },
  {
   "cell_type": "code",
   "execution_count": 44,
   "metadata": {},
   "outputs": [],
   "source": [
    "# len(user_affinities[\"low_income\"])"
   ]
  },
  {
   "cell_type": "code",
   "execution_count": 45,
   "metadata": {},
   "outputs": [],
   "source": [
    "# len(user_affinities[\"retired\"])"
   ]
  },
  {
   "cell_type": "markdown",
   "metadata": {},
   "source": [
    "**add user_affinities to users**"
   ]
  },
  {
   "cell_type": "code",
   "execution_count": 46,
   "metadata": {},
   "outputs": [],
   "source": [
    "# try it out with the affinity \"addidas\"\n",
    "users[\"addidas\"] = np.where(users[\"device_id\"].isin(user_affinities[\"addidas\"]), 1, 0)"
   ]
  },
  {
   "cell_type": "code",
   "execution_count": 47,
   "metadata": {},
   "outputs": [],
   "source": [
    "# users[\"addidas\"].value_counts()"
   ]
  },
  {
   "cell_type": "code",
   "execution_count": 48,
   "metadata": {},
   "outputs": [],
   "source": [
    "for index, key in enumerate(user_affinities.keys()):\n",
    "    if index > 0: # the column \"addidas\" has already been created\n",
    "        users[key] = np.where(users[\"device_id\"].isin(user_affinities[key]), 1, 0)"
   ]
  },
  {
   "cell_type": "code",
   "execution_count": 49,
   "metadata": {},
   "outputs": [],
   "source": [
    "# users.shape"
   ]
  },
  {
   "cell_type": "code",
   "execution_count": 50,
   "metadata": {},
   "outputs": [
    {
     "data": {
      "text/html": [
       "<div>\n",
       "<style scoped>\n",
       "    .dataframe tbody tr th:only-of-type {\n",
       "        vertical-align: middle;\n",
       "    }\n",
       "\n",
       "    .dataframe tbody tr th {\n",
       "        vertical-align: top;\n",
       "    }\n",
       "\n",
       "    .dataframe thead th {\n",
       "        text-align: right;\n",
       "    }\n",
       "</style>\n",
       "<table border=\"1\" class=\"dataframe\">\n",
       "  <thead>\n",
       "    <tr style=\"text-align: right;\">\n",
       "      <th></th>\n",
       "      <th>device_id</th>\n",
       "      <th>addidas</th>\n",
       "      <th>apple</th>\n",
       "      <th>bmw</th>\n",
       "      <th>employed</th>\n",
       "      <th>female</th>\n",
       "      <th>h_&amp;_m</th>\n",
       "      <th>high_income</th>\n",
       "      <th>honda</th>\n",
       "      <th>job_seeking</th>\n",
       "      <th>low_income</th>\n",
       "      <th>male</th>\n",
       "      <th>mercedes-benz</th>\n",
       "      <th>middle_income</th>\n",
       "      <th>retired</th>\n",
       "      <th>student</th>\n",
       "      <th>tommy_helfinger</th>\n",
       "    </tr>\n",
       "  </thead>\n",
       "  <tbody>\n",
       "    <tr>\n",
       "      <th>0</th>\n",
       "      <td>1</td>\n",
       "      <td>0</td>\n",
       "      <td>0</td>\n",
       "      <td>0</td>\n",
       "      <td>0</td>\n",
       "      <td>0</td>\n",
       "      <td>0</td>\n",
       "      <td>0</td>\n",
       "      <td>0</td>\n",
       "      <td>0</td>\n",
       "      <td>0</td>\n",
       "      <td>1</td>\n",
       "      <td>0</td>\n",
       "      <td>1</td>\n",
       "      <td>0</td>\n",
       "      <td>0</td>\n",
       "      <td>0</td>\n",
       "    </tr>\n",
       "    <tr>\n",
       "      <th>1</th>\n",
       "      <td>2</td>\n",
       "      <td>0</td>\n",
       "      <td>0</td>\n",
       "      <td>0</td>\n",
       "      <td>0</td>\n",
       "      <td>0</td>\n",
       "      <td>0</td>\n",
       "      <td>0</td>\n",
       "      <td>1</td>\n",
       "      <td>0</td>\n",
       "      <td>0</td>\n",
       "      <td>1</td>\n",
       "      <td>0</td>\n",
       "      <td>1</td>\n",
       "      <td>0</td>\n",
       "      <td>0</td>\n",
       "      <td>0</td>\n",
       "    </tr>\n",
       "    <tr>\n",
       "      <th>2</th>\n",
       "      <td>3</td>\n",
       "      <td>0</td>\n",
       "      <td>0</td>\n",
       "      <td>0</td>\n",
       "      <td>0</td>\n",
       "      <td>0</td>\n",
       "      <td>0</td>\n",
       "      <td>0</td>\n",
       "      <td>0</td>\n",
       "      <td>0</td>\n",
       "      <td>0</td>\n",
       "      <td>1</td>\n",
       "      <td>0</td>\n",
       "      <td>1</td>\n",
       "      <td>0</td>\n",
       "      <td>0</td>\n",
       "      <td>0</td>\n",
       "    </tr>\n",
       "    <tr>\n",
       "      <th>3</th>\n",
       "      <td>5</td>\n",
       "      <td>0</td>\n",
       "      <td>0</td>\n",
       "      <td>0</td>\n",
       "      <td>0</td>\n",
       "      <td>0</td>\n",
       "      <td>0</td>\n",
       "      <td>0</td>\n",
       "      <td>1</td>\n",
       "      <td>0</td>\n",
       "      <td>1</td>\n",
       "      <td>1</td>\n",
       "      <td>0</td>\n",
       "      <td>0</td>\n",
       "      <td>0</td>\n",
       "      <td>0</td>\n",
       "      <td>0</td>\n",
       "    </tr>\n",
       "    <tr>\n",
       "      <th>4</th>\n",
       "      <td>6</td>\n",
       "      <td>0</td>\n",
       "      <td>0</td>\n",
       "      <td>0</td>\n",
       "      <td>0</td>\n",
       "      <td>0</td>\n",
       "      <td>0</td>\n",
       "      <td>0</td>\n",
       "      <td>0</td>\n",
       "      <td>1</td>\n",
       "      <td>0</td>\n",
       "      <td>1</td>\n",
       "      <td>0</td>\n",
       "      <td>1</td>\n",
       "      <td>0</td>\n",
       "      <td>0</td>\n",
       "      <td>0</td>\n",
       "    </tr>\n",
       "  </tbody>\n",
       "</table>\n",
       "</div>"
      ],
      "text/plain": [
       "   device_id  addidas  apple  bmw  employed  female  h_&_m  high_income  \\\n",
       "0          1        0      0    0         0       0      0            0   \n",
       "1          2        0      0    0         0       0      0            0   \n",
       "2          3        0      0    0         0       0      0            0   \n",
       "3          5        0      0    0         0       0      0            0   \n",
       "4          6        0      0    0         0       0      0            0   \n",
       "\n",
       "   honda  job_seeking  low_income  male  mercedes-benz  middle_income  \\\n",
       "0      0            0           0     1              0              1   \n",
       "1      1            0           0     1              0              1   \n",
       "2      0            0           0     1              0              1   \n",
       "3      1            0           1     1              0              0   \n",
       "4      0            1           0     1              0              1   \n",
       "\n",
       "   retired  student  tommy_helfinger  \n",
       "0        0        0                0  \n",
       "1        0        0                0  \n",
       "2        0        0                0  \n",
       "3        0        0                0  \n",
       "4        0        0                0  "
      ]
     },
     "execution_count": 50,
     "metadata": {},
     "output_type": "execute_result"
    }
   ],
   "source": [
    "users.head()"
   ]
  },
  {
   "cell_type": "code",
   "execution_count": 51,
   "metadata": {},
   "outputs": [],
   "source": [
    "# save users as csv\n",
    "users.to_csv(\"../out_data/users.csv\", index=False)"
   ]
  },
  {
   "cell_type": "markdown",
   "metadata": {},
   "source": [
    "### merge gps_sig_and_stores and users (affinities)"
   ]
  },
  {
   "cell_type": "code",
   "execution_count": 52,
   "metadata": {},
   "outputs": [
    {
     "data": {
      "text/plain": [
       "(2262916, 8)"
      ]
     },
     "execution_count": 52,
     "metadata": {},
     "output_type": "execute_result"
    }
   ],
   "source": [
    "# merge gps_sig_and_stores and users (affinities)\n",
    "gps_sig_and_stores.shape"
   ]
  },
  {
   "cell_type": "code",
   "execution_count": 53,
   "metadata": {},
   "outputs": [
    {
     "data": {
      "text/plain": [
       "(95004, 17)"
      ]
     },
     "execution_count": 53,
     "metadata": {},
     "output_type": "execute_result"
    }
   ],
   "source": [
    "users.shape"
   ]
  },
  {
   "cell_type": "code",
   "execution_count": 54,
   "metadata": {},
   "outputs": [
    {
     "name": "stdout",
     "output_type": "stream",
     "text": [
      "Merging gps_sig_and_stores and users (affinities)...\n",
      "Merging gps_sig_and_stores and users (affinities) took 0.05 minute(s).\n"
     ]
    }
   ],
   "source": [
    "# merge gps_sig_and_stores and users (affinities)\n",
    "start = time.time()\n",
    "print(\"Merging gps_sig_and_stores and users (affinities)...\")\n",
    "\n",
    "gpssig_stores_useraff = gps_sig_and_stores.merge(users, how=\"inner\", on=\"device_id\")\n",
    "\n",
    "end = time.time()\n",
    "dt = end - start\n",
    "print(f\"Merging gps_sig_and_stores and users (affinities) took {round(dt/60, 2)} minute(s).\")"
   ]
  },
  {
   "cell_type": "code",
   "execution_count": 55,
   "metadata": {},
   "outputs": [
    {
     "data": {
      "text/plain": [
       "(2262916, 24)"
      ]
     },
     "execution_count": 55,
     "metadata": {},
     "output_type": "execute_result"
    }
   ],
   "source": [
    "gpssig_stores_useraff.shape"
   ]
  },
  {
   "cell_type": "code",
   "execution_count": 56,
   "metadata": {},
   "outputs": [
    {
     "data": {
      "text/html": [
       "<div>\n",
       "<style scoped>\n",
       "    .dataframe tbody tr th:only-of-type {\n",
       "        vertical-align: middle;\n",
       "    }\n",
       "\n",
       "    .dataframe tbody tr th {\n",
       "        vertical-align: top;\n",
       "    }\n",
       "\n",
       "    .dataframe thead th {\n",
       "        text-align: right;\n",
       "    }\n",
       "</style>\n",
       "<table border=\"1\" class=\"dataframe\">\n",
       "  <thead>\n",
       "    <tr style=\"text-align: right;\">\n",
       "      <th></th>\n",
       "      <th>device_id</th>\n",
       "      <th>lat</th>\n",
       "      <th>lon</th>\n",
       "      <th>date</th>\n",
       "      <th>geometry</th>\n",
       "      <th>index_right</th>\n",
       "      <th>store_id</th>\n",
       "      <th>store_name</th>\n",
       "      <th>addidas</th>\n",
       "      <th>apple</th>\n",
       "      <th>bmw</th>\n",
       "      <th>employed</th>\n",
       "      <th>female</th>\n",
       "      <th>h_&amp;_m</th>\n",
       "      <th>high_income</th>\n",
       "      <th>honda</th>\n",
       "      <th>job_seeking</th>\n",
       "      <th>low_income</th>\n",
       "      <th>male</th>\n",
       "      <th>mercedes-benz</th>\n",
       "      <th>middle_income</th>\n",
       "      <th>retired</th>\n",
       "      <th>student</th>\n",
       "      <th>tommy_helfinger</th>\n",
       "    </tr>\n",
       "  </thead>\n",
       "  <tbody>\n",
       "    <tr>\n",
       "      <th>0</th>\n",
       "      <td>49129</td>\n",
       "      <td>52.55457</td>\n",
       "      <td>13.57401</td>\n",
       "      <td>2021-01-01</td>\n",
       "      <td>POINT (13.57401 52.55457)</td>\n",
       "      <td>NaN</td>\n",
       "      <td>NaN</td>\n",
       "      <td>NaN</td>\n",
       "      <td>0</td>\n",
       "      <td>0</td>\n",
       "      <td>0</td>\n",
       "      <td>0</td>\n",
       "      <td>0</td>\n",
       "      <td>0</td>\n",
       "      <td>1</td>\n",
       "      <td>0</td>\n",
       "      <td>0</td>\n",
       "      <td>0</td>\n",
       "      <td>1</td>\n",
       "      <td>0</td>\n",
       "      <td>0</td>\n",
       "      <td>0</td>\n",
       "      <td>0</td>\n",
       "      <td>0</td>\n",
       "    </tr>\n",
       "    <tr>\n",
       "      <th>1</th>\n",
       "      <td>49129</td>\n",
       "      <td>52.55457</td>\n",
       "      <td>13.57401</td>\n",
       "      <td>2021-01-01</td>\n",
       "      <td>POINT (13.57401 52.55457)</td>\n",
       "      <td>NaN</td>\n",
       "      <td>NaN</td>\n",
       "      <td>NaN</td>\n",
       "      <td>0</td>\n",
       "      <td>0</td>\n",
       "      <td>0</td>\n",
       "      <td>0</td>\n",
       "      <td>0</td>\n",
       "      <td>0</td>\n",
       "      <td>1</td>\n",
       "      <td>0</td>\n",
       "      <td>0</td>\n",
       "      <td>0</td>\n",
       "      <td>1</td>\n",
       "      <td>0</td>\n",
       "      <td>0</td>\n",
       "      <td>0</td>\n",
       "      <td>0</td>\n",
       "      <td>0</td>\n",
       "    </tr>\n",
       "    <tr>\n",
       "      <th>2</th>\n",
       "      <td>49129</td>\n",
       "      <td>52.55457</td>\n",
       "      <td>13.57401</td>\n",
       "      <td>2021-01-01</td>\n",
       "      <td>POINT (13.57401 52.55457)</td>\n",
       "      <td>NaN</td>\n",
       "      <td>NaN</td>\n",
       "      <td>NaN</td>\n",
       "      <td>0</td>\n",
       "      <td>0</td>\n",
       "      <td>0</td>\n",
       "      <td>0</td>\n",
       "      <td>0</td>\n",
       "      <td>0</td>\n",
       "      <td>1</td>\n",
       "      <td>0</td>\n",
       "      <td>0</td>\n",
       "      <td>0</td>\n",
       "      <td>1</td>\n",
       "      <td>0</td>\n",
       "      <td>0</td>\n",
       "      <td>0</td>\n",
       "      <td>0</td>\n",
       "      <td>0</td>\n",
       "    </tr>\n",
       "    <tr>\n",
       "      <th>3</th>\n",
       "      <td>49129</td>\n",
       "      <td>52.55260</td>\n",
       "      <td>13.57996</td>\n",
       "      <td>2021-01-01</td>\n",
       "      <td>POINT (13.57996 52.55260)</td>\n",
       "      <td>NaN</td>\n",
       "      <td>NaN</td>\n",
       "      <td>NaN</td>\n",
       "      <td>0</td>\n",
       "      <td>0</td>\n",
       "      <td>0</td>\n",
       "      <td>0</td>\n",
       "      <td>0</td>\n",
       "      <td>0</td>\n",
       "      <td>1</td>\n",
       "      <td>0</td>\n",
       "      <td>0</td>\n",
       "      <td>0</td>\n",
       "      <td>1</td>\n",
       "      <td>0</td>\n",
       "      <td>0</td>\n",
       "      <td>0</td>\n",
       "      <td>0</td>\n",
       "      <td>0</td>\n",
       "    </tr>\n",
       "    <tr>\n",
       "      <th>4</th>\n",
       "      <td>49129</td>\n",
       "      <td>52.55260</td>\n",
       "      <td>13.57996</td>\n",
       "      <td>2021-01-01</td>\n",
       "      <td>POINT (13.57996 52.55260)</td>\n",
       "      <td>NaN</td>\n",
       "      <td>NaN</td>\n",
       "      <td>NaN</td>\n",
       "      <td>0</td>\n",
       "      <td>0</td>\n",
       "      <td>0</td>\n",
       "      <td>0</td>\n",
       "      <td>0</td>\n",
       "      <td>0</td>\n",
       "      <td>1</td>\n",
       "      <td>0</td>\n",
       "      <td>0</td>\n",
       "      <td>0</td>\n",
       "      <td>1</td>\n",
       "      <td>0</td>\n",
       "      <td>0</td>\n",
       "      <td>0</td>\n",
       "      <td>0</td>\n",
       "      <td>0</td>\n",
       "    </tr>\n",
       "  </tbody>\n",
       "</table>\n",
       "</div>"
      ],
      "text/plain": [
       "   device_id       lat       lon        date                   geometry  \\\n",
       "0      49129  52.55457  13.57401  2021-01-01  POINT (13.57401 52.55457)   \n",
       "1      49129  52.55457  13.57401  2021-01-01  POINT (13.57401 52.55457)   \n",
       "2      49129  52.55457  13.57401  2021-01-01  POINT (13.57401 52.55457)   \n",
       "3      49129  52.55260  13.57996  2021-01-01  POINT (13.57996 52.55260)   \n",
       "4      49129  52.55260  13.57996  2021-01-01  POINT (13.57996 52.55260)   \n",
       "\n",
       "   index_right store_id store_name  addidas  apple  bmw  employed  female  \\\n",
       "0          NaN      NaN        NaN        0      0    0         0       0   \n",
       "1          NaN      NaN        NaN        0      0    0         0       0   \n",
       "2          NaN      NaN        NaN        0      0    0         0       0   \n",
       "3          NaN      NaN        NaN        0      0    0         0       0   \n",
       "4          NaN      NaN        NaN        0      0    0         0       0   \n",
       "\n",
       "   h_&_m  high_income  honda  job_seeking  low_income  male  mercedes-benz  \\\n",
       "0      0            1      0            0           0     1              0   \n",
       "1      0            1      0            0           0     1              0   \n",
       "2      0            1      0            0           0     1              0   \n",
       "3      0            1      0            0           0     1              0   \n",
       "4      0            1      0            0           0     1              0   \n",
       "\n",
       "   middle_income  retired  student  tommy_helfinger  \n",
       "0              0        0        0                0  \n",
       "1              0        0        0                0  \n",
       "2              0        0        0                0  \n",
       "3              0        0        0                0  \n",
       "4              0        0        0                0  "
      ]
     },
     "execution_count": 56,
     "metadata": {},
     "output_type": "execute_result"
    }
   ],
   "source": [
    "gpssig_stores_useraff.head()"
   ]
  },
  {
   "cell_type": "markdown",
   "metadata": {},
   "source": [
    "## 1.b Group the resolved visits by date (yyyy-mm-dd), store_name, and store_id."
   ]
  },
  {
   "cell_type": "markdown",
   "metadata": {},
   "source": [
    "## 1.c For each store_id/store_name/date provide the following metric."
   ]
  },
  {
   "cell_type": "markdown",
   "metadata": {},
   "source": [
    "### 1.c.i A total number of GPS signals per place_id/date."
   ]
  },
  {
   "cell_type": "markdown",
   "metadata": {},
   "source": [
    "### 1.c.ii A total number of unique visitors (i.e. device ids)."
   ]
  },
  {
   "cell_type": "code",
   "execution_count": 57,
   "metadata": {},
   "outputs": [],
   "source": [
    "# create total number of GPS signals per place_id/date\n",
    "# and create total number of unique visitors\n",
    "gsu_total_and_unique = (gpssig_stores_useraff\n",
    "                        .groupby(by=[\"date\", \"store_name\", \"store_id\"])\n",
    "                        .agg({\"lat\": \"count\", \"device_id\": \"nunique\"})\n",
    "                        .rename(columns={\"lat\": \"total_signals\", \"device_id\": \"unique_visits\"})\n",
    "                        .reset_index())"
   ]
  },
  {
   "cell_type": "code",
   "execution_count": 58,
   "metadata": {},
   "outputs": [
    {
     "data": {
      "text/plain": [
       "(1199, 5)"
      ]
     },
     "execution_count": 58,
     "metadata": {},
     "output_type": "execute_result"
    }
   ],
   "source": [
    "gsu_total_and_unique.shape"
   ]
  },
  {
   "cell_type": "code",
   "execution_count": 59,
   "metadata": {},
   "outputs": [
    {
     "data": {
      "text/html": [
       "<div>\n",
       "<style scoped>\n",
       "    .dataframe tbody tr th:only-of-type {\n",
       "        vertical-align: middle;\n",
       "    }\n",
       "\n",
       "    .dataframe tbody tr th {\n",
       "        vertical-align: top;\n",
       "    }\n",
       "\n",
       "    .dataframe thead th {\n",
       "        text-align: right;\n",
       "    }\n",
       "</style>\n",
       "<table border=\"1\" class=\"dataframe\">\n",
       "  <thead>\n",
       "    <tr style=\"text-align: right;\">\n",
       "      <th></th>\n",
       "      <th>date</th>\n",
       "      <th>store_name</th>\n",
       "      <th>store_id</th>\n",
       "      <th>total_signals</th>\n",
       "      <th>unique_visits</th>\n",
       "    </tr>\n",
       "  </thead>\n",
       "  <tbody>\n",
       "    <tr>\n",
       "      <th>0</th>\n",
       "      <td>2021-01-01</td>\n",
       "      <td>Aldi</td>\n",
       "      <td>place_64</td>\n",
       "      <td>1</td>\n",
       "      <td>1</td>\n",
       "    </tr>\n",
       "    <tr>\n",
       "      <th>1</th>\n",
       "      <td>2021-01-01</td>\n",
       "      <td>Burger King</td>\n",
       "      <td>place_42</td>\n",
       "      <td>4</td>\n",
       "      <td>1</td>\n",
       "    </tr>\n",
       "    <tr>\n",
       "      <th>2</th>\n",
       "      <td>2021-01-01</td>\n",
       "      <td>Burger King</td>\n",
       "      <td>place_43</td>\n",
       "      <td>1</td>\n",
       "      <td>1</td>\n",
       "    </tr>\n",
       "    <tr>\n",
       "      <th>3</th>\n",
       "      <td>2021-01-01</td>\n",
       "      <td>Burger King</td>\n",
       "      <td>place_50</td>\n",
       "      <td>1</td>\n",
       "      <td>1</td>\n",
       "    </tr>\n",
       "    <tr>\n",
       "      <th>4</th>\n",
       "      <td>2021-01-01</td>\n",
       "      <td>McDonald's</td>\n",
       "      <td>place_17</td>\n",
       "      <td>1</td>\n",
       "      <td>1</td>\n",
       "    </tr>\n",
       "  </tbody>\n",
       "</table>\n",
       "</div>"
      ],
      "text/plain": [
       "         date   store_name  store_id  total_signals  unique_visits\n",
       "0  2021-01-01         Aldi  place_64              1              1\n",
       "1  2021-01-01  Burger King  place_42              4              1\n",
       "2  2021-01-01  Burger King  place_43              1              1\n",
       "3  2021-01-01  Burger King  place_50              1              1\n",
       "4  2021-01-01   McDonald's  place_17              1              1"
      ]
     },
     "execution_count": 59,
     "metadata": {},
     "output_type": "execute_result"
    }
   ],
   "source": [
    "gsu_total_and_unique.head()"
   ]
  },
  {
   "cell_type": "markdown",
   "metadata": {},
   "source": [
    "### 1.c.iii A total number of unique visitors belonging to each affinity group."
   ]
  },
  {
   "cell_type": "code",
   "execution_count": 60,
   "metadata": {},
   "outputs": [
    {
     "name": "stdout",
     "output_type": "stream",
     "text": [
      "Creating total number of unique visitors belonging to each affinity group...\n",
      "Create total number of unique visitors belonging to each affinity group took 3.51 minutes.\n"
     ]
    }
   ],
   "source": [
    "# drop duplicated date, store_name, store_id and device_id \n",
    "# in order to get unique visitors belonging to each affinity group\n",
    "# and group by data, store_name and store_id\n",
    "start = time.time()\n",
    "print(\"Creating total number of unique visitors belonging to each affinity group...\")\n",
    "\n",
    "gsu_unique_aff = (gpssig_stores_useraff\n",
    "                  .drop([\"geometry\", \"index_right\"], axis=1)\n",
    "                  .drop_duplicates(subset=[\"date\", \"store_name\", \"store_id\", \"device_id\"])\n",
    "                  .groupby(by=[\"date\", \"store_name\", \"store_id\"])\n",
    "                  .agg(sum)\n",
    "                  .reset_index())\n",
    "\n",
    "end = time.time()\n",
    "dt = end - start\n",
    "print(f\"Create total number of unique visitors belonging to each affinity group took {round(dt/60, 2)} minutes.\")"
   ]
  },
  {
   "cell_type": "code",
   "execution_count": 61,
   "metadata": {},
   "outputs": [
    {
     "data": {
      "text/plain": [
       "(1199, 22)"
      ]
     },
     "execution_count": 61,
     "metadata": {},
     "output_type": "execute_result"
    }
   ],
   "source": [
    "gsu_unique_aff.shape"
   ]
  },
  {
   "cell_type": "code",
   "execution_count": 62,
   "metadata": {},
   "outputs": [],
   "source": [
    "# delete unnecessary columns\n",
    "gsu_unique_aff = gsu_unique_aff.drop([\"date\", \"store_name\", \"store_id\"], axis=1)"
   ]
  },
  {
   "cell_type": "code",
   "execution_count": 63,
   "metadata": {},
   "outputs": [
    {
     "data": {
      "text/html": [
       "<div>\n",
       "<style scoped>\n",
       "    .dataframe tbody tr th:only-of-type {\n",
       "        vertical-align: middle;\n",
       "    }\n",
       "\n",
       "    .dataframe tbody tr th {\n",
       "        vertical-align: top;\n",
       "    }\n",
       "\n",
       "    .dataframe thead th {\n",
       "        text-align: right;\n",
       "    }\n",
       "</style>\n",
       "<table border=\"1\" class=\"dataframe\">\n",
       "  <thead>\n",
       "    <tr style=\"text-align: right;\">\n",
       "      <th></th>\n",
       "      <th>device_id</th>\n",
       "      <th>lat</th>\n",
       "      <th>lon</th>\n",
       "      <th>addidas</th>\n",
       "      <th>apple</th>\n",
       "      <th>bmw</th>\n",
       "      <th>employed</th>\n",
       "      <th>female</th>\n",
       "      <th>h_&amp;_m</th>\n",
       "      <th>high_income</th>\n",
       "      <th>honda</th>\n",
       "      <th>job_seeking</th>\n",
       "      <th>low_income</th>\n",
       "      <th>male</th>\n",
       "      <th>mercedes-benz</th>\n",
       "      <th>middle_income</th>\n",
       "      <th>retired</th>\n",
       "      <th>student</th>\n",
       "      <th>tommy_helfinger</th>\n",
       "    </tr>\n",
       "  </thead>\n",
       "  <tbody>\n",
       "    <tr>\n",
       "      <th>0</th>\n",
       "      <td>35745</td>\n",
       "      <td>52.541398</td>\n",
       "      <td>13.436914</td>\n",
       "      <td>0</td>\n",
       "      <td>0</td>\n",
       "      <td>0</td>\n",
       "      <td>0</td>\n",
       "      <td>0</td>\n",
       "      <td>0</td>\n",
       "      <td>0</td>\n",
       "      <td>0</td>\n",
       "      <td>0</td>\n",
       "      <td>1</td>\n",
       "      <td>1</td>\n",
       "      <td>0</td>\n",
       "      <td>0</td>\n",
       "      <td>0</td>\n",
       "      <td>0</td>\n",
       "      <td>0</td>\n",
       "    </tr>\n",
       "    <tr>\n",
       "      <th>1</th>\n",
       "      <td>40894</td>\n",
       "      <td>52.422292</td>\n",
       "      <td>13.311893</td>\n",
       "      <td>0</td>\n",
       "      <td>0</td>\n",
       "      <td>0</td>\n",
       "      <td>0</td>\n",
       "      <td>0</td>\n",
       "      <td>0</td>\n",
       "      <td>1</td>\n",
       "      <td>0</td>\n",
       "      <td>0</td>\n",
       "      <td>0</td>\n",
       "      <td>1</td>\n",
       "      <td>0</td>\n",
       "      <td>0</td>\n",
       "      <td>0</td>\n",
       "      <td>1</td>\n",
       "      <td>0</td>\n",
       "    </tr>\n",
       "    <tr>\n",
       "      <th>2</th>\n",
       "      <td>8753</td>\n",
       "      <td>52.527226</td>\n",
       "      <td>13.232200</td>\n",
       "      <td>0</td>\n",
       "      <td>0</td>\n",
       "      <td>0</td>\n",
       "      <td>0</td>\n",
       "      <td>0</td>\n",
       "      <td>0</td>\n",
       "      <td>0</td>\n",
       "      <td>0</td>\n",
       "      <td>0</td>\n",
       "      <td>0</td>\n",
       "      <td>1</td>\n",
       "      <td>0</td>\n",
       "      <td>1</td>\n",
       "      <td>0</td>\n",
       "      <td>0</td>\n",
       "      <td>0</td>\n",
       "    </tr>\n",
       "    <tr>\n",
       "      <th>3</th>\n",
       "      <td>47558</td>\n",
       "      <td>52.408845</td>\n",
       "      <td>13.370406</td>\n",
       "      <td>0</td>\n",
       "      <td>0</td>\n",
       "      <td>0</td>\n",
       "      <td>0</td>\n",
       "      <td>0</td>\n",
       "      <td>0</td>\n",
       "      <td>0</td>\n",
       "      <td>1</td>\n",
       "      <td>0</td>\n",
       "      <td>0</td>\n",
       "      <td>1</td>\n",
       "      <td>0</td>\n",
       "      <td>1</td>\n",
       "      <td>0</td>\n",
       "      <td>0</td>\n",
       "      <td>0</td>\n",
       "    </tr>\n",
       "    <tr>\n",
       "      <th>4</th>\n",
       "      <td>23806</td>\n",
       "      <td>52.504506</td>\n",
       "      <td>13.623608</td>\n",
       "      <td>0</td>\n",
       "      <td>0</td>\n",
       "      <td>0</td>\n",
       "      <td>0</td>\n",
       "      <td>0</td>\n",
       "      <td>0</td>\n",
       "      <td>0</td>\n",
       "      <td>0</td>\n",
       "      <td>0</td>\n",
       "      <td>0</td>\n",
       "      <td>1</td>\n",
       "      <td>0</td>\n",
       "      <td>1</td>\n",
       "      <td>0</td>\n",
       "      <td>0</td>\n",
       "      <td>0</td>\n",
       "    </tr>\n",
       "  </tbody>\n",
       "</table>\n",
       "</div>"
      ],
      "text/plain": [
       "   device_id        lat        lon  addidas  apple  bmw  employed  female  \\\n",
       "0      35745  52.541398  13.436914        0      0    0         0       0   \n",
       "1      40894  52.422292  13.311893        0      0    0         0       0   \n",
       "2       8753  52.527226  13.232200        0      0    0         0       0   \n",
       "3      47558  52.408845  13.370406        0      0    0         0       0   \n",
       "4      23806  52.504506  13.623608        0      0    0         0       0   \n",
       "\n",
       "   h_&_m  high_income  honda  job_seeking  low_income  male  mercedes-benz  \\\n",
       "0      0            0      0            0           1     1              0   \n",
       "1      0            1      0            0           0     1              0   \n",
       "2      0            0      0            0           0     1              0   \n",
       "3      0            0      1            0           0     1              0   \n",
       "4      0            0      0            0           0     1              0   \n",
       "\n",
       "   middle_income  retired  student  tommy_helfinger  \n",
       "0              0        0        0                0  \n",
       "1              0        0        1                0  \n",
       "2              1        0        0                0  \n",
       "3              1        0        0                0  \n",
       "4              1        0        0                0  "
      ]
     },
     "execution_count": 63,
     "metadata": {},
     "output_type": "execute_result"
    }
   ],
   "source": [
    "gsu_unique_aff.head()"
   ]
  },
  {
   "cell_type": "markdown",
   "metadata": {},
   "source": [
    "### concat the gsu_total_and_unique and gsu_unique_aff"
   ]
  },
  {
   "cell_type": "code",
   "execution_count": 64,
   "metadata": {},
   "outputs": [],
   "source": [
    "# concat the gsu_total_and_unique and gsu_unique_aff\n",
    "final_df = pd.concat([gsu_total_and_unique, gsu_unique_aff], axis=1)"
   ]
  },
  {
   "cell_type": "code",
   "execution_count": 65,
   "metadata": {},
   "outputs": [
    {
     "data": {
      "text/plain": [
       "(1199, 24)"
      ]
     },
     "execution_count": 65,
     "metadata": {},
     "output_type": "execute_result"
    }
   ],
   "source": [
    "final_df.shape"
   ]
  },
  {
   "cell_type": "code",
   "execution_count": 66,
   "metadata": {},
   "outputs": [
    {
     "data": {
      "text/html": [
       "<div>\n",
       "<style scoped>\n",
       "    .dataframe tbody tr th:only-of-type {\n",
       "        vertical-align: middle;\n",
       "    }\n",
       "\n",
       "    .dataframe tbody tr th {\n",
       "        vertical-align: top;\n",
       "    }\n",
       "\n",
       "    .dataframe thead th {\n",
       "        text-align: right;\n",
       "    }\n",
       "</style>\n",
       "<table border=\"1\" class=\"dataframe\">\n",
       "  <thead>\n",
       "    <tr style=\"text-align: right;\">\n",
       "      <th></th>\n",
       "      <th>date</th>\n",
       "      <th>store_name</th>\n",
       "      <th>store_id</th>\n",
       "      <th>total_signals</th>\n",
       "      <th>unique_visits</th>\n",
       "      <th>device_id</th>\n",
       "      <th>lat</th>\n",
       "      <th>lon</th>\n",
       "      <th>addidas</th>\n",
       "      <th>apple</th>\n",
       "      <th>bmw</th>\n",
       "      <th>employed</th>\n",
       "      <th>female</th>\n",
       "      <th>h_&amp;_m</th>\n",
       "      <th>high_income</th>\n",
       "      <th>honda</th>\n",
       "      <th>job_seeking</th>\n",
       "      <th>low_income</th>\n",
       "      <th>male</th>\n",
       "      <th>mercedes-benz</th>\n",
       "      <th>middle_income</th>\n",
       "      <th>retired</th>\n",
       "      <th>student</th>\n",
       "      <th>tommy_helfinger</th>\n",
       "    </tr>\n",
       "  </thead>\n",
       "  <tbody>\n",
       "    <tr>\n",
       "      <th>0</th>\n",
       "      <td>2021-01-01</td>\n",
       "      <td>Aldi</td>\n",
       "      <td>place_64</td>\n",
       "      <td>1</td>\n",
       "      <td>1</td>\n",
       "      <td>35745</td>\n",
       "      <td>52.541398</td>\n",
       "      <td>13.436914</td>\n",
       "      <td>0</td>\n",
       "      <td>0</td>\n",
       "      <td>0</td>\n",
       "      <td>0</td>\n",
       "      <td>0</td>\n",
       "      <td>0</td>\n",
       "      <td>0</td>\n",
       "      <td>0</td>\n",
       "      <td>0</td>\n",
       "      <td>1</td>\n",
       "      <td>1</td>\n",
       "      <td>0</td>\n",
       "      <td>0</td>\n",
       "      <td>0</td>\n",
       "      <td>0</td>\n",
       "      <td>0</td>\n",
       "    </tr>\n",
       "    <tr>\n",
       "      <th>1</th>\n",
       "      <td>2021-01-01</td>\n",
       "      <td>Burger King</td>\n",
       "      <td>place_42</td>\n",
       "      <td>4</td>\n",
       "      <td>1</td>\n",
       "      <td>40894</td>\n",
       "      <td>52.422292</td>\n",
       "      <td>13.311893</td>\n",
       "      <td>0</td>\n",
       "      <td>0</td>\n",
       "      <td>0</td>\n",
       "      <td>0</td>\n",
       "      <td>0</td>\n",
       "      <td>0</td>\n",
       "      <td>1</td>\n",
       "      <td>0</td>\n",
       "      <td>0</td>\n",
       "      <td>0</td>\n",
       "      <td>1</td>\n",
       "      <td>0</td>\n",
       "      <td>0</td>\n",
       "      <td>0</td>\n",
       "      <td>1</td>\n",
       "      <td>0</td>\n",
       "    </tr>\n",
       "    <tr>\n",
       "      <th>2</th>\n",
       "      <td>2021-01-01</td>\n",
       "      <td>Burger King</td>\n",
       "      <td>place_43</td>\n",
       "      <td>1</td>\n",
       "      <td>1</td>\n",
       "      <td>8753</td>\n",
       "      <td>52.527226</td>\n",
       "      <td>13.232200</td>\n",
       "      <td>0</td>\n",
       "      <td>0</td>\n",
       "      <td>0</td>\n",
       "      <td>0</td>\n",
       "      <td>0</td>\n",
       "      <td>0</td>\n",
       "      <td>0</td>\n",
       "      <td>0</td>\n",
       "      <td>0</td>\n",
       "      <td>0</td>\n",
       "      <td>1</td>\n",
       "      <td>0</td>\n",
       "      <td>1</td>\n",
       "      <td>0</td>\n",
       "      <td>0</td>\n",
       "      <td>0</td>\n",
       "    </tr>\n",
       "    <tr>\n",
       "      <th>3</th>\n",
       "      <td>2021-01-01</td>\n",
       "      <td>Burger King</td>\n",
       "      <td>place_50</td>\n",
       "      <td>1</td>\n",
       "      <td>1</td>\n",
       "      <td>47558</td>\n",
       "      <td>52.408845</td>\n",
       "      <td>13.370406</td>\n",
       "      <td>0</td>\n",
       "      <td>0</td>\n",
       "      <td>0</td>\n",
       "      <td>0</td>\n",
       "      <td>0</td>\n",
       "      <td>0</td>\n",
       "      <td>0</td>\n",
       "      <td>1</td>\n",
       "      <td>0</td>\n",
       "      <td>0</td>\n",
       "      <td>1</td>\n",
       "      <td>0</td>\n",
       "      <td>1</td>\n",
       "      <td>0</td>\n",
       "      <td>0</td>\n",
       "      <td>0</td>\n",
       "    </tr>\n",
       "    <tr>\n",
       "      <th>4</th>\n",
       "      <td>2021-01-01</td>\n",
       "      <td>McDonald's</td>\n",
       "      <td>place_17</td>\n",
       "      <td>1</td>\n",
       "      <td>1</td>\n",
       "      <td>23806</td>\n",
       "      <td>52.504506</td>\n",
       "      <td>13.623608</td>\n",
       "      <td>0</td>\n",
       "      <td>0</td>\n",
       "      <td>0</td>\n",
       "      <td>0</td>\n",
       "      <td>0</td>\n",
       "      <td>0</td>\n",
       "      <td>0</td>\n",
       "      <td>0</td>\n",
       "      <td>0</td>\n",
       "      <td>0</td>\n",
       "      <td>1</td>\n",
       "      <td>0</td>\n",
       "      <td>1</td>\n",
       "      <td>0</td>\n",
       "      <td>0</td>\n",
       "      <td>0</td>\n",
       "    </tr>\n",
       "  </tbody>\n",
       "</table>\n",
       "</div>"
      ],
      "text/plain": [
       "         date   store_name  store_id  total_signals  unique_visits  device_id  \\\n",
       "0  2021-01-01         Aldi  place_64              1              1      35745   \n",
       "1  2021-01-01  Burger King  place_42              4              1      40894   \n",
       "2  2021-01-01  Burger King  place_43              1              1       8753   \n",
       "3  2021-01-01  Burger King  place_50              1              1      47558   \n",
       "4  2021-01-01   McDonald's  place_17              1              1      23806   \n",
       "\n",
       "         lat        lon  addidas  apple  bmw  employed  female  h_&_m  \\\n",
       "0  52.541398  13.436914        0      0    0         0       0      0   \n",
       "1  52.422292  13.311893        0      0    0         0       0      0   \n",
       "2  52.527226  13.232200        0      0    0         0       0      0   \n",
       "3  52.408845  13.370406        0      0    0         0       0      0   \n",
       "4  52.504506  13.623608        0      0    0         0       0      0   \n",
       "\n",
       "   high_income  honda  job_seeking  low_income  male  mercedes-benz  \\\n",
       "0            0      0            0           1     1              0   \n",
       "1            1      0            0           0     1              0   \n",
       "2            0      0            0           0     1              0   \n",
       "3            0      1            0           0     1              0   \n",
       "4            0      0            0           0     1              0   \n",
       "\n",
       "   middle_income  retired  student  tommy_helfinger  \n",
       "0              0        0        0                0  \n",
       "1              0        0        1                0  \n",
       "2              1        0        0                0  \n",
       "3              1        0        0                0  \n",
       "4              1        0        0                0  "
      ]
     },
     "execution_count": 66,
     "metadata": {},
     "output_type": "execute_result"
    }
   ],
   "source": [
    "final_df.head()"
   ]
  },
  {
   "cell_type": "code",
   "execution_count": 67,
   "metadata": {},
   "outputs": [
    {
     "name": "stdout",
     "output_type": "stream",
     "text": [
      "final_df saved as csv\n"
     ]
    }
   ],
   "source": [
    "# save final df as csv\n",
    "final_df.to_csv(\"../out_data/analysis.csv\", index=False)\n",
    "print(\"final_df saved as csv\")"
   ]
  },
  {
   "cell_type": "code",
   "execution_count": null,
   "metadata": {},
   "outputs": [],
   "source": []
  }
 ],
 "metadata": {
  "kernelspec": {
   "display_name": "Python 3",
   "language": "python",
   "name": "python3"
  },
  "language_info": {
   "codemirror_mode": {
    "name": "ipython",
    "version": 3
   },
   "file_extension": ".py",
   "mimetype": "text/x-python",
   "name": "python",
   "nbconvert_exporter": "python",
   "pygments_lexer": "ipython3",
   "version": "3.8.3"
  }
 },
 "nbformat": 4,
 "nbformat_minor": 4
}
