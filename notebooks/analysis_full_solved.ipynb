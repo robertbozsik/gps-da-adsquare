{
 "cells": [
  {
   "cell_type": "markdown",
   "metadata": {},
   "source": [
    "### installs"
   ]
  },
  {
   "cell_type": "code",
   "execution_count": 1,
   "metadata": {},
   "outputs": [],
   "source": [
    "# installs\n",
    "# python3 -m pip3 install numpy\n",
    "# python3 -m pip3 install pandas\n",
    "# python3 -m pip3 install shapely\n",
    "# brew install gdal # fiona dependency\n",
    "# python3 -m pip3 install fiona # geopandas dependency\n",
    "# python3 -m pip3 install pyproj # geopandas dependency\n",
    "# python3 -m pip3 install pygeos # geopandas dependency\n",
    "# python3 -m pip3 install geopandas\n",
    "# python3 -m pip install jupyter\n",
    "# python3 -m pip3 install folium\n",
    "# python3 -m pip3 install matplotlib\n",
    "# python3 -m pip3 install seaborn\n",
    "# python3 -m pip install tqdm"
   ]
  },
  {
   "cell_type": "markdown",
   "metadata": {},
   "source": [
    "### imports"
   ]
  },
  {
   "cell_type": "code",
   "execution_count": 2,
   "metadata": {},
   "outputs": [
    {
     "name": "stderr",
     "output_type": "stream",
     "text": [
      "/Users/robertbozsik/techtest/adsquare/adsquare_env/lib/python3.8/site-packages/geopandas/_compat.py:106: UserWarning: The Shapely GEOS version (3.8.0-CAPI-1.13.1 ) is incompatible with the GEOS version PyGEOS was compiled with (3.9.0-CAPI-1.16.2). Conversions between both will be slow.\n",
      "  warnings.warn(\n"
     ]
    }
   ],
   "source": [
    "# imports\n",
    "import pandas as pd\n",
    "import numpy as np\n",
    "import glob\n",
    "import os\n",
    "# import datetime as dt\n",
    "# import pytz # python timezones\n",
    "from pathlib import Path\n",
    "import re\n",
    "import time\n",
    "from tqdm.auto import tqdm\n",
    "import pickle\n",
    "import shapely.wkt\n",
    "from shapely.geometry import Point, Polygon\n",
    "import geopandas as gpd\n",
    "from geopandas.tools import sjoin"
   ]
  },
  {
   "cell_type": "code",
   "execution_count": 3,
   "metadata": {},
   "outputs": [],
   "source": [
    "pd.set_option('display.max_columns', None)\n",
    "pd.set_option('display.max_rows', None)"
   ]
  },
  {
   "cell_type": "markdown",
   "metadata": {},
   "source": [
    "### user-defined functions"
   ]
  },
  {
   "cell_type": "code",
   "execution_count": 4,
   "metadata": {},
   "outputs": [],
   "source": [
    "def date_from_utc_ms_ts(utc_ms_ts) -> str:\n",
    "    \"\"\"Return a date (yyyy-mm-dd) from a string of utc timestamp in milliseconds (timezone = Europe/Berlin).\n",
    "\n",
    "    :param utc_ms_ts: Unix UTC timestamp in milliseconds (int or str)\n",
    "    :return: date yyyy-mm-dd (str)\n",
    "    \"\"\"\n",
    "    # convert from time stamp to datetime\n",
    "    utc_datetime = dt.datetime.utcfromtimestamp(int(utc_ms_ts) / 1000)\n",
    "    # set the timezone to UTC, and then convert to desired timezone\n",
    "    date = (utc_datetime\n",
    "            .replace(tzinfo=pytz.timezone('UTC'))\n",
    "            .astimezone(pytz.timezone('Europe/Berlin'))\n",
    "            .strftime('%Y-%m-%d'))\n",
    "    return date"
   ]
  },
  {
   "cell_type": "markdown",
   "metadata": {},
   "source": [
    "# 1. Analyze the store visitation by date and affinity profile of store visitors."
   ]
  },
  {
   "cell_type": "markdown",
   "metadata": {},
   "source": [
    "## 1.a Resolve the user visits per store, i.e. filter the GPS signals through polygons."
   ]
  },
  {
   "cell_type": "markdown",
   "metadata": {},
   "source": [
    "### stores"
   ]
  },
  {
   "cell_type": "code",
   "execution_count": 5,
   "metadata": {},
   "outputs": [],
   "source": [
    "stores = pd.read_csv(\"../../assignment_data/stores.csv\")"
   ]
  },
  {
   "cell_type": "code",
   "execution_count": 6,
   "metadata": {},
   "outputs": [],
   "source": [
    "# stores.shape"
   ]
  },
  {
   "cell_type": "code",
   "execution_count": 7,
   "metadata": {},
   "outputs": [
    {
     "data": {
      "text/html": [
       "<div>\n",
       "<style scoped>\n",
       "    .dataframe tbody tr th:only-of-type {\n",
       "        vertical-align: middle;\n",
       "    }\n",
       "\n",
       "    .dataframe tbody tr th {\n",
       "        vertical-align: top;\n",
       "    }\n",
       "\n",
       "    .dataframe thead th {\n",
       "        text-align: right;\n",
       "    }\n",
       "</style>\n",
       "<table border=\"1\" class=\"dataframe\">\n",
       "  <thead>\n",
       "    <tr style=\"text-align: right;\">\n",
       "      <th></th>\n",
       "      <th>store_id</th>\n",
       "      <th>store_name</th>\n",
       "      <th>wkt</th>\n",
       "    </tr>\n",
       "  </thead>\n",
       "  <tbody>\n",
       "    <tr>\n",
       "      <th>0</th>\n",
       "      <td>place_1</td>\n",
       "      <td>McDonald's</td>\n",
       "      <td>POLYGON ((13.4611920000000005 52.4709870000000...</td>\n",
       "    </tr>\n",
       "    <tr>\n",
       "      <th>1</th>\n",
       "      <td>place_2</td>\n",
       "      <td>McDonald's</td>\n",
       "      <td>POLYGON ((13.4683480000000007 52.5471599999999...</td>\n",
       "    </tr>\n",
       "    <tr>\n",
       "      <th>2</th>\n",
       "      <td>place_3</td>\n",
       "      <td>McDonald's</td>\n",
       "      <td>POLYGON ((13.3128810000000009 52.4197929999999...</td>\n",
       "    </tr>\n",
       "    <tr>\n",
       "      <th>3</th>\n",
       "      <td>place_4</td>\n",
       "      <td>McDonald's</td>\n",
       "      <td>POLYGON ((13.3635780000000004 52.5606039999999...</td>\n",
       "    </tr>\n",
       "    <tr>\n",
       "      <th>4</th>\n",
       "      <td>place_5</td>\n",
       "      <td>McDonald's</td>\n",
       "      <td>POLYGON ((13.3230909999999998 52.5613460000000...</td>\n",
       "    </tr>\n",
       "  </tbody>\n",
       "</table>\n",
       "</div>"
      ],
      "text/plain": [
       "  store_id  store_name                                                wkt\n",
       "0  place_1  McDonald's  POLYGON ((13.4611920000000005 52.4709870000000...\n",
       "1  place_2  McDonald's  POLYGON ((13.4683480000000007 52.5471599999999...\n",
       "2  place_3  McDonald's  POLYGON ((13.3128810000000009 52.4197929999999...\n",
       "3  place_4  McDonald's  POLYGON ((13.3635780000000004 52.5606039999999...\n",
       "4  place_5  McDonald's  POLYGON ((13.3230909999999998 52.5613460000000..."
      ]
     },
     "execution_count": 7,
     "metadata": {},
     "output_type": "execute_result"
    }
   ],
   "source": [
    "stores.head()"
   ]
  },
  {
   "cell_type": "code",
   "execution_count": 8,
   "metadata": {},
   "outputs": [],
   "source": [
    "# transform strings to polygons in column \"wkt\"\n",
    "stores[\"wkt\"] = stores[\"wkt\"].apply(lambda x: shapely.wkt.loads(x))"
   ]
  },
  {
   "cell_type": "code",
   "execution_count": 9,
   "metadata": {},
   "outputs": [],
   "source": [
    "# rename \"wkt\" to \"geometry\"\n",
    "stores = stores.rename(columns={\"wkt\": \"geometry\"}) # must be geometry for the geopandas join"
   ]
  },
  {
   "cell_type": "code",
   "execution_count": 10,
   "metadata": {},
   "outputs": [],
   "source": [
    "# type(stores[\"geometry\"][0])"
   ]
  },
  {
   "cell_type": "code",
   "execution_count": 11,
   "metadata": {},
   "outputs": [],
   "source": [
    "# transform stores into a GeoDataFrame\n",
    "stores_gdf = gpd.GeoDataFrame(stores)"
   ]
  },
  {
   "cell_type": "code",
   "execution_count": 12,
   "metadata": {},
   "outputs": [
    {
     "data": {
      "text/html": [
       "<div>\n",
       "<style scoped>\n",
       "    .dataframe tbody tr th:only-of-type {\n",
       "        vertical-align: middle;\n",
       "    }\n",
       "\n",
       "    .dataframe tbody tr th {\n",
       "        vertical-align: top;\n",
       "    }\n",
       "\n",
       "    .dataframe thead th {\n",
       "        text-align: right;\n",
       "    }\n",
       "</style>\n",
       "<table border=\"1\" class=\"dataframe\">\n",
       "  <thead>\n",
       "    <tr style=\"text-align: right;\">\n",
       "      <th></th>\n",
       "      <th>store_id</th>\n",
       "      <th>store_name</th>\n",
       "      <th>geometry</th>\n",
       "    </tr>\n",
       "  </thead>\n",
       "  <tbody>\n",
       "    <tr>\n",
       "      <th>0</th>\n",
       "      <td>place_1</td>\n",
       "      <td>McDonald's</td>\n",
       "      <td>POLYGON ((13.46119 52.47099, 13.46103 52.47066...</td>\n",
       "    </tr>\n",
       "    <tr>\n",
       "      <th>1</th>\n",
       "      <td>place_2</td>\n",
       "      <td>McDonald's</td>\n",
       "      <td>POLYGON ((13.46835 52.54716, 13.46841 52.54716...</td>\n",
       "    </tr>\n",
       "    <tr>\n",
       "      <th>2</th>\n",
       "      <td>place_3</td>\n",
       "      <td>McDonald's</td>\n",
       "      <td>POLYGON ((13.31288 52.41979, 13.31303 52.41966...</td>\n",
       "    </tr>\n",
       "    <tr>\n",
       "      <th>3</th>\n",
       "      <td>place_4</td>\n",
       "      <td>McDonald's</td>\n",
       "      <td>POLYGON ((13.36358 52.56060, 13.36358 52.56061...</td>\n",
       "    </tr>\n",
       "    <tr>\n",
       "      <th>4</th>\n",
       "      <td>place_5</td>\n",
       "      <td>McDonald's</td>\n",
       "      <td>POLYGON ((13.32309 52.56135, 13.32307 52.56128...</td>\n",
       "    </tr>\n",
       "  </tbody>\n",
       "</table>\n",
       "</div>"
      ],
      "text/plain": [
       "  store_id  store_name                                           geometry\n",
       "0  place_1  McDonald's  POLYGON ((13.46119 52.47099, 13.46103 52.47066...\n",
       "1  place_2  McDonald's  POLYGON ((13.46835 52.54716, 13.46841 52.54716...\n",
       "2  place_3  McDonald's  POLYGON ((13.31288 52.41979, 13.31303 52.41966...\n",
       "3  place_4  McDonald's  POLYGON ((13.36358 52.56060, 13.36358 52.56061...\n",
       "4  place_5  McDonald's  POLYGON ((13.32309 52.56135, 13.32307 52.56128..."
      ]
     },
     "execution_count": 12,
     "metadata": {},
     "output_type": "execute_result"
    }
   ],
   "source": [
    "stores_gdf.head()"
   ]
  },
  {
   "cell_type": "code",
   "execution_count": 13,
   "metadata": {},
   "outputs": [
    {
     "data": {
      "text/plain": [
       "(247, 3)"
      ]
     },
     "execution_count": 13,
     "metadata": {},
     "output_type": "execute_result"
    }
   ],
   "source": [
    "stores_gdf.shape"
   ]
  },
  {
   "cell_type": "code",
   "execution_count": 14,
   "metadata": {},
   "outputs": [
    {
     "data": {
      "text/plain": [
       "geopandas.geodataframe.GeoDataFrame"
      ]
     },
     "execution_count": 14,
     "metadata": {},
     "output_type": "execute_result"
    }
   ],
   "source": [
    "type(stores_gdf)"
   ]
  },
  {
   "cell_type": "code",
   "execution_count": 15,
   "metadata": {},
   "outputs": [],
   "source": [
    "# save stores_gdf as geojson for visualization in Tableau\n",
    "# stores_gdf.to_file(\"../out_data_full/stores_gdf.geojson\", driver=\"GeoJSON\")"
   ]
  },
  {
   "cell_type": "code",
   "execution_count": 16,
   "metadata": {},
   "outputs": [],
   "source": [
    "# save stores_gdf as pickle\n",
    "# stores_gdf.to_pickle(\"../out_data_full/stores_gdf.pkl\")"
   ]
  },
  {
   "cell_type": "markdown",
   "metadata": {},
   "source": [
    "### gps signals"
   ]
  },
  {
   "cell_type": "markdown",
   "metadata": {},
   "source": [
    "**read and transform gps signal batches**"
   ]
  },
  {
   "cell_type": "code",
   "execution_count": 17,
   "metadata": {},
   "outputs": [],
   "source": [
    "signals_gdf_list = []"
   ]
  },
  {
   "cell_type": "code",
   "execution_count": 18,
   "metadata": {},
   "outputs": [],
   "source": [
    "# start = time.time()\n",
    "# print(\"Reading and transforming gps signal csv batches...\")\n",
    "\n",
    "# path_sample = \"../../assignment_data/full_data/\"\n",
    "\n",
    "# for index, file_name in enumerate(glob.glob(path_sample + \"*.csv\")):\n",
    "#     # open a partition/batch of a gps signal as a Pandas DataFrame\n",
    "#     signal = pd.read_csv(path_sample + f\"part_{index + 1}.csv\")\n",
    "#     # sort by \"utc_timestamp\" ascending\n",
    "#     signal = signal.sort_values(by=[\"utc_timestamp\"]).reset_index(drop=True)\n",
    "#     # transform utc_timestamp into yyyy-mm-dd (Europe/Berlin timezone)\n",
    "#     # signal[\"utc_timestamp\"] = signal[\"utc_timestamp\"].apply(lambda x: date_from_utc_ms_ts(x))\n",
    "#     signal[\"utc_timestamp\"] = signal[\"utc_timestamp\"].astype(\"datetime64[ms]\").dt.to_period(\"D\")\n",
    "#     # rename \"utc_timestamp\" to \"date\"\n",
    "#     signal = signal.rename(columns={\"utc_timestamp\": \"date\"})\n",
    "#     # create POINT from lat lon and transform df into gdf\n",
    "#     signal_gdf = gpd.GeoDataFrame(signal, geometry=gpd.points_from_xy(signal[\"lon\"], signal[\"lat\"]))\n",
    "#     # append into the signals_list\n",
    "#     signals_gdf_list.append(signal_gdf)\n",
    "\n",
    "# end = time.time()\n",
    "# dt = end - start\n",
    "# print(f\"The above task took {round(dt/60, 2)} minute(s).\")"
   ]
  },
  {
   "cell_type": "code",
   "execution_count": 19,
   "metadata": {},
   "outputs": [
    {
     "name": "stdout",
     "output_type": "stream",
     "text": [
      "Reading and transforming gps signal csv batches...\n"
     ]
    },
    {
     "data": {
      "application/vnd.jupyter.widget-view+json": {
       "model_id": "323726aea21243309835f22adce6714d",
       "version_major": 2,
       "version_minor": 0
      },
      "text/plain": [
       "  0%|          | 0/57 [00:00<?, ?it/s]"
      ]
     },
     "metadata": {},
     "output_type": "display_data"
    },
    {
     "name": "stdout",
     "output_type": "stream",
     "text": [
      "The above task took 1.63 minute(s).\n"
     ]
    }
   ],
   "source": [
    "start = time.time()\n",
    "print(\"Reading and transforming gps signal csv batches into GeoDataFrames...\")\n",
    "\n",
    "path_sample = \"../../assignment_data/full_data/\"\n",
    "files_list = glob.glob(path_sample + \"*.csv\")\n",
    "\n",
    "for index in tqdm(range(len(files_list))):\n",
    "    # open a partition/batch of a gps signal as a Pandas DataFrame\n",
    "    signal = pd.read_csv(path_sample + f\"part_{index + 1}.csv\")\n",
    "    # sort by \"utc_timestamp\" ascending\n",
    "    signal = signal.sort_values(by=[\"utc_timestamp\"]).reset_index(drop=True)\n",
    "    # transform utc_timestamp into yyyy-mm-dd (Europe/Berlin timezone)\n",
    "    # signal[\"utc_timestamp\"] = signal[\"utc_timestamp\"].apply(lambda x: date_from_utc_ms_ts(x))\n",
    "    signal[\"utc_timestamp\"] = signal[\"utc_timestamp\"].astype(\"datetime64[ms]\").dt.to_period(\"D\")\n",
    "    # rename \"utc_timestamp\" to \"date\"\n",
    "    signal = signal.rename(columns={\"utc_timestamp\": \"date\"})\n",
    "    # create POINT from lat lon and transform df into gdf\n",
    "    signal_gdf = gpd.GeoDataFrame(signal, geometry=gpd.points_from_xy(signal[\"lon\"], signal[\"lat\"]))\n",
    "    # append into the signals_list\n",
    "    signals_gdf_list.append(signal_gdf)\n",
    "\n",
    "end = time.time()\n",
    "dt = end - start\n",
    "print(f\"The above task took {round(dt/60, 2)} minute(s).\")"
   ]
  },
  {
   "cell_type": "code",
   "execution_count": 20,
   "metadata": {},
   "outputs": [
    {
     "data": {
      "text/plain": [
       "57"
      ]
     },
     "execution_count": 20,
     "metadata": {},
     "output_type": "execute_result"
    }
   ],
   "source": [
    "len(signals_gdf_list)"
   ]
  },
  {
   "cell_type": "code",
   "execution_count": 21,
   "metadata": {},
   "outputs": [
    {
     "data": {
      "text/html": [
       "<div>\n",
       "<style scoped>\n",
       "    .dataframe tbody tr th:only-of-type {\n",
       "        vertical-align: middle;\n",
       "    }\n",
       "\n",
       "    .dataframe tbody tr th {\n",
       "        vertical-align: top;\n",
       "    }\n",
       "\n",
       "    .dataframe thead th {\n",
       "        text-align: right;\n",
       "    }\n",
       "</style>\n",
       "<table border=\"1\" class=\"dataframe\">\n",
       "  <thead>\n",
       "    <tr style=\"text-align: right;\">\n",
       "      <th></th>\n",
       "      <th>device_id</th>\n",
       "      <th>lat</th>\n",
       "      <th>lon</th>\n",
       "      <th>date</th>\n",
       "      <th>geometry</th>\n",
       "    </tr>\n",
       "  </thead>\n",
       "  <tbody>\n",
       "    <tr>\n",
       "      <th>0</th>\n",
       "      <td>14372</td>\n",
       "      <td>52.486812</td>\n",
       "      <td>13.395102</td>\n",
       "      <td>2021-01-01</td>\n",
       "      <td>POINT (13.39510 52.48681)</td>\n",
       "    </tr>\n",
       "    <tr>\n",
       "      <th>1</th>\n",
       "      <td>8853</td>\n",
       "      <td>52.542976</td>\n",
       "      <td>13.602809</td>\n",
       "      <td>2021-01-01</td>\n",
       "      <td>POINT (13.60281 52.54298)</td>\n",
       "    </tr>\n",
       "    <tr>\n",
       "      <th>2</th>\n",
       "      <td>22268</td>\n",
       "      <td>52.568431</td>\n",
       "      <td>13.523719</td>\n",
       "      <td>2021-01-01</td>\n",
       "      <td>POINT (13.52372 52.56843)</td>\n",
       "    </tr>\n",
       "    <tr>\n",
       "      <th>3</th>\n",
       "      <td>5914</td>\n",
       "      <td>52.567700</td>\n",
       "      <td>13.451360</td>\n",
       "      <td>2021-01-01</td>\n",
       "      <td>POINT (13.45136 52.56770)</td>\n",
       "    </tr>\n",
       "    <tr>\n",
       "      <th>4</th>\n",
       "      <td>5752</td>\n",
       "      <td>52.539409</td>\n",
       "      <td>13.519975</td>\n",
       "      <td>2021-01-01</td>\n",
       "      <td>POINT (13.51998 52.53941)</td>\n",
       "    </tr>\n",
       "  </tbody>\n",
       "</table>\n",
       "</div>"
      ],
      "text/plain": [
       "   device_id        lat        lon        date                   geometry\n",
       "0      14372  52.486812  13.395102  2021-01-01  POINT (13.39510 52.48681)\n",
       "1       8853  52.542976  13.602809  2021-01-01  POINT (13.60281 52.54298)\n",
       "2      22268  52.568431  13.523719  2021-01-01  POINT (13.52372 52.56843)\n",
       "3       5914  52.567700  13.451360  2021-01-01  POINT (13.45136 52.56770)\n",
       "4       5752  52.539409  13.519975  2021-01-01  POINT (13.51998 52.53941)"
      ]
     },
     "execution_count": 21,
     "metadata": {},
     "output_type": "execute_result"
    }
   ],
   "source": [
    "signals_gdf_list[0].head()"
   ]
  },
  {
   "cell_type": "code",
   "execution_count": 22,
   "metadata": {},
   "outputs": [
    {
     "data": {
      "text/plain": [
       "(1000000, 5)"
      ]
     },
     "execution_count": 22,
     "metadata": {},
     "output_type": "execute_result"
    }
   ],
   "source": [
    "signals_gdf_list[0].shape"
   ]
  },
  {
   "cell_type": "code",
   "execution_count": 23,
   "metadata": {},
   "outputs": [
    {
     "data": {
      "text/html": [
       "<div>\n",
       "<style scoped>\n",
       "    .dataframe tbody tr th:only-of-type {\n",
       "        vertical-align: middle;\n",
       "    }\n",
       "\n",
       "    .dataframe tbody tr th {\n",
       "        vertical-align: top;\n",
       "    }\n",
       "\n",
       "    .dataframe thead th {\n",
       "        text-align: right;\n",
       "    }\n",
       "</style>\n",
       "<table border=\"1\" class=\"dataframe\">\n",
       "  <thead>\n",
       "    <tr style=\"text-align: right;\">\n",
       "      <th></th>\n",
       "      <th>device_id</th>\n",
       "      <th>lat</th>\n",
       "      <th>lon</th>\n",
       "      <th>date</th>\n",
       "      <th>geometry</th>\n",
       "    </tr>\n",
       "  </thead>\n",
       "  <tbody>\n",
       "    <tr>\n",
       "      <th>0</th>\n",
       "      <td>49649</td>\n",
       "      <td>52.669650</td>\n",
       "      <td>13.549480</td>\n",
       "      <td>2021-01-21</td>\n",
       "      <td>POINT (13.54948 52.66965)</td>\n",
       "    </tr>\n",
       "    <tr>\n",
       "      <th>1</th>\n",
       "      <td>43538</td>\n",
       "      <td>52.422310</td>\n",
       "      <td>13.474727</td>\n",
       "      <td>2021-01-21</td>\n",
       "      <td>POINT (13.47473 52.42231)</td>\n",
       "    </tr>\n",
       "    <tr>\n",
       "      <th>2</th>\n",
       "      <td>142367</td>\n",
       "      <td>52.520010</td>\n",
       "      <td>13.404950</td>\n",
       "      <td>2021-01-21</td>\n",
       "      <td>POINT (13.40495 52.52001)</td>\n",
       "    </tr>\n",
       "    <tr>\n",
       "      <th>3</th>\n",
       "      <td>41903</td>\n",
       "      <td>52.435479</td>\n",
       "      <td>13.529791</td>\n",
       "      <td>2021-01-21</td>\n",
       "      <td>POINT (13.52979 52.43548)</td>\n",
       "    </tr>\n",
       "    <tr>\n",
       "      <th>4</th>\n",
       "      <td>45678</td>\n",
       "      <td>52.522173</td>\n",
       "      <td>13.455405</td>\n",
       "      <td>2021-01-21</td>\n",
       "      <td>POINT (13.45540 52.52217)</td>\n",
       "    </tr>\n",
       "  </tbody>\n",
       "</table>\n",
       "</div>"
      ],
      "text/plain": [
       "   device_id        lat        lon        date                   geometry\n",
       "0      49649  52.669650  13.549480  2021-01-21  POINT (13.54948 52.66965)\n",
       "1      43538  52.422310  13.474727  2021-01-21  POINT (13.47473 52.42231)\n",
       "2     142367  52.520010  13.404950  2021-01-21  POINT (13.40495 52.52001)\n",
       "3      41903  52.435479  13.529791  2021-01-21  POINT (13.52979 52.43548)\n",
       "4      45678  52.522173  13.455405  2021-01-21  POINT (13.45540 52.52217)"
      ]
     },
     "execution_count": 23,
     "metadata": {},
     "output_type": "execute_result"
    }
   ],
   "source": [
    "signals_gdf_list[56].head()"
   ]
  },
  {
   "cell_type": "code",
   "execution_count": 24,
   "metadata": {},
   "outputs": [
    {
     "data": {
      "text/plain": [
       "(572824, 5)"
      ]
     },
     "execution_count": 24,
     "metadata": {},
     "output_type": "execute_result"
    }
   ],
   "source": [
    "signals_gdf_list[56].shape"
   ]
  },
  {
   "cell_type": "markdown",
   "metadata": {},
   "source": [
    "### create spatial joins between stores_gdf and each signal_gdf and concat all spatial joins vertically together"
   ]
  },
  {
   "cell_type": "code",
   "execution_count": 25,
   "metadata": {},
   "outputs": [],
   "source": [
    "signals_stores_gdf = gpd.GeoDataFrame()"
   ]
  },
  {
   "cell_type": "code",
   "execution_count": 26,
   "metadata": {},
   "outputs": [],
   "source": [
    "# start = time.time()\n",
    "# print(\"Joining each signal_gdf and stores_gdf...\")\n",
    "\n",
    "# for signal_gdf in signals_gdf_list:\n",
    "#     # spatial join signal_gdf and stores_gdf\n",
    "#     signals_stores = sjoin(signal_gdf, stores_gdf, how=\"inner\")\n",
    "#     # concat/add all spatial joins vertically together\n",
    "#     signals_stores_gdf = pd.concat([signals_stores_gdf, signals_stores], ignore_index=True)\n",
    "\n",
    "# end = time.time()\n",
    "# dt = end - start\n",
    "# print(f\"The above task took {round(dt/60, 2)} minute(s).\")"
   ]
  },
  {
   "cell_type": "code",
   "execution_count": 27,
   "metadata": {},
   "outputs": [
    {
     "name": "stdout",
     "output_type": "stream",
     "text": [
      "Joining each signal_gdf and stores_gdf...\n"
     ]
    },
    {
     "data": {
      "application/vnd.jupyter.widget-view+json": {
       "model_id": "28a0959d01174cd3ae0e123d135223df",
       "version_major": 2,
       "version_minor": 0
      },
      "text/plain": [
       "  0%|          | 0/57 [00:00<?, ?it/s]"
      ]
     },
     "metadata": {},
     "output_type": "display_data"
    },
    {
     "name": "stdout",
     "output_type": "stream",
     "text": [
      "The above task took 1.81 minute(s).\n"
     ]
    }
   ],
   "source": [
    "start = time.time()\n",
    "print(\"Joining each signal_gdf and stores_gdf and creating a GeoDataFrame...\")\n",
    "\n",
    "for index in tqdm(range(len(signals_gdf_list))):\n",
    "    signal_gdf = signals_gdf_list[index]\n",
    "    # spatial join signal_gdf and stores_gdf\n",
    "    signals_stores = sjoin(signal_gdf, stores_gdf, how=\"inner\")\n",
    "    # concat/add all spatial joins vertically together\n",
    "    signals_stores_gdf = pd.concat([signals_stores_gdf, signals_stores], ignore_index=True)\n",
    "\n",
    "end = time.time()\n",
    "dt = end - start\n",
    "print(f\"The above task took {round(dt/60, 2)} minute(s).\")"
   ]
  },
  {
   "cell_type": "code",
   "execution_count": 28,
   "metadata": {},
   "outputs": [
    {
     "data": {
      "text/plain": [
       "(68179, 8)"
      ]
     },
     "execution_count": 28,
     "metadata": {},
     "output_type": "execute_result"
    }
   ],
   "source": [
    "signals_stores_gdf.shape"
   ]
  },
  {
   "cell_type": "code",
   "execution_count": 29,
   "metadata": {},
   "outputs": [
    {
     "data": {
      "text/html": [
       "<div>\n",
       "<style scoped>\n",
       "    .dataframe tbody tr th:only-of-type {\n",
       "        vertical-align: middle;\n",
       "    }\n",
       "\n",
       "    .dataframe tbody tr th {\n",
       "        vertical-align: top;\n",
       "    }\n",
       "\n",
       "    .dataframe thead th {\n",
       "        text-align: right;\n",
       "    }\n",
       "</style>\n",
       "<table border=\"1\" class=\"dataframe\">\n",
       "  <thead>\n",
       "    <tr style=\"text-align: right;\">\n",
       "      <th></th>\n",
       "      <th>device_id</th>\n",
       "      <th>lat</th>\n",
       "      <th>lon</th>\n",
       "      <th>date</th>\n",
       "      <th>geometry</th>\n",
       "      <th>index_right</th>\n",
       "      <th>store_id</th>\n",
       "      <th>store_name</th>\n",
       "    </tr>\n",
       "  </thead>\n",
       "  <tbody>\n",
       "    <tr>\n",
       "      <th>0</th>\n",
       "      <td>2022</td>\n",
       "      <td>52.505726</td>\n",
       "      <td>13.439094</td>\n",
       "      <td>2021-01-01</td>\n",
       "      <td>POINT (13.43909 52.50573)</td>\n",
       "      <td>232</td>\n",
       "      <td>place_233</td>\n",
       "      <td>Mercedes</td>\n",
       "    </tr>\n",
       "    <tr>\n",
       "      <th>1</th>\n",
       "      <td>14375</td>\n",
       "      <td>52.520300</td>\n",
       "      <td>13.386380</td>\n",
       "      <td>2021-01-01</td>\n",
       "      <td>POINT (13.38638 52.52030)</td>\n",
       "      <td>27</td>\n",
       "      <td>place_28</td>\n",
       "      <td>McDonald's</td>\n",
       "    </tr>\n",
       "    <tr>\n",
       "      <th>2</th>\n",
       "      <td>838</td>\n",
       "      <td>52.520299</td>\n",
       "      <td>13.386378</td>\n",
       "      <td>2021-01-01</td>\n",
       "      <td>POINT (13.38638 52.52030)</td>\n",
       "      <td>27</td>\n",
       "      <td>place_28</td>\n",
       "      <td>McDonald's</td>\n",
       "    </tr>\n",
       "    <tr>\n",
       "      <th>3</th>\n",
       "      <td>20940</td>\n",
       "      <td>52.547120</td>\n",
       "      <td>13.468410</td>\n",
       "      <td>2021-01-01</td>\n",
       "      <td>POINT (13.46841 52.54712)</td>\n",
       "      <td>1</td>\n",
       "      <td>place_2</td>\n",
       "      <td>McDonald's</td>\n",
       "    </tr>\n",
       "    <tr>\n",
       "      <th>4</th>\n",
       "      <td>20940</td>\n",
       "      <td>52.547120</td>\n",
       "      <td>13.468410</td>\n",
       "      <td>2021-01-01</td>\n",
       "      <td>POINT (13.46841 52.54712)</td>\n",
       "      <td>1</td>\n",
       "      <td>place_2</td>\n",
       "      <td>McDonald's</td>\n",
       "    </tr>\n",
       "  </tbody>\n",
       "</table>\n",
       "</div>"
      ],
      "text/plain": [
       "   device_id        lat        lon        date                   geometry  \\\n",
       "0       2022  52.505726  13.439094  2021-01-01  POINT (13.43909 52.50573)   \n",
       "1      14375  52.520300  13.386380  2021-01-01  POINT (13.38638 52.52030)   \n",
       "2        838  52.520299  13.386378  2021-01-01  POINT (13.38638 52.52030)   \n",
       "3      20940  52.547120  13.468410  2021-01-01  POINT (13.46841 52.54712)   \n",
       "4      20940  52.547120  13.468410  2021-01-01  POINT (13.46841 52.54712)   \n",
       "\n",
       "   index_right   store_id  store_name  \n",
       "0          232  place_233    Mercedes  \n",
       "1           27   place_28  McDonald's  \n",
       "2           27   place_28  McDonald's  \n",
       "3            1    place_2  McDonald's  \n",
       "4            1    place_2  McDonald's  "
      ]
     },
     "execution_count": 29,
     "metadata": {},
     "output_type": "execute_result"
    }
   ],
   "source": [
    "signals_stores_gdf.head()"
   ]
  },
  {
   "cell_type": "code",
   "execution_count": 30,
   "metadata": {},
   "outputs": [
    {
     "data": {
      "text/html": [
       "<div>\n",
       "<style scoped>\n",
       "    .dataframe tbody tr th:only-of-type {\n",
       "        vertical-align: middle;\n",
       "    }\n",
       "\n",
       "    .dataframe tbody tr th {\n",
       "        vertical-align: top;\n",
       "    }\n",
       "\n",
       "    .dataframe thead th {\n",
       "        text-align: right;\n",
       "    }\n",
       "</style>\n",
       "<table border=\"1\" class=\"dataframe\">\n",
       "  <thead>\n",
       "    <tr style=\"text-align: right;\">\n",
       "      <th></th>\n",
       "      <th>device_id</th>\n",
       "      <th>lat</th>\n",
       "      <th>lon</th>\n",
       "      <th>date</th>\n",
       "      <th>geometry</th>\n",
       "      <th>index_right</th>\n",
       "      <th>store_id</th>\n",
       "      <th>store_name</th>\n",
       "    </tr>\n",
       "  </thead>\n",
       "  <tbody>\n",
       "    <tr>\n",
       "      <th>68174</th>\n",
       "      <td>142681</td>\n",
       "      <td>52.483676</td>\n",
       "      <td>13.377726</td>\n",
       "      <td>2021-01-21</td>\n",
       "      <td>POINT (13.37773 52.48368)</td>\n",
       "      <td>155</td>\n",
       "      <td>place_156</td>\n",
       "      <td>Rewe</td>\n",
       "    </tr>\n",
       "    <tr>\n",
       "      <th>68175</th>\n",
       "      <td>142681</td>\n",
       "      <td>52.483624</td>\n",
       "      <td>13.377775</td>\n",
       "      <td>2021-01-21</td>\n",
       "      <td>POINT (13.37777 52.48362)</td>\n",
       "      <td>155</td>\n",
       "      <td>place_156</td>\n",
       "      <td>Rewe</td>\n",
       "    </tr>\n",
       "    <tr>\n",
       "      <th>68176</th>\n",
       "      <td>142681</td>\n",
       "      <td>52.483604</td>\n",
       "      <td>13.377489</td>\n",
       "      <td>2021-01-21</td>\n",
       "      <td>POINT (13.37749 52.48360)</td>\n",
       "      <td>155</td>\n",
       "      <td>place_156</td>\n",
       "      <td>Rewe</td>\n",
       "    </tr>\n",
       "    <tr>\n",
       "      <th>68177</th>\n",
       "      <td>142681</td>\n",
       "      <td>52.483606</td>\n",
       "      <td>13.377411</td>\n",
       "      <td>2021-01-21</td>\n",
       "      <td>POINT (13.37741 52.48361)</td>\n",
       "      <td>155</td>\n",
       "      <td>place_156</td>\n",
       "      <td>Rewe</td>\n",
       "    </tr>\n",
       "    <tr>\n",
       "      <th>68178</th>\n",
       "      <td>142681</td>\n",
       "      <td>52.483770</td>\n",
       "      <td>13.377451</td>\n",
       "      <td>2021-01-21</td>\n",
       "      <td>POINT (13.37745 52.48377)</td>\n",
       "      <td>155</td>\n",
       "      <td>place_156</td>\n",
       "      <td>Rewe</td>\n",
       "    </tr>\n",
       "  </tbody>\n",
       "</table>\n",
       "</div>"
      ],
      "text/plain": [
       "       device_id        lat        lon        date                   geometry  \\\n",
       "68174     142681  52.483676  13.377726  2021-01-21  POINT (13.37773 52.48368)   \n",
       "68175     142681  52.483624  13.377775  2021-01-21  POINT (13.37777 52.48362)   \n",
       "68176     142681  52.483604  13.377489  2021-01-21  POINT (13.37749 52.48360)   \n",
       "68177     142681  52.483606  13.377411  2021-01-21  POINT (13.37741 52.48361)   \n",
       "68178     142681  52.483770  13.377451  2021-01-21  POINT (13.37745 52.48377)   \n",
       "\n",
       "       index_right   store_id store_name  \n",
       "68174          155  place_156       Rewe  \n",
       "68175          155  place_156       Rewe  \n",
       "68176          155  place_156       Rewe  \n",
       "68177          155  place_156       Rewe  \n",
       "68178          155  place_156       Rewe  "
      ]
     },
     "execution_count": 30,
     "metadata": {},
     "output_type": "execute_result"
    }
   ],
   "source": [
    "signals_stores_gdf.tail()"
   ]
  },
  {
   "cell_type": "code",
   "execution_count": 31,
   "metadata": {},
   "outputs": [
    {
     "data": {
      "text/plain": [
       "geopandas.geodataframe.GeoDataFrame"
      ]
     },
     "execution_count": 31,
     "metadata": {},
     "output_type": "execute_result"
    }
   ],
   "source": [
    "type(signals_stores_gdf)"
   ]
  },
  {
   "cell_type": "markdown",
   "metadata": {},
   "source": [
    "### users and user affinities"
   ]
  },
  {
   "cell_type": "markdown",
   "metadata": {},
   "source": [
    "**users**"
   ]
  },
  {
   "cell_type": "markdown",
   "metadata": {},
   "source": [
    "For an inner join between signals_stores_gdf and user affinities I only need the affinity of those users who are in the signals_stores_gdf geopandas dataframe and not all the unique user affinities."
   ]
  },
  {
   "cell_type": "code",
   "execution_count": 32,
   "metadata": {},
   "outputs": [],
   "source": [
    "# create unique users by dropping each duplicated device_id from the signals_stores_gdf\n",
    "users = signals_stores_gdf[[\"device_id\"]].drop_duplicates(subset=[\"device_id\"]).reset_index(drop=True)"
   ]
  },
  {
   "cell_type": "code",
   "execution_count": 33,
   "metadata": {},
   "outputs": [
    {
     "data": {
      "text/html": [
       "<div>\n",
       "<style scoped>\n",
       "    .dataframe tbody tr th:only-of-type {\n",
       "        vertical-align: middle;\n",
       "    }\n",
       "\n",
       "    .dataframe tbody tr th {\n",
       "        vertical-align: top;\n",
       "    }\n",
       "\n",
       "    .dataframe thead th {\n",
       "        text-align: right;\n",
       "    }\n",
       "</style>\n",
       "<table border=\"1\" class=\"dataframe\">\n",
       "  <thead>\n",
       "    <tr style=\"text-align: right;\">\n",
       "      <th></th>\n",
       "      <th>device_id</th>\n",
       "    </tr>\n",
       "  </thead>\n",
       "  <tbody>\n",
       "    <tr>\n",
       "      <th>7559</th>\n",
       "      <td>41159</td>\n",
       "    </tr>\n",
       "    <tr>\n",
       "      <th>7560</th>\n",
       "      <td>46906</td>\n",
       "    </tr>\n",
       "    <tr>\n",
       "      <th>7561</th>\n",
       "      <td>129883</td>\n",
       "    </tr>\n",
       "    <tr>\n",
       "      <th>7562</th>\n",
       "      <td>47230</td>\n",
       "    </tr>\n",
       "    <tr>\n",
       "      <th>7563</th>\n",
       "      <td>45914</td>\n",
       "    </tr>\n",
       "  </tbody>\n",
       "</table>\n",
       "</div>"
      ],
      "text/plain": [
       "      device_id\n",
       "7559      41159\n",
       "7560      46906\n",
       "7561     129883\n",
       "7562      47230\n",
       "7563      45914"
      ]
     },
     "execution_count": 33,
     "metadata": {},
     "output_type": "execute_result"
    }
   ],
   "source": [
    "users.tail()"
   ]
  },
  {
   "cell_type": "code",
   "execution_count": 34,
   "metadata": {},
   "outputs": [],
   "source": [
    "# sort by device_id ascending\n",
    "users = users.sort_values(by=[\"device_id\"]).reset_index(drop=True)"
   ]
  },
  {
   "cell_type": "code",
   "execution_count": 35,
   "metadata": {},
   "outputs": [
    {
     "data": {
      "text/plain": [
       "(7564, 1)"
      ]
     },
     "execution_count": 35,
     "metadata": {},
     "output_type": "execute_result"
    }
   ],
   "source": [
    "users.shape"
   ]
  },
  {
   "cell_type": "code",
   "execution_count": 36,
   "metadata": {},
   "outputs": [
    {
     "data": {
      "text/html": [
       "<div>\n",
       "<style scoped>\n",
       "    .dataframe tbody tr th:only-of-type {\n",
       "        vertical-align: middle;\n",
       "    }\n",
       "\n",
       "    .dataframe tbody tr th {\n",
       "        vertical-align: top;\n",
       "    }\n",
       "\n",
       "    .dataframe thead th {\n",
       "        text-align: right;\n",
       "    }\n",
       "</style>\n",
       "<table border=\"1\" class=\"dataframe\">\n",
       "  <thead>\n",
       "    <tr style=\"text-align: right;\">\n",
       "      <th></th>\n",
       "      <th>device_id</th>\n",
       "    </tr>\n",
       "  </thead>\n",
       "  <tbody>\n",
       "    <tr>\n",
       "      <th>0</th>\n",
       "      <td>2</td>\n",
       "    </tr>\n",
       "    <tr>\n",
       "      <th>1</th>\n",
       "      <td>5</td>\n",
       "    </tr>\n",
       "    <tr>\n",
       "      <th>2</th>\n",
       "      <td>8</td>\n",
       "    </tr>\n",
       "    <tr>\n",
       "      <th>3</th>\n",
       "      <td>16</td>\n",
       "    </tr>\n",
       "    <tr>\n",
       "      <th>4</th>\n",
       "      <td>29</td>\n",
       "    </tr>\n",
       "  </tbody>\n",
       "</table>\n",
       "</div>"
      ],
      "text/plain": [
       "   device_id\n",
       "0          2\n",
       "1          5\n",
       "2          8\n",
       "3         16\n",
       "4         29"
      ]
     },
     "execution_count": 36,
     "metadata": {},
     "output_type": "execute_result"
    }
   ],
   "source": [
    "users.head()"
   ]
  },
  {
   "cell_type": "code",
   "execution_count": 37,
   "metadata": {},
   "outputs": [
    {
     "data": {
      "text/html": [
       "<div>\n",
       "<style scoped>\n",
       "    .dataframe tbody tr th:only-of-type {\n",
       "        vertical-align: middle;\n",
       "    }\n",
       "\n",
       "    .dataframe tbody tr th {\n",
       "        vertical-align: top;\n",
       "    }\n",
       "\n",
       "    .dataframe thead th {\n",
       "        text-align: right;\n",
       "    }\n",
       "</style>\n",
       "<table border=\"1\" class=\"dataframe\">\n",
       "  <thead>\n",
       "    <tr style=\"text-align: right;\">\n",
       "      <th></th>\n",
       "      <th>device_id</th>\n",
       "    </tr>\n",
       "  </thead>\n",
       "  <tbody>\n",
       "    <tr>\n",
       "      <th>7559</th>\n",
       "      <td>172082</td>\n",
       "    </tr>\n",
       "    <tr>\n",
       "      <th>7560</th>\n",
       "      <td>172278</td>\n",
       "    </tr>\n",
       "    <tr>\n",
       "      <th>7561</th>\n",
       "      <td>172321</td>\n",
       "    </tr>\n",
       "    <tr>\n",
       "      <th>7562</th>\n",
       "      <td>172428</td>\n",
       "    </tr>\n",
       "    <tr>\n",
       "      <th>7563</th>\n",
       "      <td>173974</td>\n",
       "    </tr>\n",
       "  </tbody>\n",
       "</table>\n",
       "</div>"
      ],
      "text/plain": [
       "      device_id\n",
       "7559     172082\n",
       "7560     172278\n",
       "7561     172321\n",
       "7562     172428\n",
       "7563     173974"
      ]
     },
     "execution_count": 37,
     "metadata": {},
     "output_type": "execute_result"
    }
   ],
   "source": [
    "users.tail()"
   ]
  },
  {
   "cell_type": "markdown",
   "metadata": {},
   "source": [
    "**user affinities**"
   ]
  },
  {
   "cell_type": "code",
   "execution_count": 38,
   "metadata": {},
   "outputs": [],
   "source": [
    "# list the files in the user_affinities folder\n",
    "path = os.getcwd()\n",
    "# path = \"/Users/robertbozsik/techtest/adsquare/assignment_data/affinities\"\n",
    "path = f\"{str(Path(path).parents[1])}/assignment_data/affinities\"\n",
    "file_names = os.listdir(path)\n",
    "file_names = sorted(file_names)\n",
    "# file_names"
   ]
  },
  {
   "cell_type": "code",
   "execution_count": 39,
   "metadata": {},
   "outputs": [],
   "source": [
    "# add .csv after the file names (it should be run only once)\n",
    "if \".csv\" not in file_names[0]:\n",
    "    for index, file_name in enumerate(file_names):\n",
    "        os.rename(os.path.join(path, file_name), os.path.join(path, \"\".join([file_name, \".csv\"])))"
   ]
  },
  {
   "cell_type": "code",
   "execution_count": 40,
   "metadata": {},
   "outputs": [],
   "source": [
    "# create a dictionary \"user_affinities\", key: value -> names-of-the-affinity: [lists-of-the-affinity-csv]\n",
    "def list_from_affinities(aff_name: str) -> list:\n",
    "    \"\"\"Return a list created from the given user_affinity csv file\"\"\"\n",
    "    aff_name = pd.read_csv(f\"../../assignment_data/affinities/{aff_name}.csv\", header=None, names=[aff_name])\n",
    "    aff_name = list(aff_name.iloc[:, 0]) # all rows, first column\n",
    "    return aff_name\n",
    "\n",
    "user_affinities = {}\n",
    "\n",
    "for file_name in file_names:\n",
    "    name = file_name.split(\".\")[0]\n",
    "    user_affinities[name] = list_from_affinities(name)"
   ]
  },
  {
   "cell_type": "code",
   "execution_count": 41,
   "metadata": {},
   "outputs": [
    {
     "data": {
      "text/plain": [
       "dict_keys(['addidas', 'apple', 'bmw', 'employed', 'female', 'h_&_m', 'high_income', 'honda', 'job_seeking', 'low_income', 'male', 'mercedes-benz', 'middle_income', 'retired', 'student', 'tommy_helfinger'])"
      ]
     },
     "execution_count": 41,
     "metadata": {},
     "output_type": "execute_result"
    }
   ],
   "source": [
    "user_affinities.keys()"
   ]
  },
  {
   "cell_type": "code",
   "execution_count": 42,
   "metadata": {},
   "outputs": [],
   "source": [
    "# len(user_affinities[\"addidas\"])"
   ]
  },
  {
   "cell_type": "code",
   "execution_count": 43,
   "metadata": {},
   "outputs": [],
   "source": [
    "# len(user_affinities[\"low_income\"])"
   ]
  },
  {
   "cell_type": "code",
   "execution_count": 44,
   "metadata": {},
   "outputs": [],
   "source": [
    "# len(user_affinities[\"retired\"])"
   ]
  },
  {
   "cell_type": "markdown",
   "metadata": {},
   "source": [
    "**add user_affinities to users**"
   ]
  },
  {
   "cell_type": "code",
   "execution_count": 45,
   "metadata": {},
   "outputs": [],
   "source": [
    "# try it out with the affinity \"addidas\"\n",
    "users[\"addidas\"] = np.where(users[\"device_id\"].isin(user_affinities[\"addidas\"]), 1, 0)"
   ]
  },
  {
   "cell_type": "code",
   "execution_count": 46,
   "metadata": {},
   "outputs": [],
   "source": [
    "# users[\"addidas\"].value_counts()"
   ]
  },
  {
   "cell_type": "code",
   "execution_count": 47,
   "metadata": {},
   "outputs": [],
   "source": [
    "for index, key in enumerate(user_affinities.keys()):\n",
    "    if index > 0: # the column \"addidas\" has already been created\n",
    "        users[key] = np.where(users[\"device_id\"].isin(user_affinities[key]), 1, 0)"
   ]
  },
  {
   "cell_type": "code",
   "execution_count": 48,
   "metadata": {},
   "outputs": [
    {
     "data": {
      "text/plain": [
       "(7564, 17)"
      ]
     },
     "execution_count": 48,
     "metadata": {},
     "output_type": "execute_result"
    }
   ],
   "source": [
    "users.shape"
   ]
  },
  {
   "cell_type": "code",
   "execution_count": 49,
   "metadata": {},
   "outputs": [
    {
     "data": {
      "text/html": [
       "<div>\n",
       "<style scoped>\n",
       "    .dataframe tbody tr th:only-of-type {\n",
       "        vertical-align: middle;\n",
       "    }\n",
       "\n",
       "    .dataframe tbody tr th {\n",
       "        vertical-align: top;\n",
       "    }\n",
       "\n",
       "    .dataframe thead th {\n",
       "        text-align: right;\n",
       "    }\n",
       "</style>\n",
       "<table border=\"1\" class=\"dataframe\">\n",
       "  <thead>\n",
       "    <tr style=\"text-align: right;\">\n",
       "      <th></th>\n",
       "      <th>device_id</th>\n",
       "      <th>addidas</th>\n",
       "      <th>apple</th>\n",
       "      <th>bmw</th>\n",
       "      <th>employed</th>\n",
       "      <th>female</th>\n",
       "      <th>h_&amp;_m</th>\n",
       "      <th>high_income</th>\n",
       "      <th>honda</th>\n",
       "      <th>job_seeking</th>\n",
       "      <th>low_income</th>\n",
       "      <th>male</th>\n",
       "      <th>mercedes-benz</th>\n",
       "      <th>middle_income</th>\n",
       "      <th>retired</th>\n",
       "      <th>student</th>\n",
       "      <th>tommy_helfinger</th>\n",
       "    </tr>\n",
       "  </thead>\n",
       "  <tbody>\n",
       "    <tr>\n",
       "      <th>0</th>\n",
       "      <td>2</td>\n",
       "      <td>0</td>\n",
       "      <td>0</td>\n",
       "      <td>0</td>\n",
       "      <td>0</td>\n",
       "      <td>0</td>\n",
       "      <td>0</td>\n",
       "      <td>0</td>\n",
       "      <td>1</td>\n",
       "      <td>0</td>\n",
       "      <td>0</td>\n",
       "      <td>1</td>\n",
       "      <td>0</td>\n",
       "      <td>1</td>\n",
       "      <td>0</td>\n",
       "      <td>0</td>\n",
       "      <td>0</td>\n",
       "    </tr>\n",
       "    <tr>\n",
       "      <th>1</th>\n",
       "      <td>5</td>\n",
       "      <td>0</td>\n",
       "      <td>0</td>\n",
       "      <td>0</td>\n",
       "      <td>0</td>\n",
       "      <td>0</td>\n",
       "      <td>0</td>\n",
       "      <td>0</td>\n",
       "      <td>1</td>\n",
       "      <td>0</td>\n",
       "      <td>1</td>\n",
       "      <td>1</td>\n",
       "      <td>0</td>\n",
       "      <td>0</td>\n",
       "      <td>0</td>\n",
       "      <td>0</td>\n",
       "      <td>0</td>\n",
       "    </tr>\n",
       "    <tr>\n",
       "      <th>2</th>\n",
       "      <td>8</td>\n",
       "      <td>0</td>\n",
       "      <td>0</td>\n",
       "      <td>0</td>\n",
       "      <td>0</td>\n",
       "      <td>0</td>\n",
       "      <td>0</td>\n",
       "      <td>0</td>\n",
       "      <td>0</td>\n",
       "      <td>0</td>\n",
       "      <td>0</td>\n",
       "      <td>1</td>\n",
       "      <td>0</td>\n",
       "      <td>1</td>\n",
       "      <td>0</td>\n",
       "      <td>0</td>\n",
       "      <td>0</td>\n",
       "    </tr>\n",
       "    <tr>\n",
       "      <th>3</th>\n",
       "      <td>16</td>\n",
       "      <td>0</td>\n",
       "      <td>0</td>\n",
       "      <td>0</td>\n",
       "      <td>0</td>\n",
       "      <td>0</td>\n",
       "      <td>0</td>\n",
       "      <td>0</td>\n",
       "      <td>0</td>\n",
       "      <td>0</td>\n",
       "      <td>0</td>\n",
       "      <td>1</td>\n",
       "      <td>0</td>\n",
       "      <td>1</td>\n",
       "      <td>0</td>\n",
       "      <td>0</td>\n",
       "      <td>0</td>\n",
       "    </tr>\n",
       "    <tr>\n",
       "      <th>4</th>\n",
       "      <td>29</td>\n",
       "      <td>0</td>\n",
       "      <td>0</td>\n",
       "      <td>0</td>\n",
       "      <td>0</td>\n",
       "      <td>0</td>\n",
       "      <td>0</td>\n",
       "      <td>1</td>\n",
       "      <td>0</td>\n",
       "      <td>0</td>\n",
       "      <td>0</td>\n",
       "      <td>1</td>\n",
       "      <td>0</td>\n",
       "      <td>0</td>\n",
       "      <td>0</td>\n",
       "      <td>0</td>\n",
       "      <td>0</td>\n",
       "    </tr>\n",
       "  </tbody>\n",
       "</table>\n",
       "</div>"
      ],
      "text/plain": [
       "   device_id  addidas  apple  bmw  employed  female  h_&_m  high_income  \\\n",
       "0          2        0      0    0         0       0      0            0   \n",
       "1          5        0      0    0         0       0      0            0   \n",
       "2          8        0      0    0         0       0      0            0   \n",
       "3         16        0      0    0         0       0      0            0   \n",
       "4         29        0      0    0         0       0      0            1   \n",
       "\n",
       "   honda  job_seeking  low_income  male  mercedes-benz  middle_income  \\\n",
       "0      1            0           0     1              0              1   \n",
       "1      1            0           1     1              0              0   \n",
       "2      0            0           0     1              0              1   \n",
       "3      0            0           0     1              0              1   \n",
       "4      0            0           0     1              0              0   \n",
       "\n",
       "   retired  student  tommy_helfinger  \n",
       "0        0        0                0  \n",
       "1        0        0                0  \n",
       "2        0        0                0  \n",
       "3        0        0                0  \n",
       "4        0        0                0  "
      ]
     },
     "execution_count": 49,
     "metadata": {},
     "output_type": "execute_result"
    }
   ],
   "source": [
    "users.head()"
   ]
  },
  {
   "cell_type": "code",
   "execution_count": 50,
   "metadata": {},
   "outputs": [],
   "source": [
    "# save users as csv\n",
    "users.to_csv(\"../out_data_full/users.csv\", index=False)"
   ]
  },
  {
   "cell_type": "markdown",
   "metadata": {},
   "source": [
    "### merge signals_stores_gdf and users (affinities)"
   ]
  },
  {
   "cell_type": "code",
   "execution_count": 51,
   "metadata": {},
   "outputs": [
    {
     "data": {
      "text/plain": [
       "(68179, 8)"
      ]
     },
     "execution_count": 51,
     "metadata": {},
     "output_type": "execute_result"
    }
   ],
   "source": [
    "# merge gps_sig_and_stores and users (affinities)\n",
    "signals_stores_gdf.shape"
   ]
  },
  {
   "cell_type": "code",
   "execution_count": 52,
   "metadata": {},
   "outputs": [
    {
     "data": {
      "text/html": [
       "<div>\n",
       "<style scoped>\n",
       "    .dataframe tbody tr th:only-of-type {\n",
       "        vertical-align: middle;\n",
       "    }\n",
       "\n",
       "    .dataframe tbody tr th {\n",
       "        vertical-align: top;\n",
       "    }\n",
       "\n",
       "    .dataframe thead th {\n",
       "        text-align: right;\n",
       "    }\n",
       "</style>\n",
       "<table border=\"1\" class=\"dataframe\">\n",
       "  <thead>\n",
       "    <tr style=\"text-align: right;\">\n",
       "      <th></th>\n",
       "      <th>device_id</th>\n",
       "      <th>lat</th>\n",
       "      <th>lon</th>\n",
       "      <th>date</th>\n",
       "      <th>geometry</th>\n",
       "      <th>index_right</th>\n",
       "      <th>store_id</th>\n",
       "      <th>store_name</th>\n",
       "    </tr>\n",
       "  </thead>\n",
       "  <tbody>\n",
       "    <tr>\n",
       "      <th>0</th>\n",
       "      <td>2022</td>\n",
       "      <td>52.505726</td>\n",
       "      <td>13.439094</td>\n",
       "      <td>2021-01-01</td>\n",
       "      <td>POINT (13.43909 52.50573)</td>\n",
       "      <td>232</td>\n",
       "      <td>place_233</td>\n",
       "      <td>Mercedes</td>\n",
       "    </tr>\n",
       "    <tr>\n",
       "      <th>1</th>\n",
       "      <td>14375</td>\n",
       "      <td>52.520300</td>\n",
       "      <td>13.386380</td>\n",
       "      <td>2021-01-01</td>\n",
       "      <td>POINT (13.38638 52.52030)</td>\n",
       "      <td>27</td>\n",
       "      <td>place_28</td>\n",
       "      <td>McDonald's</td>\n",
       "    </tr>\n",
       "    <tr>\n",
       "      <th>2</th>\n",
       "      <td>838</td>\n",
       "      <td>52.520299</td>\n",
       "      <td>13.386378</td>\n",
       "      <td>2021-01-01</td>\n",
       "      <td>POINT (13.38638 52.52030)</td>\n",
       "      <td>27</td>\n",
       "      <td>place_28</td>\n",
       "      <td>McDonald's</td>\n",
       "    </tr>\n",
       "    <tr>\n",
       "      <th>3</th>\n",
       "      <td>20940</td>\n",
       "      <td>52.547120</td>\n",
       "      <td>13.468410</td>\n",
       "      <td>2021-01-01</td>\n",
       "      <td>POINT (13.46841 52.54712)</td>\n",
       "      <td>1</td>\n",
       "      <td>place_2</td>\n",
       "      <td>McDonald's</td>\n",
       "    </tr>\n",
       "    <tr>\n",
       "      <th>4</th>\n",
       "      <td>20940</td>\n",
       "      <td>52.547120</td>\n",
       "      <td>13.468410</td>\n",
       "      <td>2021-01-01</td>\n",
       "      <td>POINT (13.46841 52.54712)</td>\n",
       "      <td>1</td>\n",
       "      <td>place_2</td>\n",
       "      <td>McDonald's</td>\n",
       "    </tr>\n",
       "  </tbody>\n",
       "</table>\n",
       "</div>"
      ],
      "text/plain": [
       "   device_id        lat        lon        date                   geometry  \\\n",
       "0       2022  52.505726  13.439094  2021-01-01  POINT (13.43909 52.50573)   \n",
       "1      14375  52.520300  13.386380  2021-01-01  POINT (13.38638 52.52030)   \n",
       "2        838  52.520299  13.386378  2021-01-01  POINT (13.38638 52.52030)   \n",
       "3      20940  52.547120  13.468410  2021-01-01  POINT (13.46841 52.54712)   \n",
       "4      20940  52.547120  13.468410  2021-01-01  POINT (13.46841 52.54712)   \n",
       "\n",
       "   index_right   store_id  store_name  \n",
       "0          232  place_233    Mercedes  \n",
       "1           27   place_28  McDonald's  \n",
       "2           27   place_28  McDonald's  \n",
       "3            1    place_2  McDonald's  \n",
       "4            1    place_2  McDonald's  "
      ]
     },
     "execution_count": 52,
     "metadata": {},
     "output_type": "execute_result"
    }
   ],
   "source": [
    "signals_stores_gdf.head()"
   ]
  },
  {
   "cell_type": "code",
   "execution_count": 53,
   "metadata": {},
   "outputs": [
    {
     "data": {
      "text/plain": [
       "(7564, 17)"
      ]
     },
     "execution_count": 53,
     "metadata": {},
     "output_type": "execute_result"
    }
   ],
   "source": [
    "users.shape"
   ]
  },
  {
   "cell_type": "code",
   "execution_count": 54,
   "metadata": {},
   "outputs": [
    {
     "data": {
      "text/html": [
       "<div>\n",
       "<style scoped>\n",
       "    .dataframe tbody tr th:only-of-type {\n",
       "        vertical-align: middle;\n",
       "    }\n",
       "\n",
       "    .dataframe tbody tr th {\n",
       "        vertical-align: top;\n",
       "    }\n",
       "\n",
       "    .dataframe thead th {\n",
       "        text-align: right;\n",
       "    }\n",
       "</style>\n",
       "<table border=\"1\" class=\"dataframe\">\n",
       "  <thead>\n",
       "    <tr style=\"text-align: right;\">\n",
       "      <th></th>\n",
       "      <th>device_id</th>\n",
       "      <th>addidas</th>\n",
       "      <th>apple</th>\n",
       "      <th>bmw</th>\n",
       "      <th>employed</th>\n",
       "      <th>female</th>\n",
       "      <th>h_&amp;_m</th>\n",
       "      <th>high_income</th>\n",
       "      <th>honda</th>\n",
       "      <th>job_seeking</th>\n",
       "      <th>low_income</th>\n",
       "      <th>male</th>\n",
       "      <th>mercedes-benz</th>\n",
       "      <th>middle_income</th>\n",
       "      <th>retired</th>\n",
       "      <th>student</th>\n",
       "      <th>tommy_helfinger</th>\n",
       "    </tr>\n",
       "  </thead>\n",
       "  <tbody>\n",
       "    <tr>\n",
       "      <th>0</th>\n",
       "      <td>2</td>\n",
       "      <td>0</td>\n",
       "      <td>0</td>\n",
       "      <td>0</td>\n",
       "      <td>0</td>\n",
       "      <td>0</td>\n",
       "      <td>0</td>\n",
       "      <td>0</td>\n",
       "      <td>1</td>\n",
       "      <td>0</td>\n",
       "      <td>0</td>\n",
       "      <td>1</td>\n",
       "      <td>0</td>\n",
       "      <td>1</td>\n",
       "      <td>0</td>\n",
       "      <td>0</td>\n",
       "      <td>0</td>\n",
       "    </tr>\n",
       "    <tr>\n",
       "      <th>1</th>\n",
       "      <td>5</td>\n",
       "      <td>0</td>\n",
       "      <td>0</td>\n",
       "      <td>0</td>\n",
       "      <td>0</td>\n",
       "      <td>0</td>\n",
       "      <td>0</td>\n",
       "      <td>0</td>\n",
       "      <td>1</td>\n",
       "      <td>0</td>\n",
       "      <td>1</td>\n",
       "      <td>1</td>\n",
       "      <td>0</td>\n",
       "      <td>0</td>\n",
       "      <td>0</td>\n",
       "      <td>0</td>\n",
       "      <td>0</td>\n",
       "    </tr>\n",
       "    <tr>\n",
       "      <th>2</th>\n",
       "      <td>8</td>\n",
       "      <td>0</td>\n",
       "      <td>0</td>\n",
       "      <td>0</td>\n",
       "      <td>0</td>\n",
       "      <td>0</td>\n",
       "      <td>0</td>\n",
       "      <td>0</td>\n",
       "      <td>0</td>\n",
       "      <td>0</td>\n",
       "      <td>0</td>\n",
       "      <td>1</td>\n",
       "      <td>0</td>\n",
       "      <td>1</td>\n",
       "      <td>0</td>\n",
       "      <td>0</td>\n",
       "      <td>0</td>\n",
       "    </tr>\n",
       "    <tr>\n",
       "      <th>3</th>\n",
       "      <td>16</td>\n",
       "      <td>0</td>\n",
       "      <td>0</td>\n",
       "      <td>0</td>\n",
       "      <td>0</td>\n",
       "      <td>0</td>\n",
       "      <td>0</td>\n",
       "      <td>0</td>\n",
       "      <td>0</td>\n",
       "      <td>0</td>\n",
       "      <td>0</td>\n",
       "      <td>1</td>\n",
       "      <td>0</td>\n",
       "      <td>1</td>\n",
       "      <td>0</td>\n",
       "      <td>0</td>\n",
       "      <td>0</td>\n",
       "    </tr>\n",
       "    <tr>\n",
       "      <th>4</th>\n",
       "      <td>29</td>\n",
       "      <td>0</td>\n",
       "      <td>0</td>\n",
       "      <td>0</td>\n",
       "      <td>0</td>\n",
       "      <td>0</td>\n",
       "      <td>0</td>\n",
       "      <td>1</td>\n",
       "      <td>0</td>\n",
       "      <td>0</td>\n",
       "      <td>0</td>\n",
       "      <td>1</td>\n",
       "      <td>0</td>\n",
       "      <td>0</td>\n",
       "      <td>0</td>\n",
       "      <td>0</td>\n",
       "      <td>0</td>\n",
       "    </tr>\n",
       "  </tbody>\n",
       "</table>\n",
       "</div>"
      ],
      "text/plain": [
       "   device_id  addidas  apple  bmw  employed  female  h_&_m  high_income  \\\n",
       "0          2        0      0    0         0       0      0            0   \n",
       "1          5        0      0    0         0       0      0            0   \n",
       "2          8        0      0    0         0       0      0            0   \n",
       "3         16        0      0    0         0       0      0            0   \n",
       "4         29        0      0    0         0       0      0            1   \n",
       "\n",
       "   honda  job_seeking  low_income  male  mercedes-benz  middle_income  \\\n",
       "0      1            0           0     1              0              1   \n",
       "1      1            0           1     1              0              0   \n",
       "2      0            0           0     1              0              1   \n",
       "3      0            0           0     1              0              1   \n",
       "4      0            0           0     1              0              0   \n",
       "\n",
       "   retired  student  tommy_helfinger  \n",
       "0        0        0                0  \n",
       "1        0        0                0  \n",
       "2        0        0                0  \n",
       "3        0        0                0  \n",
       "4        0        0                0  "
      ]
     },
     "execution_count": 54,
     "metadata": {},
     "output_type": "execute_result"
    }
   ],
   "source": [
    "users.head()"
   ]
  },
  {
   "cell_type": "code",
   "execution_count": 55,
   "metadata": {},
   "outputs": [
    {
     "name": "stdout",
     "output_type": "stream",
     "text": [
      "Merging signals_stores_gdf and users (affinities)...\n",
      "The above task took 0.0 minute(s).\n"
     ]
    }
   ],
   "source": [
    "# merge gps_sig_and_stores and users (affinities)\n",
    "start = time.time()\n",
    "print(\"Merging signals_stores_gdf and users (affinities)...\")\n",
    "\n",
    "signals_stores_useraff = signals_stores_gdf.merge(users, how=\"inner\", on=\"device_id\")\n",
    "\n",
    "end = time.time()\n",
    "dt = end - start\n",
    "print(f\"The above task took {round(dt/60, 2)} minute(s).\")"
   ]
  },
  {
   "cell_type": "code",
   "execution_count": 56,
   "metadata": {},
   "outputs": [
    {
     "data": {
      "text/plain": [
       "(68179, 24)"
      ]
     },
     "execution_count": 56,
     "metadata": {},
     "output_type": "execute_result"
    }
   ],
   "source": [
    "signals_stores_useraff.shape"
   ]
  },
  {
   "cell_type": "code",
   "execution_count": 57,
   "metadata": {},
   "outputs": [
    {
     "data": {
      "text/html": [
       "<div>\n",
       "<style scoped>\n",
       "    .dataframe tbody tr th:only-of-type {\n",
       "        vertical-align: middle;\n",
       "    }\n",
       "\n",
       "    .dataframe tbody tr th {\n",
       "        vertical-align: top;\n",
       "    }\n",
       "\n",
       "    .dataframe thead th {\n",
       "        text-align: right;\n",
       "    }\n",
       "</style>\n",
       "<table border=\"1\" class=\"dataframe\">\n",
       "  <thead>\n",
       "    <tr style=\"text-align: right;\">\n",
       "      <th></th>\n",
       "      <th>device_id</th>\n",
       "      <th>lat</th>\n",
       "      <th>lon</th>\n",
       "      <th>date</th>\n",
       "      <th>geometry</th>\n",
       "      <th>index_right</th>\n",
       "      <th>store_id</th>\n",
       "      <th>store_name</th>\n",
       "      <th>addidas</th>\n",
       "      <th>apple</th>\n",
       "      <th>bmw</th>\n",
       "      <th>employed</th>\n",
       "      <th>female</th>\n",
       "      <th>h_&amp;_m</th>\n",
       "      <th>high_income</th>\n",
       "      <th>honda</th>\n",
       "      <th>job_seeking</th>\n",
       "      <th>low_income</th>\n",
       "      <th>male</th>\n",
       "      <th>mercedes-benz</th>\n",
       "      <th>middle_income</th>\n",
       "      <th>retired</th>\n",
       "      <th>student</th>\n",
       "      <th>tommy_helfinger</th>\n",
       "    </tr>\n",
       "  </thead>\n",
       "  <tbody>\n",
       "    <tr>\n",
       "      <th>0</th>\n",
       "      <td>2022</td>\n",
       "      <td>52.505726</td>\n",
       "      <td>13.439094</td>\n",
       "      <td>2021-01-01</td>\n",
       "      <td>POINT (13.43909 52.50573)</td>\n",
       "      <td>232</td>\n",
       "      <td>place_233</td>\n",
       "      <td>Mercedes</td>\n",
       "      <td>0</td>\n",
       "      <td>0</td>\n",
       "      <td>0</td>\n",
       "      <td>0</td>\n",
       "      <td>0</td>\n",
       "      <td>0</td>\n",
       "      <td>0</td>\n",
       "      <td>0</td>\n",
       "      <td>0</td>\n",
       "      <td>0</td>\n",
       "      <td>1</td>\n",
       "      <td>0</td>\n",
       "      <td>1</td>\n",
       "      <td>0</td>\n",
       "      <td>0</td>\n",
       "      <td>1</td>\n",
       "    </tr>\n",
       "    <tr>\n",
       "      <th>1</th>\n",
       "      <td>14375</td>\n",
       "      <td>52.520300</td>\n",
       "      <td>13.386380</td>\n",
       "      <td>2021-01-01</td>\n",
       "      <td>POINT (13.38638 52.52030)</td>\n",
       "      <td>27</td>\n",
       "      <td>place_28</td>\n",
       "      <td>McDonald's</td>\n",
       "      <td>0</td>\n",
       "      <td>0</td>\n",
       "      <td>0</td>\n",
       "      <td>0</td>\n",
       "      <td>0</td>\n",
       "      <td>0</td>\n",
       "      <td>0</td>\n",
       "      <td>0</td>\n",
       "      <td>0</td>\n",
       "      <td>1</td>\n",
       "      <td>1</td>\n",
       "      <td>0</td>\n",
       "      <td>0</td>\n",
       "      <td>0</td>\n",
       "      <td>0</td>\n",
       "      <td>0</td>\n",
       "    </tr>\n",
       "    <tr>\n",
       "      <th>2</th>\n",
       "      <td>14375</td>\n",
       "      <td>52.520050</td>\n",
       "      <td>13.388070</td>\n",
       "      <td>2021-01-16</td>\n",
       "      <td>POINT (13.38807 52.52005)</td>\n",
       "      <td>28</td>\n",
       "      <td>place_29</td>\n",
       "      <td>McDonald's</td>\n",
       "      <td>0</td>\n",
       "      <td>0</td>\n",
       "      <td>0</td>\n",
       "      <td>0</td>\n",
       "      <td>0</td>\n",
       "      <td>0</td>\n",
       "      <td>0</td>\n",
       "      <td>0</td>\n",
       "      <td>0</td>\n",
       "      <td>1</td>\n",
       "      <td>1</td>\n",
       "      <td>0</td>\n",
       "      <td>0</td>\n",
       "      <td>0</td>\n",
       "      <td>0</td>\n",
       "      <td>0</td>\n",
       "    </tr>\n",
       "    <tr>\n",
       "      <th>3</th>\n",
       "      <td>14375</td>\n",
       "      <td>52.431890</td>\n",
       "      <td>13.547070</td>\n",
       "      <td>2021-01-18</td>\n",
       "      <td>POINT (13.54707 52.43189)</td>\n",
       "      <td>24</td>\n",
       "      <td>place_25</td>\n",
       "      <td>McDonald's</td>\n",
       "      <td>0</td>\n",
       "      <td>0</td>\n",
       "      <td>0</td>\n",
       "      <td>0</td>\n",
       "      <td>0</td>\n",
       "      <td>0</td>\n",
       "      <td>0</td>\n",
       "      <td>0</td>\n",
       "      <td>0</td>\n",
       "      <td>1</td>\n",
       "      <td>1</td>\n",
       "      <td>0</td>\n",
       "      <td>0</td>\n",
       "      <td>0</td>\n",
       "      <td>0</td>\n",
       "      <td>0</td>\n",
       "    </tr>\n",
       "    <tr>\n",
       "      <th>4</th>\n",
       "      <td>838</td>\n",
       "      <td>52.520299</td>\n",
       "      <td>13.386378</td>\n",
       "      <td>2021-01-01</td>\n",
       "      <td>POINT (13.38638 52.52030)</td>\n",
       "      <td>27</td>\n",
       "      <td>place_28</td>\n",
       "      <td>McDonald's</td>\n",
       "      <td>0</td>\n",
       "      <td>0</td>\n",
       "      <td>0</td>\n",
       "      <td>0</td>\n",
       "      <td>0</td>\n",
       "      <td>0</td>\n",
       "      <td>0</td>\n",
       "      <td>0</td>\n",
       "      <td>0</td>\n",
       "      <td>0</td>\n",
       "      <td>1</td>\n",
       "      <td>0</td>\n",
       "      <td>1</td>\n",
       "      <td>0</td>\n",
       "      <td>0</td>\n",
       "      <td>0</td>\n",
       "    </tr>\n",
       "  </tbody>\n",
       "</table>\n",
       "</div>"
      ],
      "text/plain": [
       "   device_id        lat        lon        date                   geometry  \\\n",
       "0       2022  52.505726  13.439094  2021-01-01  POINT (13.43909 52.50573)   \n",
       "1      14375  52.520300  13.386380  2021-01-01  POINT (13.38638 52.52030)   \n",
       "2      14375  52.520050  13.388070  2021-01-16  POINT (13.38807 52.52005)   \n",
       "3      14375  52.431890  13.547070  2021-01-18  POINT (13.54707 52.43189)   \n",
       "4        838  52.520299  13.386378  2021-01-01  POINT (13.38638 52.52030)   \n",
       "\n",
       "   index_right   store_id  store_name  addidas  apple  bmw  employed  female  \\\n",
       "0          232  place_233    Mercedes        0      0    0         0       0   \n",
       "1           27   place_28  McDonald's        0      0    0         0       0   \n",
       "2           28   place_29  McDonald's        0      0    0         0       0   \n",
       "3           24   place_25  McDonald's        0      0    0         0       0   \n",
       "4           27   place_28  McDonald's        0      0    0         0       0   \n",
       "\n",
       "   h_&_m  high_income  honda  job_seeking  low_income  male  mercedes-benz  \\\n",
       "0      0            0      0            0           0     1              0   \n",
       "1      0            0      0            0           1     1              0   \n",
       "2      0            0      0            0           1     1              0   \n",
       "3      0            0      0            0           1     1              0   \n",
       "4      0            0      0            0           0     1              0   \n",
       "\n",
       "   middle_income  retired  student  tommy_helfinger  \n",
       "0              1        0        0                1  \n",
       "1              0        0        0                0  \n",
       "2              0        0        0                0  \n",
       "3              0        0        0                0  \n",
       "4              1        0        0                0  "
      ]
     },
     "execution_count": 57,
     "metadata": {},
     "output_type": "execute_result"
    }
   ],
   "source": [
    "signals_stores_useraff.head()"
   ]
  },
  {
   "cell_type": "markdown",
   "metadata": {},
   "source": [
    "### create users_in_stores for visualizing on a map"
   ]
  },
  {
   "cell_type": "code",
   "execution_count": 58,
   "metadata": {},
   "outputs": [],
   "source": [
    "users_in_stores = signals_stores_useraff[[\"device_id\", \"lat\", \"lon\", \"date\", \"store_id\", \"store_name\"]]"
   ]
  },
  {
   "cell_type": "code",
   "execution_count": 59,
   "metadata": {},
   "outputs": [
    {
     "data": {
      "text/html": [
       "<div>\n",
       "<style scoped>\n",
       "    .dataframe tbody tr th:only-of-type {\n",
       "        vertical-align: middle;\n",
       "    }\n",
       "\n",
       "    .dataframe tbody tr th {\n",
       "        vertical-align: top;\n",
       "    }\n",
       "\n",
       "    .dataframe thead th {\n",
       "        text-align: right;\n",
       "    }\n",
       "</style>\n",
       "<table border=\"1\" class=\"dataframe\">\n",
       "  <thead>\n",
       "    <tr style=\"text-align: right;\">\n",
       "      <th></th>\n",
       "      <th>device_id</th>\n",
       "      <th>lat</th>\n",
       "      <th>lon</th>\n",
       "      <th>date</th>\n",
       "      <th>store_id</th>\n",
       "      <th>store_name</th>\n",
       "    </tr>\n",
       "  </thead>\n",
       "  <tbody>\n",
       "    <tr>\n",
       "      <th>0</th>\n",
       "      <td>2022</td>\n",
       "      <td>52.505726</td>\n",
       "      <td>13.439094</td>\n",
       "      <td>2021-01-01</td>\n",
       "      <td>place_233</td>\n",
       "      <td>Mercedes</td>\n",
       "    </tr>\n",
       "    <tr>\n",
       "      <th>1</th>\n",
       "      <td>14375</td>\n",
       "      <td>52.520300</td>\n",
       "      <td>13.386380</td>\n",
       "      <td>2021-01-01</td>\n",
       "      <td>place_28</td>\n",
       "      <td>McDonald's</td>\n",
       "    </tr>\n",
       "    <tr>\n",
       "      <th>2</th>\n",
       "      <td>14375</td>\n",
       "      <td>52.520050</td>\n",
       "      <td>13.388070</td>\n",
       "      <td>2021-01-16</td>\n",
       "      <td>place_29</td>\n",
       "      <td>McDonald's</td>\n",
       "    </tr>\n",
       "    <tr>\n",
       "      <th>3</th>\n",
       "      <td>14375</td>\n",
       "      <td>52.431890</td>\n",
       "      <td>13.547070</td>\n",
       "      <td>2021-01-18</td>\n",
       "      <td>place_25</td>\n",
       "      <td>McDonald's</td>\n",
       "    </tr>\n",
       "    <tr>\n",
       "      <th>4</th>\n",
       "      <td>838</td>\n",
       "      <td>52.520299</td>\n",
       "      <td>13.386378</td>\n",
       "      <td>2021-01-01</td>\n",
       "      <td>place_28</td>\n",
       "      <td>McDonald's</td>\n",
       "    </tr>\n",
       "  </tbody>\n",
       "</table>\n",
       "</div>"
      ],
      "text/plain": [
       "   device_id        lat        lon        date   store_id  store_name\n",
       "0       2022  52.505726  13.439094  2021-01-01  place_233    Mercedes\n",
       "1      14375  52.520300  13.386380  2021-01-01   place_28  McDonald's\n",
       "2      14375  52.520050  13.388070  2021-01-16   place_29  McDonald's\n",
       "3      14375  52.431890  13.547070  2021-01-18   place_25  McDonald's\n",
       "4        838  52.520299  13.386378  2021-01-01   place_28  McDonald's"
      ]
     },
     "execution_count": 59,
     "metadata": {},
     "output_type": "execute_result"
    }
   ],
   "source": [
    "users_in_stores.head()"
   ]
  },
  {
   "cell_type": "code",
   "execution_count": 60,
   "metadata": {},
   "outputs": [],
   "source": [
    "users_in_stores.to_csv(\"../out_data_full/users_in_stores.csv\", index=False)"
   ]
  },
  {
   "cell_type": "markdown",
   "metadata": {},
   "source": [
    "## 1.b Group the resolved visits by date (yyyy-mm-dd), store_name, and store_id."
   ]
  },
  {
   "cell_type": "markdown",
   "metadata": {},
   "source": [
    "## 1.c For each store_id/store_name/date provide the following metric."
   ]
  },
  {
   "cell_type": "markdown",
   "metadata": {},
   "source": [
    "### 1.c.i A total number of GPS signals per place_id/date."
   ]
  },
  {
   "cell_type": "markdown",
   "metadata": {},
   "source": [
    "### 1.c.ii A total number of unique visitors (i.e. device ids)."
   ]
  },
  {
   "cell_type": "code",
   "execution_count": 61,
   "metadata": {},
   "outputs": [],
   "source": [
    "# create total number of GPS signals per place_id/date and total number of unique visitors\n",
    "ssu_total_and_unique = (signals_stores_useraff\n",
    "                        .groupby(by=[\"date\", \"store_name\", \"store_id\"])\n",
    "                        .agg({\"lat\": \"count\", \"device_id\": \"nunique\"})\n",
    "                        .rename(columns={\"lat\": \"total_signals\", \"device_id\": \"unique_visits\"})\n",
    "                        .reset_index())"
   ]
  },
  {
   "cell_type": "code",
   "execution_count": 62,
   "metadata": {},
   "outputs": [
    {
     "data": {
      "text/plain": [
       "(3107, 5)"
      ]
     },
     "execution_count": 62,
     "metadata": {},
     "output_type": "execute_result"
    }
   ],
   "source": [
    "ssu_total_and_unique.shape"
   ]
  },
  {
   "cell_type": "code",
   "execution_count": 63,
   "metadata": {},
   "outputs": [
    {
     "data": {
      "text/html": [
       "<div>\n",
       "<style scoped>\n",
       "    .dataframe tbody tr th:only-of-type {\n",
       "        vertical-align: middle;\n",
       "    }\n",
       "\n",
       "    .dataframe tbody tr th {\n",
       "        vertical-align: top;\n",
       "    }\n",
       "\n",
       "    .dataframe thead th {\n",
       "        text-align: right;\n",
       "    }\n",
       "</style>\n",
       "<table border=\"1\" class=\"dataframe\">\n",
       "  <thead>\n",
       "    <tr style=\"text-align: right;\">\n",
       "      <th></th>\n",
       "      <th>date</th>\n",
       "      <th>store_name</th>\n",
       "      <th>store_id</th>\n",
       "      <th>total_signals</th>\n",
       "      <th>unique_visits</th>\n",
       "    </tr>\n",
       "  </thead>\n",
       "  <tbody>\n",
       "    <tr>\n",
       "      <th>0</th>\n",
       "      <td>2021-01-01</td>\n",
       "      <td>Aldi</td>\n",
       "      <td>place_135</td>\n",
       "      <td>2</td>\n",
       "      <td>1</td>\n",
       "    </tr>\n",
       "    <tr>\n",
       "      <th>1</th>\n",
       "      <td>2021-01-01</td>\n",
       "      <td>Aldi</td>\n",
       "      <td>place_64</td>\n",
       "      <td>5</td>\n",
       "      <td>3</td>\n",
       "    </tr>\n",
       "    <tr>\n",
       "      <th>2</th>\n",
       "      <td>2021-01-01</td>\n",
       "      <td>Aldi</td>\n",
       "      <td>place_72</td>\n",
       "      <td>5</td>\n",
       "      <td>1</td>\n",
       "    </tr>\n",
       "    <tr>\n",
       "      <th>3</th>\n",
       "      <td>2021-01-01</td>\n",
       "      <td>Aldi</td>\n",
       "      <td>place_79</td>\n",
       "      <td>10</td>\n",
       "      <td>2</td>\n",
       "    </tr>\n",
       "    <tr>\n",
       "      <th>4</th>\n",
       "      <td>2021-01-01</td>\n",
       "      <td>Aldi</td>\n",
       "      <td>place_84</td>\n",
       "      <td>1</td>\n",
       "      <td>1</td>\n",
       "    </tr>\n",
       "  </tbody>\n",
       "</table>\n",
       "</div>"
      ],
      "text/plain": [
       "         date store_name   store_id  total_signals  unique_visits\n",
       "0  2021-01-01       Aldi  place_135              2              1\n",
       "1  2021-01-01       Aldi   place_64              5              3\n",
       "2  2021-01-01       Aldi   place_72              5              1\n",
       "3  2021-01-01       Aldi   place_79             10              2\n",
       "4  2021-01-01       Aldi   place_84              1              1"
      ]
     },
     "execution_count": 63,
     "metadata": {},
     "output_type": "execute_result"
    }
   ],
   "source": [
    "ssu_total_and_unique.head()"
   ]
  },
  {
   "cell_type": "code",
   "execution_count": 64,
   "metadata": {},
   "outputs": [
    {
     "data": {
      "text/html": [
       "<div>\n",
       "<style scoped>\n",
       "    .dataframe tbody tr th:only-of-type {\n",
       "        vertical-align: middle;\n",
       "    }\n",
       "\n",
       "    .dataframe tbody tr th {\n",
       "        vertical-align: top;\n",
       "    }\n",
       "\n",
       "    .dataframe thead th {\n",
       "        text-align: right;\n",
       "    }\n",
       "</style>\n",
       "<table border=\"1\" class=\"dataframe\">\n",
       "  <thead>\n",
       "    <tr style=\"text-align: right;\">\n",
       "      <th></th>\n",
       "      <th>date</th>\n",
       "      <th>store_name</th>\n",
       "      <th>store_id</th>\n",
       "      <th>total_signals</th>\n",
       "      <th>unique_visits</th>\n",
       "    </tr>\n",
       "  </thead>\n",
       "  <tbody>\n",
       "    <tr>\n",
       "      <th>3102</th>\n",
       "      <td>2021-01-21</td>\n",
       "      <td>Rewe</td>\n",
       "      <td>place_211</td>\n",
       "      <td>17</td>\n",
       "      <td>4</td>\n",
       "    </tr>\n",
       "    <tr>\n",
       "      <th>3103</th>\n",
       "      <td>2021-01-21</td>\n",
       "      <td>Rewe</td>\n",
       "      <td>place_212</td>\n",
       "      <td>10</td>\n",
       "      <td>4</td>\n",
       "    </tr>\n",
       "    <tr>\n",
       "      <th>3104</th>\n",
       "      <td>2021-01-21</td>\n",
       "      <td>Sparkasse</td>\n",
       "      <td>place_246</td>\n",
       "      <td>4</td>\n",
       "      <td>1</td>\n",
       "    </tr>\n",
       "    <tr>\n",
       "      <th>3105</th>\n",
       "      <td>2021-01-21</td>\n",
       "      <td>Subway</td>\n",
       "      <td>place_52</td>\n",
       "      <td>6</td>\n",
       "      <td>1</td>\n",
       "    </tr>\n",
       "    <tr>\n",
       "      <th>3106</th>\n",
       "      <td>2021-01-21</td>\n",
       "      <td>Subway</td>\n",
       "      <td>place_53</td>\n",
       "      <td>3</td>\n",
       "      <td>2</td>\n",
       "    </tr>\n",
       "  </tbody>\n",
       "</table>\n",
       "</div>"
      ],
      "text/plain": [
       "            date store_name   store_id  total_signals  unique_visits\n",
       "3102  2021-01-21       Rewe  place_211             17              4\n",
       "3103  2021-01-21       Rewe  place_212             10              4\n",
       "3104  2021-01-21  Sparkasse  place_246              4              1\n",
       "3105  2021-01-21     Subway   place_52              6              1\n",
       "3106  2021-01-21     Subway   place_53              3              2"
      ]
     },
     "execution_count": 64,
     "metadata": {},
     "output_type": "execute_result"
    }
   ],
   "source": [
    "ssu_total_and_unique.tail()"
   ]
  },
  {
   "cell_type": "markdown",
   "metadata": {},
   "source": [
    "### 1.c.iii A total number of unique visitors belonging to each affinity group."
   ]
  },
  {
   "cell_type": "code",
   "execution_count": 65,
   "metadata": {},
   "outputs": [
    {
     "data": {
      "text/plain": [
       "Index(['device_id', 'addidas', 'apple', 'bmw', 'employed', 'female', 'h_&_m',\n",
       "       'high_income', 'honda', 'job_seeking', 'low_income', 'male',\n",
       "       'mercedes-benz', 'middle_income', 'retired', 'student',\n",
       "       'tommy_helfinger'],\n",
       "      dtype='object')"
      ]
     },
     "execution_count": 65,
     "metadata": {},
     "output_type": "execute_result"
    }
   ],
   "source": [
    "users.columns"
   ]
  },
  {
   "cell_type": "code",
   "execution_count": 66,
   "metadata": {},
   "outputs": [
    {
     "name": "stdout",
     "output_type": "stream",
     "text": [
      "Creating total number of unique visitors belonging to each affinity group...\n",
      "The above task took 0.1 minutes.\n"
     ]
    }
   ],
   "source": [
    "# total number of unique visitors belonging to each affinity group\n",
    "start = time.time()\n",
    "print(\"Creating total number of unique visitors belonging to each affinity group...\")\n",
    "\n",
    "ssu_unique_aff = (signals_stores_useraff\n",
    "                  .drop([\"lat\", \"lon\", \"geometry\", \"index_right\"], axis=1)\n",
    "                  .drop_duplicates(subset=[\"date\", \"store_name\", \"store_id\", \"device_id\"])\n",
    "                  .groupby(by=[\"date\", \"store_name\", \"store_id\"])\n",
    "                  .agg(sum) # would sum lat, lon and device_id as well what is nonsense!!!\n",
    "                  .reset_index()\n",
    "                  .drop([\"device_id\"], axis=1))\n",
    "\n",
    "end = time.time()\n",
    "dt = end - start\n",
    "print(f\"The above task took {round(dt/60, 2)} minutes.\")"
   ]
  },
  {
   "cell_type": "code",
   "execution_count": 67,
   "metadata": {},
   "outputs": [
    {
     "data": {
      "text/plain": [
       "(3107, 19)"
      ]
     },
     "execution_count": 67,
     "metadata": {},
     "output_type": "execute_result"
    }
   ],
   "source": [
    "ssu_unique_aff.shape"
   ]
  },
  {
   "cell_type": "code",
   "execution_count": 68,
   "metadata": {},
   "outputs": [
    {
     "data": {
      "text/html": [
       "<div>\n",
       "<style scoped>\n",
       "    .dataframe tbody tr th:only-of-type {\n",
       "        vertical-align: middle;\n",
       "    }\n",
       "\n",
       "    .dataframe tbody tr th {\n",
       "        vertical-align: top;\n",
       "    }\n",
       "\n",
       "    .dataframe thead th {\n",
       "        text-align: right;\n",
       "    }\n",
       "</style>\n",
       "<table border=\"1\" class=\"dataframe\">\n",
       "  <thead>\n",
       "    <tr style=\"text-align: right;\">\n",
       "      <th></th>\n",
       "      <th>date</th>\n",
       "      <th>store_name</th>\n",
       "      <th>store_id</th>\n",
       "      <th>addidas</th>\n",
       "      <th>apple</th>\n",
       "      <th>bmw</th>\n",
       "      <th>employed</th>\n",
       "      <th>female</th>\n",
       "      <th>h_&amp;_m</th>\n",
       "      <th>high_income</th>\n",
       "      <th>honda</th>\n",
       "      <th>job_seeking</th>\n",
       "      <th>low_income</th>\n",
       "      <th>male</th>\n",
       "      <th>mercedes-benz</th>\n",
       "      <th>middle_income</th>\n",
       "      <th>retired</th>\n",
       "      <th>student</th>\n",
       "      <th>tommy_helfinger</th>\n",
       "    </tr>\n",
       "  </thead>\n",
       "  <tbody>\n",
       "    <tr>\n",
       "      <th>0</th>\n",
       "      <td>2021-01-01</td>\n",
       "      <td>Aldi</td>\n",
       "      <td>place_135</td>\n",
       "      <td>0</td>\n",
       "      <td>0</td>\n",
       "      <td>0</td>\n",
       "      <td>0</td>\n",
       "      <td>0</td>\n",
       "      <td>0</td>\n",
       "      <td>0</td>\n",
       "      <td>1</td>\n",
       "      <td>0</td>\n",
       "      <td>0</td>\n",
       "      <td>1</td>\n",
       "      <td>1</td>\n",
       "      <td>1</td>\n",
       "      <td>0</td>\n",
       "      <td>0</td>\n",
       "      <td>0</td>\n",
       "    </tr>\n",
       "    <tr>\n",
       "      <th>1</th>\n",
       "      <td>2021-01-01</td>\n",
       "      <td>Aldi</td>\n",
       "      <td>place_64</td>\n",
       "      <td>0</td>\n",
       "      <td>0</td>\n",
       "      <td>0</td>\n",
       "      <td>0</td>\n",
       "      <td>0</td>\n",
       "      <td>0</td>\n",
       "      <td>0</td>\n",
       "      <td>1</td>\n",
       "      <td>0</td>\n",
       "      <td>2</td>\n",
       "      <td>3</td>\n",
       "      <td>0</td>\n",
       "      <td>1</td>\n",
       "      <td>0</td>\n",
       "      <td>0</td>\n",
       "      <td>0</td>\n",
       "    </tr>\n",
       "    <tr>\n",
       "      <th>2</th>\n",
       "      <td>2021-01-01</td>\n",
       "      <td>Aldi</td>\n",
       "      <td>place_72</td>\n",
       "      <td>0</td>\n",
       "      <td>0</td>\n",
       "      <td>0</td>\n",
       "      <td>0</td>\n",
       "      <td>0</td>\n",
       "      <td>0</td>\n",
       "      <td>1</td>\n",
       "      <td>0</td>\n",
       "      <td>0</td>\n",
       "      <td>0</td>\n",
       "      <td>1</td>\n",
       "      <td>0</td>\n",
       "      <td>0</td>\n",
       "      <td>1</td>\n",
       "      <td>0</td>\n",
       "      <td>0</td>\n",
       "    </tr>\n",
       "    <tr>\n",
       "      <th>3</th>\n",
       "      <td>2021-01-01</td>\n",
       "      <td>Aldi</td>\n",
       "      <td>place_79</td>\n",
       "      <td>0</td>\n",
       "      <td>0</td>\n",
       "      <td>0</td>\n",
       "      <td>0</td>\n",
       "      <td>0</td>\n",
       "      <td>1</td>\n",
       "      <td>0</td>\n",
       "      <td>0</td>\n",
       "      <td>0</td>\n",
       "      <td>0</td>\n",
       "      <td>2</td>\n",
       "      <td>0</td>\n",
       "      <td>2</td>\n",
       "      <td>0</td>\n",
       "      <td>0</td>\n",
       "      <td>0</td>\n",
       "    </tr>\n",
       "    <tr>\n",
       "      <th>4</th>\n",
       "      <td>2021-01-01</td>\n",
       "      <td>Aldi</td>\n",
       "      <td>place_84</td>\n",
       "      <td>0</td>\n",
       "      <td>0</td>\n",
       "      <td>0</td>\n",
       "      <td>0</td>\n",
       "      <td>0</td>\n",
       "      <td>0</td>\n",
       "      <td>0</td>\n",
       "      <td>0</td>\n",
       "      <td>0</td>\n",
       "      <td>0</td>\n",
       "      <td>1</td>\n",
       "      <td>0</td>\n",
       "      <td>1</td>\n",
       "      <td>0</td>\n",
       "      <td>0</td>\n",
       "      <td>0</td>\n",
       "    </tr>\n",
       "  </tbody>\n",
       "</table>\n",
       "</div>"
      ],
      "text/plain": [
       "         date store_name   store_id  addidas  apple  bmw  employed  female  \\\n",
       "0  2021-01-01       Aldi  place_135        0      0    0         0       0   \n",
       "1  2021-01-01       Aldi   place_64        0      0    0         0       0   \n",
       "2  2021-01-01       Aldi   place_72        0      0    0         0       0   \n",
       "3  2021-01-01       Aldi   place_79        0      0    0         0       0   \n",
       "4  2021-01-01       Aldi   place_84        0      0    0         0       0   \n",
       "\n",
       "   h_&_m  high_income  honda  job_seeking  low_income  male  mercedes-benz  \\\n",
       "0      0            0      1            0           0     1              1   \n",
       "1      0            0      1            0           2     3              0   \n",
       "2      0            1      0            0           0     1              0   \n",
       "3      1            0      0            0           0     2              0   \n",
       "4      0            0      0            0           0     1              0   \n",
       "\n",
       "   middle_income  retired  student  tommy_helfinger  \n",
       "0              1        0        0                0  \n",
       "1              1        0        0                0  \n",
       "2              0        1        0                0  \n",
       "3              2        0        0                0  \n",
       "4              1        0        0                0  "
      ]
     },
     "execution_count": 68,
     "metadata": {},
     "output_type": "execute_result"
    }
   ],
   "source": [
    "ssu_unique_aff.head()"
   ]
  },
  {
   "cell_type": "code",
   "execution_count": 69,
   "metadata": {},
   "outputs": [],
   "source": [
    "# delete unnecessary columns\n",
    "ssu_unique_aff = ssu_unique_aff.drop([\"date\", \"store_name\", \"store_id\"], axis=1)"
   ]
  },
  {
   "cell_type": "code",
   "execution_count": 70,
   "metadata": {},
   "outputs": [
    {
     "data": {
      "text/html": [
       "<div>\n",
       "<style scoped>\n",
       "    .dataframe tbody tr th:only-of-type {\n",
       "        vertical-align: middle;\n",
       "    }\n",
       "\n",
       "    .dataframe tbody tr th {\n",
       "        vertical-align: top;\n",
       "    }\n",
       "\n",
       "    .dataframe thead th {\n",
       "        text-align: right;\n",
       "    }\n",
       "</style>\n",
       "<table border=\"1\" class=\"dataframe\">\n",
       "  <thead>\n",
       "    <tr style=\"text-align: right;\">\n",
       "      <th></th>\n",
       "      <th>addidas</th>\n",
       "      <th>apple</th>\n",
       "      <th>bmw</th>\n",
       "      <th>employed</th>\n",
       "      <th>female</th>\n",
       "      <th>h_&amp;_m</th>\n",
       "      <th>high_income</th>\n",
       "      <th>honda</th>\n",
       "      <th>job_seeking</th>\n",
       "      <th>low_income</th>\n",
       "      <th>male</th>\n",
       "      <th>mercedes-benz</th>\n",
       "      <th>middle_income</th>\n",
       "      <th>retired</th>\n",
       "      <th>student</th>\n",
       "      <th>tommy_helfinger</th>\n",
       "    </tr>\n",
       "  </thead>\n",
       "  <tbody>\n",
       "    <tr>\n",
       "      <th>0</th>\n",
       "      <td>0</td>\n",
       "      <td>0</td>\n",
       "      <td>0</td>\n",
       "      <td>0</td>\n",
       "      <td>0</td>\n",
       "      <td>0</td>\n",
       "      <td>0</td>\n",
       "      <td>1</td>\n",
       "      <td>0</td>\n",
       "      <td>0</td>\n",
       "      <td>1</td>\n",
       "      <td>1</td>\n",
       "      <td>1</td>\n",
       "      <td>0</td>\n",
       "      <td>0</td>\n",
       "      <td>0</td>\n",
       "    </tr>\n",
       "    <tr>\n",
       "      <th>1</th>\n",
       "      <td>0</td>\n",
       "      <td>0</td>\n",
       "      <td>0</td>\n",
       "      <td>0</td>\n",
       "      <td>0</td>\n",
       "      <td>0</td>\n",
       "      <td>0</td>\n",
       "      <td>1</td>\n",
       "      <td>0</td>\n",
       "      <td>2</td>\n",
       "      <td>3</td>\n",
       "      <td>0</td>\n",
       "      <td>1</td>\n",
       "      <td>0</td>\n",
       "      <td>0</td>\n",
       "      <td>0</td>\n",
       "    </tr>\n",
       "    <tr>\n",
       "      <th>2</th>\n",
       "      <td>0</td>\n",
       "      <td>0</td>\n",
       "      <td>0</td>\n",
       "      <td>0</td>\n",
       "      <td>0</td>\n",
       "      <td>0</td>\n",
       "      <td>1</td>\n",
       "      <td>0</td>\n",
       "      <td>0</td>\n",
       "      <td>0</td>\n",
       "      <td>1</td>\n",
       "      <td>0</td>\n",
       "      <td>0</td>\n",
       "      <td>1</td>\n",
       "      <td>0</td>\n",
       "      <td>0</td>\n",
       "    </tr>\n",
       "    <tr>\n",
       "      <th>3</th>\n",
       "      <td>0</td>\n",
       "      <td>0</td>\n",
       "      <td>0</td>\n",
       "      <td>0</td>\n",
       "      <td>0</td>\n",
       "      <td>1</td>\n",
       "      <td>0</td>\n",
       "      <td>0</td>\n",
       "      <td>0</td>\n",
       "      <td>0</td>\n",
       "      <td>2</td>\n",
       "      <td>0</td>\n",
       "      <td>2</td>\n",
       "      <td>0</td>\n",
       "      <td>0</td>\n",
       "      <td>0</td>\n",
       "    </tr>\n",
       "    <tr>\n",
       "      <th>4</th>\n",
       "      <td>0</td>\n",
       "      <td>0</td>\n",
       "      <td>0</td>\n",
       "      <td>0</td>\n",
       "      <td>0</td>\n",
       "      <td>0</td>\n",
       "      <td>0</td>\n",
       "      <td>0</td>\n",
       "      <td>0</td>\n",
       "      <td>0</td>\n",
       "      <td>1</td>\n",
       "      <td>0</td>\n",
       "      <td>1</td>\n",
       "      <td>0</td>\n",
       "      <td>0</td>\n",
       "      <td>0</td>\n",
       "    </tr>\n",
       "  </tbody>\n",
       "</table>\n",
       "</div>"
      ],
      "text/plain": [
       "   addidas  apple  bmw  employed  female  h_&_m  high_income  honda  \\\n",
       "0        0      0    0         0       0      0            0      1   \n",
       "1        0      0    0         0       0      0            0      1   \n",
       "2        0      0    0         0       0      0            1      0   \n",
       "3        0      0    0         0       0      1            0      0   \n",
       "4        0      0    0         0       0      0            0      0   \n",
       "\n",
       "   job_seeking  low_income  male  mercedes-benz  middle_income  retired  \\\n",
       "0            0           0     1              1              1        0   \n",
       "1            0           2     3              0              1        0   \n",
       "2            0           0     1              0              0        1   \n",
       "3            0           0     2              0              2        0   \n",
       "4            0           0     1              0              1        0   \n",
       "\n",
       "   student  tommy_helfinger  \n",
       "0        0                0  \n",
       "1        0                0  \n",
       "2        0                0  \n",
       "3        0                0  \n",
       "4        0                0  "
      ]
     },
     "execution_count": 70,
     "metadata": {},
     "output_type": "execute_result"
    }
   ],
   "source": [
    "ssu_unique_aff.head()"
   ]
  },
  {
   "cell_type": "markdown",
   "metadata": {},
   "source": [
    "### concat the ssu_total_and_unique and ssu_unique_aff"
   ]
  },
  {
   "cell_type": "code",
   "execution_count": 71,
   "metadata": {},
   "outputs": [],
   "source": [
    "# concat the gsu_total_and_unique and gsu_unique_aff\n",
    "final_df = pd.concat([ssu_total_and_unique, ssu_unique_aff], axis=1)"
   ]
  },
  {
   "cell_type": "code",
   "execution_count": 72,
   "metadata": {},
   "outputs": [
    {
     "data": {
      "text/plain": [
       "(3107, 21)"
      ]
     },
     "execution_count": 72,
     "metadata": {},
     "output_type": "execute_result"
    }
   ],
   "source": [
    "final_df.shape"
   ]
  },
  {
   "cell_type": "code",
   "execution_count": 73,
   "metadata": {},
   "outputs": [
    {
     "data": {
      "text/html": [
       "<div>\n",
       "<style scoped>\n",
       "    .dataframe tbody tr th:only-of-type {\n",
       "        vertical-align: middle;\n",
       "    }\n",
       "\n",
       "    .dataframe tbody tr th {\n",
       "        vertical-align: top;\n",
       "    }\n",
       "\n",
       "    .dataframe thead th {\n",
       "        text-align: right;\n",
       "    }\n",
       "</style>\n",
       "<table border=\"1\" class=\"dataframe\">\n",
       "  <thead>\n",
       "    <tr style=\"text-align: right;\">\n",
       "      <th></th>\n",
       "      <th>date</th>\n",
       "      <th>store_name</th>\n",
       "      <th>store_id</th>\n",
       "      <th>total_signals</th>\n",
       "      <th>unique_visits</th>\n",
       "      <th>addidas</th>\n",
       "      <th>apple</th>\n",
       "      <th>bmw</th>\n",
       "      <th>employed</th>\n",
       "      <th>female</th>\n",
       "      <th>h_&amp;_m</th>\n",
       "      <th>high_income</th>\n",
       "      <th>honda</th>\n",
       "      <th>job_seeking</th>\n",
       "      <th>low_income</th>\n",
       "      <th>male</th>\n",
       "      <th>mercedes-benz</th>\n",
       "      <th>middle_income</th>\n",
       "      <th>retired</th>\n",
       "      <th>student</th>\n",
       "      <th>tommy_helfinger</th>\n",
       "    </tr>\n",
       "  </thead>\n",
       "  <tbody>\n",
       "    <tr>\n",
       "      <th>0</th>\n",
       "      <td>2021-01-01</td>\n",
       "      <td>Aldi</td>\n",
       "      <td>place_135</td>\n",
       "      <td>2</td>\n",
       "      <td>1</td>\n",
       "      <td>0</td>\n",
       "      <td>0</td>\n",
       "      <td>0</td>\n",
       "      <td>0</td>\n",
       "      <td>0</td>\n",
       "      <td>0</td>\n",
       "      <td>0</td>\n",
       "      <td>1</td>\n",
       "      <td>0</td>\n",
       "      <td>0</td>\n",
       "      <td>1</td>\n",
       "      <td>1</td>\n",
       "      <td>1</td>\n",
       "      <td>0</td>\n",
       "      <td>0</td>\n",
       "      <td>0</td>\n",
       "    </tr>\n",
       "    <tr>\n",
       "      <th>1</th>\n",
       "      <td>2021-01-01</td>\n",
       "      <td>Aldi</td>\n",
       "      <td>place_64</td>\n",
       "      <td>5</td>\n",
       "      <td>3</td>\n",
       "      <td>0</td>\n",
       "      <td>0</td>\n",
       "      <td>0</td>\n",
       "      <td>0</td>\n",
       "      <td>0</td>\n",
       "      <td>0</td>\n",
       "      <td>0</td>\n",
       "      <td>1</td>\n",
       "      <td>0</td>\n",
       "      <td>2</td>\n",
       "      <td>3</td>\n",
       "      <td>0</td>\n",
       "      <td>1</td>\n",
       "      <td>0</td>\n",
       "      <td>0</td>\n",
       "      <td>0</td>\n",
       "    </tr>\n",
       "    <tr>\n",
       "      <th>2</th>\n",
       "      <td>2021-01-01</td>\n",
       "      <td>Aldi</td>\n",
       "      <td>place_72</td>\n",
       "      <td>5</td>\n",
       "      <td>1</td>\n",
       "      <td>0</td>\n",
       "      <td>0</td>\n",
       "      <td>0</td>\n",
       "      <td>0</td>\n",
       "      <td>0</td>\n",
       "      <td>0</td>\n",
       "      <td>1</td>\n",
       "      <td>0</td>\n",
       "      <td>0</td>\n",
       "      <td>0</td>\n",
       "      <td>1</td>\n",
       "      <td>0</td>\n",
       "      <td>0</td>\n",
       "      <td>1</td>\n",
       "      <td>0</td>\n",
       "      <td>0</td>\n",
       "    </tr>\n",
       "    <tr>\n",
       "      <th>3</th>\n",
       "      <td>2021-01-01</td>\n",
       "      <td>Aldi</td>\n",
       "      <td>place_79</td>\n",
       "      <td>10</td>\n",
       "      <td>2</td>\n",
       "      <td>0</td>\n",
       "      <td>0</td>\n",
       "      <td>0</td>\n",
       "      <td>0</td>\n",
       "      <td>0</td>\n",
       "      <td>1</td>\n",
       "      <td>0</td>\n",
       "      <td>0</td>\n",
       "      <td>0</td>\n",
       "      <td>0</td>\n",
       "      <td>2</td>\n",
       "      <td>0</td>\n",
       "      <td>2</td>\n",
       "      <td>0</td>\n",
       "      <td>0</td>\n",
       "      <td>0</td>\n",
       "    </tr>\n",
       "    <tr>\n",
       "      <th>4</th>\n",
       "      <td>2021-01-01</td>\n",
       "      <td>Aldi</td>\n",
       "      <td>place_84</td>\n",
       "      <td>1</td>\n",
       "      <td>1</td>\n",
       "      <td>0</td>\n",
       "      <td>0</td>\n",
       "      <td>0</td>\n",
       "      <td>0</td>\n",
       "      <td>0</td>\n",
       "      <td>0</td>\n",
       "      <td>0</td>\n",
       "      <td>0</td>\n",
       "      <td>0</td>\n",
       "      <td>0</td>\n",
       "      <td>1</td>\n",
       "      <td>0</td>\n",
       "      <td>1</td>\n",
       "      <td>0</td>\n",
       "      <td>0</td>\n",
       "      <td>0</td>\n",
       "    </tr>\n",
       "  </tbody>\n",
       "</table>\n",
       "</div>"
      ],
      "text/plain": [
       "         date store_name   store_id  total_signals  unique_visits  addidas  \\\n",
       "0  2021-01-01       Aldi  place_135              2              1        0   \n",
       "1  2021-01-01       Aldi   place_64              5              3        0   \n",
       "2  2021-01-01       Aldi   place_72              5              1        0   \n",
       "3  2021-01-01       Aldi   place_79             10              2        0   \n",
       "4  2021-01-01       Aldi   place_84              1              1        0   \n",
       "\n",
       "   apple  bmw  employed  female  h_&_m  high_income  honda  job_seeking  \\\n",
       "0      0    0         0       0      0            0      1            0   \n",
       "1      0    0         0       0      0            0      1            0   \n",
       "2      0    0         0       0      0            1      0            0   \n",
       "3      0    0         0       0      1            0      0            0   \n",
       "4      0    0         0       0      0            0      0            0   \n",
       "\n",
       "   low_income  male  mercedes-benz  middle_income  retired  student  \\\n",
       "0           0     1              1              1        0        0   \n",
       "1           2     3              0              1        0        0   \n",
       "2           0     1              0              0        1        0   \n",
       "3           0     2              0              2        0        0   \n",
       "4           0     1              0              1        0        0   \n",
       "\n",
       "   tommy_helfinger  \n",
       "0                0  \n",
       "1                0  \n",
       "2                0  \n",
       "3                0  \n",
       "4                0  "
      ]
     },
     "execution_count": 73,
     "metadata": {},
     "output_type": "execute_result"
    }
   ],
   "source": [
    "final_df.head()"
   ]
  },
  {
   "cell_type": "code",
   "execution_count": 74,
   "metadata": {},
   "outputs": [
    {
     "name": "stdout",
     "output_type": "stream",
     "text": [
      "final_df saved as csv\n"
     ]
    }
   ],
   "source": [
    "# save final df as csv\n",
    "final_df.to_csv(\"../out_data_full/analysis.csv.\", index=False)\n",
    "print(\"final_df saved as csv\")"
   ]
  },
  {
   "cell_type": "code",
   "execution_count": 75,
   "metadata": {},
   "outputs": [],
   "source": [
    "# Took about 3 minutes 20 seconds :)"
   ]
  },
  {
   "cell_type": "code",
   "execution_count": null,
   "metadata": {},
   "outputs": [],
   "source": []
  }
 ],
 "metadata": {
  "kernelspec": {
   "display_name": "Python 3",
   "language": "python",
   "name": "python3"
  },
  "language_info": {
   "codemirror_mode": {
    "name": "ipython",
    "version": 3
   },
   "file_extension": ".py",
   "mimetype": "text/x-python",
   "name": "python",
   "nbconvert_exporter": "python",
   "pygments_lexer": "ipython3",
   "version": "3.8.5"
  }
 },
 "nbformat": 4,
 "nbformat_minor": 4
}
